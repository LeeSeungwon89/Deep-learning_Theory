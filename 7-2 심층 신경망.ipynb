{
  "nbformat": 4,
  "nbformat_minor": 0,
  "metadata": {
    "colab": {
      "name": "7-2 심층 신경망.ipynb",
      "provenance": [],
      "authorship_tag": "ABX9TyNXqG8A6502qljvE4Gj4iBI",
      "include_colab_link": true
    },
    "kernelspec": {
      "name": "python3",
      "display_name": "Python 3"
    },
    "language_info": {
      "name": "python"
    }
  },
  "cells": [
    {
      "cell_type": "markdown",
      "metadata": {
        "id": "view-in-github",
        "colab_type": "text"
      },
      "source": [
        "<a href=\"https://colab.research.google.com/github/LeeSeungwon89/Deep-learning_Theory/blob/main/7-2%20%EC%8B%AC%EC%B8%B5%20%EC%8B%A0%EA%B2%BD%EB%A7%9D.ipynb\" target=\"_parent\"><img src=\"https://colab.research.google.com/assets/colab-badge.svg\" alt=\"Open In Colab\"/></a>"
      ]
    },
    {
      "cell_type": "markdown",
      "source": [
        "# **7-2 심층 신경망**"
      ],
      "metadata": {
        "id": "BqPF59nyrmb0"
      }
    },
    {
      "cell_type": "markdown",
      "source": [
        "## **2개의 층**"
      ],
      "metadata": {
        "id": "xNmTOLMAroMJ"
      }
    },
    {
      "cell_type": "markdown",
      "source": [
        "## **심층 신경망 만들기**"
      ],
      "metadata": {
        "id": "Iw6TK8E2roJn"
      }
    },
    {
      "cell_type": "markdown",
      "source": [
        "## **층을 추가하는 다른 방법**"
      ],
      "metadata": {
        "id": "7cHE49HBrntv"
      }
    },
    {
      "cell_type": "markdown",
      "source": [
        "## **렐루 함수**"
      ],
      "metadata": {
        "id": "dNII2NpBrnrY"
      }
    },
    {
      "cell_type": "markdown",
      "source": [
        "## **옵티마이저**"
      ],
      "metadata": {
        "id": "EEEZQIPJrnoZ"
      }
    }
  ]
}