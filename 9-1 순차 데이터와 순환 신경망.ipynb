{
  "nbformat": 4,
  "nbformat_minor": 0,
  "metadata": {
    "colab": {
      "name": "9-1 순차 데이터와 순환 신경망.ipynb",
      "provenance": [],
      "authorship_tag": "ABX9TyP8qNihulHDdB97DNFzCAiJ",
      "include_colab_link": true
    },
    "kernelspec": {
      "name": "python3",
      "display_name": "Python 3"
    },
    "language_info": {
      "name": "python"
    }
  },
  "cells": [
    {
      "cell_type": "markdown",
      "metadata": {
        "id": "view-in-github",
        "colab_type": "text"
      },
      "source": [
        "<a href=\"https://colab.research.google.com/github/LeeSeungwon89/Deep-learning_Theory/blob/main/9-1%20%EC%88%9C%EC%B0%A8%20%EB%8D%B0%EC%9D%B4%ED%84%B0%EC%99%80%20%EC%88%9C%ED%99%98%20%EC%8B%A0%EA%B2%BD%EB%A7%9D.ipynb\" target=\"_parent\"><img src=\"https://colab.research.google.com/assets/colab-badge.svg\" alt=\"Open In Colab\"/></a>"
      ]
    },
    {
      "cell_type": "markdown",
      "source": [
        "# **9-1 순차 데이터와 순환 신경망**"
      ],
      "metadata": {
        "id": "Z4OMQWEWwNz8"
      }
    },
    {
      "cell_type": "markdown",
      "source": [
        "## **순차 데이터**"
      ],
      "metadata": {
        "id": "S1vtRuHhwNxN"
      }
    },
    {
      "cell_type": "markdown",
      "source": [
        "## **순환 신경망**"
      ],
      "metadata": {
        "id": "WzkxzvhywNu0"
      }
    },
    {
      "cell_type": "markdown",
      "source": [
        "## **셀의 가중치와 입출력**"
      ],
      "metadata": {
        "id": "cDmgKh1CwNsd"
      }
    }
  ]
}