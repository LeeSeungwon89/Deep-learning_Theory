{
  "nbformat": 4,
  "nbformat_minor": 0,
  "metadata": {
    "colab": {
      "name": "8-1 합성곱 신경망의 구성 요소.ipynb",
      "provenance": [],
      "authorship_tag": "ABX9TyP3VNvClC1g/L+8oVfboiqF",
      "include_colab_link": true
    },
    "kernelspec": {
      "name": "python3",
      "display_name": "Python 3"
    },
    "language_info": {
      "name": "python"
    }
  },
  "cells": [
    {
      "cell_type": "markdown",
      "metadata": {
        "id": "view-in-github",
        "colab_type": "text"
      },
      "source": [
        "<a href=\"https://colab.research.google.com/github/LeeSeungwon89/Deep-learning_Theory/blob/main/8-1%20%ED%95%A9%EC%84%B1%EA%B3%B1%20%EC%8B%A0%EA%B2%BD%EB%A7%9D%EC%9D%98%20%EA%B5%AC%EC%84%B1%20%EC%9A%94%EC%86%8C.ipynb\" target=\"_parent\"><img src=\"https://colab.research.google.com/assets/colab-badge.svg\" alt=\"Open In Colab\"/></a>"
      ]
    },
    {
      "cell_type": "markdown",
      "source": [
        "# **8-1 합성곱 신경망의 구성 요소**"
      ],
      "metadata": {
        "id": "h1Ko3hFatU8i"
      }
    },
    {
      "cell_type": "markdown",
      "source": [
        "## **합성곱**"
      ],
      "metadata": {
        "id": "kVqxSzfZtU5s"
      }
    },
    {
      "cell_type": "markdown",
      "source": [
        "## **케라스 합성곱 층**"
      ],
      "metadata": {
        "id": "b70EFaf3tU22"
      }
    },
    {
      "cell_type": "markdown",
      "source": [
        "### **패딩과 스트라이드**"
      ],
      "metadata": {
        "id": "SmJt524OtU0k"
      }
    },
    {
      "cell_type": "markdown",
      "source": [
        "### **풀링**"
      ],
      "metadata": {
        "id": "rejRcKeltUyF"
      }
    },
    {
      "cell_type": "markdown",
      "source": [
        "## **합성곱 신경망의 전체 구조**"
      ],
      "metadata": {
        "id": "Yp-vPcdStUvk"
      }
    },
    {
      "cell_type": "markdown",
      "source": [
        "### **컬러 이미지를 사용한 합성곱**"
      ],
      "metadata": {
        "id": "6Yd533IntUtE"
      }
    }
  ]
}