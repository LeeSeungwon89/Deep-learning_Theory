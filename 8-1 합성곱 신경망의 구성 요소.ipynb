{
  "nbformat": 4,
  "nbformat_minor": 0,
  "metadata": {
    "colab": {
      "name": "8-1 합성곱 신경망의 구성 요소.ipynb",
      "provenance": [],
      "collapsed_sections": [],
      "authorship_tag": "ABX9TyP37guoA0vBMB2HRRD/FsqY",
      "include_colab_link": true
    },
    "kernelspec": {
      "name": "python3",
      "display_name": "Python 3"
    },
    "language_info": {
      "name": "python"
    }
  },
  "cells": [
    {
      "cell_type": "markdown",
      "metadata": {
        "id": "view-in-github",
        "colab_type": "text"
      },
      "source": [
        "<a href=\"https://colab.research.google.com/github/LeeSeungwon89/Deep-learning_Theory/blob/main/8-1%20%ED%95%A9%EC%84%B1%EA%B3%B1%20%EC%8B%A0%EA%B2%BD%EB%A7%9D%EC%9D%98%20%EA%B5%AC%EC%84%B1%20%EC%9A%94%EC%86%8C.ipynb\" target=\"_parent\"><img src=\"https://colab.research.google.com/assets/colab-badge.svg\" alt=\"Open In Colab\"/></a>"
      ]
    },
    {
      "cell_type": "markdown",
      "source": [
        "# **8-1 합성곱 신경망의 구성 요소**"
      ],
      "metadata": {
        "id": "h1Ko3hFatU8i"
      }
    },
    {
      "cell_type": "markdown",
      "source": [
        "이 챕터는 그림 설명이 많은 챕터이므로 본서를 함께 참고하시는 편이 좋습니다."
      ],
      "metadata": {
        "id": "Y9aC4BxkHxrn"
      }
    },
    {
      "cell_type": "markdown",
      "source": [
        "## **합성곱**"
      ],
      "metadata": {
        "id": "kVqxSzfZtU5s"
      }
    },
    {
      "cell_type": "markdown",
      "source": [
        "**합성곱(convolution)**은 입력 데이터에 마법의 도장을 찍어서 유용한 특성만 드러나게 하는 것으로 비유할 수 있습니다. 밀집층에는 유닛마다 입력 개수만큼 가중치가 존재합니다. 모든 입력에 가중치를 곱하는 것입니다. 반면 합성곱 층은 입력 데이터 전체에 가중치를 곱하지 않고 일부에만 가중치를 곱합니다. 예컨대 밀집층에 유닛이 10개 존재한다면 가중치도 10개입니다. 반면 합성곱 층에 유닛이 10개 존재한다면 가중치는 10개가 아니라 3개입니다. 물론 가중치 개수는 임의로 정할 수 있습니다. 일종의 하이퍼파라미터입니다.\n",
        "\n",
        "유닛 10개, 가중치 3개가 존재한다고 가정하겠습니다. 각 유닛은 A, B, C, ..., I, J이며 총 10개이며, 가중치는 $w1$ ~ $w3$이며 총 3개입니다.\n",
        "\n",
        "1. 특성 A, B, C에 가중치 $W_1$ ~ $W_3$이 각각 곱해지고 절편이 더해져 출력 1개가 만들어집니다.\n",
        "\n",
        "1. 특성 B, C, D에 가중치 $W_1$ ~ $W_3$이 각각 곱해지고 절편이 더해져 출력 1개가 만들어집니다.\n",
        "\n",
        "1. 같은 과정을 반복합니다.\n",
        "\n",
        "1. 특성 H, I, J에 가중치 $W_1$ ~ $W_3$이 각각 곱해지고 절편이 더해져 출력 1개가 만들어집니다.\n",
        "\n",
        "출력 8개가 만들어집니다. 밀집층에서 출력이 10개 만들어지는 것과 달리 합성곱 층에서는 출력이 8개 만들어집니다. \n",
        "\n",
        "이렇게 입력 데이터 위를 이동하면서 같은 도장(가중치 3개)을 하나씩 찍는 것으로 볼 수 있습니다. 도장을 한번 찍을 때마다 출력 1개가 만들어지는 것입니다. 기실 합성곱에서는 유닛이 입력 데이터 위를 이동하면서 출력을 만들기 때문에 유닛으로 부르기 어색합니다. **합성곱 신경망(convolutional neural network, CNN)**에서는 완전 연결 신경망(밀집층만 사용한 신경망(밀집 신경망))에서의 유닛을 **필터(filter)** 또는 **커널(kernel)**이라고 부릅니다. 유닛과 필터, 커널을 구분 없이 부르기도 합니다."
      ],
      "metadata": {
        "id": "DaSMSbYYP0lK"
      }
    },
    {
      "cell_type": "markdown",
      "source": [
        "\n",
        "\n",
        "---\n",
        "\n",
        "작업 중\n",
        "\n",
        "---\n",
        "\n"
      ],
      "metadata": {
        "id": "8KkxpTMhWO9_"
      }
    },
    {
      "cell_type": "markdown",
      "source": [
        "## **케라스 합성곱 층**"
      ],
      "metadata": {
        "id": "b70EFaf3tU22"
      }
    },
    {
      "cell_type": "markdown",
      "source": [
        "### **패딩과 스트라이드**"
      ],
      "metadata": {
        "id": "SmJt524OtU0k"
      }
    },
    {
      "cell_type": "markdown",
      "source": [
        "### **풀링**"
      ],
      "metadata": {
        "id": "rejRcKeltUyF"
      }
    },
    {
      "cell_type": "markdown",
      "source": [
        "## **합성곱 신경망의 전체 구조**"
      ],
      "metadata": {
        "id": "Yp-vPcdStUvk"
      }
    },
    {
      "cell_type": "markdown",
      "source": [
        "### **컬러 이미지를 사용한 합성곱**"
      ],
      "metadata": {
        "id": "6Yd533IntUtE"
      }
    }
  ]
}