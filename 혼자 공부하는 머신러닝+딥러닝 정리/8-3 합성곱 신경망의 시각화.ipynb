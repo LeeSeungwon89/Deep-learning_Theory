{
  "nbformat": 4,
  "nbformat_minor": 0,
  "metadata": {
    "colab": {
      "provenance": [],
      "collapsed_sections": [],
      "authorship_tag": "ABX9TyNYNKdHZthpgfwYruwIj2+1",
      "include_colab_link": true
    },
    "kernelspec": {
      "name": "python3",
      "display_name": "Python 3"
    },
    "language_info": {
      "name": "python"
    }
  },
  "cells": [
    {
      "cell_type": "markdown",
      "metadata": {
        "id": "view-in-github",
        "colab_type": "text"
      },
      "source": [
        "<a href=\"https://colab.research.google.com/github/LeeSeungwon89/Deep-learning_Theory/blob/main/8-3%20%ED%95%A9%EC%84%B1%EA%B3%B1%20%EC%8B%A0%EA%B2%BD%EB%A7%9D%EC%9D%98%20%EC%8B%9C%EA%B0%81%ED%99%94.ipynb\" target=\"_parent\"><img src=\"https://colab.research.google.com/assets/colab-badge.svg\" alt=\"Open In Colab\"/></a>"
      ]
    },
    {
      "cell_type": "markdown",
      "source": [
        "# **8-3 합성곱 신경망의 시각화**"
      ],
      "metadata": {
        "id": "Ab3q6PO0v1Bm"
      }
    },
    {
      "cell_type": "markdown",
      "source": [
        "신경망이 이미지에서 어떤 것을 학습하는지 합성곱 층의 가중치와 특성 맵을 시각화하여 통해 확인해 보겠습니다."
      ],
      "metadata": {
        "id": "YTIFoyzwdxuo"
      }
    },
    {
      "cell_type": "markdown",
      "source": [
        "## **가중치 시각화**"
      ],
      "metadata": {
        "id": "bHJBBkETv0-8"
      }
    },
    {
      "cell_type": "markdown",
      "source": [
        "합성곱 층은 여러 필터를 사용하여 이미지에서 특징을 학습합니다. 각 필터는 커널이라 부르는 가중치와 절편을 가집니다. 절편은 시각적인 의미를 갖진 않지만 가중치는 입력 이미지의 2차원 영역에 적용되어 어떤 특징을 두드러지게 표현하는 역할을 가집니다. 예컨대 특정 필터가 이미지의 둥근 모서리에 도장을 찍었다면 어떤 특정 가중치는 둥근 모서리가 있는 영역에서는 크게 활성화되어 높은 값을 만들고 그렇지 않은 영역에서는 활성화되지 않은 낮은 값을 만듭니다. 이 높은 값을 토대로 둥근 모서리가 있는 입력과 곱해지면 큰 출력을 만듭니다.\n",
        "\n",
        "이전 챕터에서 학습한 가중치를 확인하기 위해 체크포인트 파일을 읽어 보겠습니다. 먼저 저자의 깃허브에 저장된 `best-cnn-model.h5` 파일을 다운로드하겠습니다. 8-2 챕터에서 생성했던 코드를 가져와도 무관합니다."
      ],
      "metadata": {
        "id": "YjV0fHeY5PYg"
      }
    },
    {
      "cell_type": "code",
      "source": [
        "!wget https://github.com/rickiepark/hg-mldl/raw/master/best-cnn-model.h5"
      ],
      "metadata": {
        "colab": {
          "base_uri": "https://localhost:8080/"
        },
        "id": "y149234WcFDp",
        "outputId": "3e5dc13b-064d-4678-a006-b9ba9fd8e0e1"
      },
      "execution_count": 18,
      "outputs": [
        {
          "output_type": "stream",
          "name": "stdout",
          "text": [
            "--2022-09-14 08:24:53--  https://github.com/rickiepark/hg-mldl/raw/master/best-cnn-model.h5\n",
            "Resolving github.com (github.com)... 140.82.112.4\n",
            "Connecting to github.com (github.com)|140.82.112.4|:443... connected.\n",
            "HTTP request sent, awaiting response... 302 Found\n",
            "Location: https://raw.githubusercontent.com/rickiepark/hg-mldl/master/best-cnn-model.h5 [following]\n",
            "--2022-09-14 08:24:53--  https://raw.githubusercontent.com/rickiepark/hg-mldl/master/best-cnn-model.h5\n",
            "Resolving raw.githubusercontent.com (raw.githubusercontent.com)... 185.199.108.133, 185.199.109.133, 185.199.110.133, ...\n",
            "Connecting to raw.githubusercontent.com (raw.githubusercontent.com)|185.199.108.133|:443... connected.\n",
            "HTTP request sent, awaiting response... 200 OK\n",
            "Length: 4049416 (3.9M) [application/octet-stream]\n",
            "Saving to: ‘best-cnn-model.h5.1’\n",
            "\n",
            "best-cnn-model.h5.1 100%[===================>]   3.86M  --.-KB/s    in 0.07s   \n",
            "\n",
            "2022-09-14 08:24:54 (56.2 MB/s) - ‘best-cnn-model.h5.1’ saved [4049416/4049416]\n",
            "\n"
          ]
        }
      ]
    },
    {
      "cell_type": "markdown",
      "source": [
        "체크포인트 파일을 읽어 보겠습니다."
      ],
      "metadata": {
        "id": "Pb8Cex3vdSEw"
      }
    },
    {
      "cell_type": "code",
      "source": [
        "from tensorflow import keras\n",
        "\n",
        "model = keras.models.load_model('best-cnn-model.h5')"
      ],
      "metadata": {
        "id": "KjkWcUQGbfyM"
      },
      "execution_count": 19,
      "outputs": []
    },
    {
      "cell_type": "markdown",
      "source": [
        "모델에 추가한 층을 확인해 보겠습니다. 모델의 `layers` 속성에 리스트 형식으로 저장되어 있습니다."
      ],
      "metadata": {
        "id": "l8Dx9P0odUYc"
      }
    },
    {
      "cell_type": "code",
      "source": [
        "model.layers"
      ],
      "metadata": {
        "colab": {
          "base_uri": "https://localhost:8080/"
        },
        "id": "cbMPtomVdXqN",
        "outputId": "63c41f6d-a064-4c3a-867d-6cb637b67f7a"
      },
      "execution_count": 20,
      "outputs": [
        {
          "output_type": "execute_result",
          "data": {
            "text/plain": [
              "[<keras.layers.convolutional.Conv2D at 0x7f5ae85b7d10>,\n",
              " <keras.layers.pooling.MaxPooling2D at 0x7f5ae855ba10>,\n",
              " <keras.layers.convolutional.Conv2D at 0x7f5ae63e6710>,\n",
              " <keras.layers.pooling.MaxPooling2D at 0x7f5ae9c19dd0>,\n",
              " <keras.layers.core.flatten.Flatten at 0x7f5aea24ca90>,\n",
              " <keras.layers.core.dense.Dense at 0x7f5aea1e3d10>,\n",
              " <keras.layers.core.dropout.Dropout at 0x7f5aea22bfd0>,\n",
              " <keras.layers.core.dense.Dense at 0x7f5ae5716c50>]"
            ]
          },
          "metadata": {},
          "execution_count": 20
        }
      ]
    },
    {
      "cell_type": "markdown",
      "source": [
        "먼저 처음 합성곱 층의 가중치를 확인하겠습니다. 가중치와 절편은 각 층의 `weights` 속성에 리스트 형식으로 저장되어 있습니다."
      ],
      "metadata": {
        "id": "VTE6r68Uedal"
      }
    },
    {
      "cell_type": "code",
      "source": [
        "conv = model.layers[0]\n",
        "# `weights[0]`은 가중치, `weights[1]`은 절편입니다.\n",
        "print(conv.weights[0])\n",
        "print(conv.weights[1])"
      ],
      "metadata": {
        "colab": {
          "base_uri": "https://localhost:8080/"
        },
        "id": "cEj1_DMpeuHV",
        "outputId": "00697599-24b2-42f1-c79c-6d3513a314d7"
      },
      "execution_count": 21,
      "outputs": [
        {
          "output_type": "stream",
          "name": "stdout",
          "text": [
            "<tf.Variable 'conv2d/kernel:0' shape=(3, 3, 1, 32) dtype=float32, numpy=\n",
            "array([[[[ 2.24588048e-02,  5.65292537e-02, -8.52608621e-01,\n",
            "           5.51108969e-03, -2.84124047e-01,  5.49770594e-02,\n",
            "           1.42099485e-01, -1.35188410e-02, -5.56270957e-01,\n",
            "          -1.61427796e-01, -1.63072810e-01,  7.48860016e-02,\n",
            "          -1.97094038e-01,  3.74589069e-03,  1.17388563e-02,\n",
            "           3.49008739e-01, -5.60458899e-01,  2.95836627e-01,\n",
            "           6.69615567e-02, -7.12780356e-02,  4.99922745e-02,\n",
            "           1.06703136e-02, -4.98783104e-02,  3.04090921e-02,\n",
            "          -3.88760604e-02, -1.53872028e-01,  1.51755556e-01,\n",
            "          -2.00085923e-01,  8.52966532e-02, -6.73547685e-02,\n",
            "           8.74601901e-02, -2.06523493e-01]],\n",
            "\n",
            "        [[ 1.73668079e-02,  2.76921540e-01,  1.56758521e-02,\n",
            "          -1.38880894e-01,  2.31679767e-01,  1.31663650e-01,\n",
            "          -6.39315844e-02,  4.06329334e-02, -5.02456963e-01,\n",
            "           1.28005192e-01,  2.44174451e-01, -1.98248819e-01,\n",
            "           2.77268946e-01,  4.43971157e-03,  6.26336113e-02,\n",
            "          -1.25815734e-01,  1.08388789e-01, -1.19721085e-01,\n",
            "           9.26479250e-02,  7.90223852e-02,  1.46965712e-01,\n",
            "           1.72503397e-01,  1.33275583e-01,  3.11717957e-01,\n",
            "           4.67492715e-02,  2.88876798e-02,  4.73992713e-02,\n",
            "          -8.95214975e-01, -2.03209430e-01, -2.54001766e-01,\n",
            "          -5.88094033e-02,  1.54236719e-01]],\n",
            "\n",
            "        [[-1.11498907e-01,  6.28654053e-03, -2.06420138e-01,\n",
            "           1.85503006e-01,  2.07337916e-01,  9.88674238e-02,\n",
            "          -2.53593177e-01, -1.30623251e-01,  3.22629325e-03,\n",
            "          -3.78436549e-03, -5.47748655e-02,  1.45539492e-01,\n",
            "           2.95069963e-01, -1.86193109e-01, -1.68201681e-02,\n",
            "           2.11085871e-01, -1.43543258e-01, -1.87745497e-01,\n",
            "           1.61038175e-01, -2.66766101e-01, -1.53796718e-01,\n",
            "          -2.02764347e-01, -6.16174266e-02,  1.80682510e-01,\n",
            "           1.97914224e-02,  1.45014256e-01, -5.69685698e-02,\n",
            "           1.30332857e-01, -8.52313042e-02, -3.78732622e-01,\n",
            "          -1.41017824e-01,  8.25114846e-02]]],\n",
            "\n",
            "\n",
            "       [[[ 1.11074455e-01, -1.41212022e+00, -1.16644430e+00,\n",
            "           1.16414679e-02, -2.27213487e-01,  9.66882929e-02,\n",
            "           2.37611651e-01,  8.86178613e-02, -2.91272730e-01,\n",
            "          -2.02066571e-01,  1.41530931e-01, -2.96204150e-01,\n",
            "           2.69307524e-01,  2.63176948e-01, -2.64393222e-02,\n",
            "           1.52638182e-01, -4.37844366e-01,  5.67928925e-02,\n",
            "           3.70325863e-01,  1.71960369e-01, -1.38286152e-03,\n",
            "           1.62087858e-01, -2.06493169e-01,  9.54690203e-03,\n",
            "          -3.49399507e-01, -3.33676487e-01, -1.96347997e-01,\n",
            "           7.36400932e-02,  1.10736497e-01,  2.46699620e-02,\n",
            "           5.28887063e-02, -7.04871565e-02]],\n",
            "\n",
            "        [[ 1.91272125e-01, -3.27133030e-01, -2.21365660e-01,\n",
            "          -2.73943871e-01,  1.19728921e-02,  1.45704105e-01,\n",
            "          -1.67989754e-03,  4.73905094e-02, -2.34464839e-01,\n",
            "          -1.50784075e-01,  2.72126973e-01,  1.42708331e-01,\n",
            "           1.78389758e-01, -2.53575686e-02, -1.48261100e-01,\n",
            "          -4.85006154e-01,  1.49223372e-01,  2.27333277e-01,\n",
            "          -1.50253430e-01,  2.81224847e-01,  2.13837102e-01,\n",
            "           1.97962090e-01,  3.42654526e-01, -2.26020411e-01,\n",
            "           2.71483719e-01,  2.30894536e-01, -3.45670670e-01,\n",
            "          -7.41241932e-01,  2.53680199e-01,  2.04552680e-01,\n",
            "           2.34624539e-02,  2.62477010e-01]],\n",
            "\n",
            "        [[-1.46154761e-01,  1.36977196e-01,  5.95551953e-02,\n",
            "           2.43405640e-01,  2.20144853e-01,  1.59509718e-01,\n",
            "          -3.01943928e-01,  1.05014697e-01, -5.38525395e-02,\n",
            "           1.81843877e-01, -3.91232252e-01,  1.87456414e-01,\n",
            "          -1.88228264e-01, -2.26811677e-01,  2.19625160e-01,\n",
            "           6.17996976e-03,  1.65960848e-01, -2.66018510e-01,\n",
            "          -2.44990483e-01, -1.66391551e-01, -2.84895068e-04,\n",
            "          -3.48049849e-01, -1.49118185e-01, -2.39176452e-01,\n",
            "           7.72415027e-02,  9.46035981e-02, -2.07745835e-01,\n",
            "          -3.18422198e-01,  9.52651426e-02,  1.38903454e-01,\n",
            "           1.19920269e-01, -1.70727775e-01]]],\n",
            "\n",
            "\n",
            "       [[[-1.80196226e-01, -6.30041182e-01, -2.13283807e-01,\n",
            "           7.08905701e-03, -1.15047581e-01, -1.27217034e-02,\n",
            "           1.60113797e-01, -3.50574553e-02,  6.85883537e-02,\n",
            "           3.26176554e-01,  1.52153447e-01,  1.82893761e-02,\n",
            "           3.17750834e-02,  1.92234665e-01, -3.14589500e-01,\n",
            "           7.48235732e-02,  1.15998790e-01, -3.98785979e-01,\n",
            "           1.99933454e-01, -5.93727492e-02, -1.82007015e-01,\n",
            "           2.14074150e-01, -1.61801696e-01,  5.95342703e-02,\n",
            "          -2.96390980e-01, -8.12709406e-02,  1.44885957e-01,\n",
            "           2.85369515e-01, -1.03806317e-01,  5.04928082e-02,\n",
            "          -5.14361784e-02, -7.22209439e-02]],\n",
            "\n",
            "        [[ 2.03204826e-01, -2.16066882e-01,  1.82291687e-01,\n",
            "          -2.21186787e-01, -8.65993351e-02, -1.20689966e-01,\n",
            "           1.23233281e-01,  6.04689755e-02,  1.38576195e-01,\n",
            "           9.84181371e-03, -9.47327390e-02,  1.71570078e-01,\n",
            "          -4.43237334e-01,  6.49662688e-02, -2.77577527e-02,\n",
            "          -2.74577409e-01,  1.18375659e-01,  2.40523726e-01,\n",
            "          -4.10040826e-01,  2.29905233e-01, -3.42483036e-02,\n",
            "          -1.82113722e-01,  2.39682585e-01,  2.47861985e-02,\n",
            "           3.27191949e-01, -1.26767838e-02,  9.32357088e-02,\n",
            "          -8.25637951e-02, -1.37198523e-01,  6.70654103e-02,\n",
            "           1.83920547e-01,  1.75054640e-01]],\n",
            "\n",
            "        [[ 4.20216992e-02,  2.64311194e-01,  1.62375957e-01,\n",
            "           2.02770710e-01,  8.86896774e-02, -1.18500568e-01,\n",
            "          -3.20688747e-02, -1.79974467e-01,  2.56456226e-01,\n",
            "          -2.02298835e-01, -5.56168333e-02, -1.85662583e-01,\n",
            "          -2.98700601e-01,  3.50925028e-02,  3.09546918e-01,\n",
            "          -1.42006502e-01,  4.29851599e-02,  1.57341719e-01,\n",
            "          -3.98131274e-02, -1.46165937e-01,  2.31044851e-02,\n",
            "           1.09075299e-02, -8.05500224e-02, -2.14389771e-01,\n",
            "          -4.05701548e-02,  8.64736363e-02,  3.05693746e-01,\n",
            "           1.70614004e-01,  1.84974968e-01,  1.65996134e-01,\n",
            "           1.46006182e-01, -1.22950561e-01]]]], dtype=float32)>\n",
            "<tf.Variable 'conv2d/bias:0' shape=(32,) dtype=float32, numpy=\n",
            "array([-0.03853422,  0.09091914,  0.09258637, -0.00289096, -0.00962143,\n",
            "       -0.02925124, -0.00843936, -0.00805209,  0.00603464,  0.00051539,\n",
            "       -0.01850378,  0.00103094, -0.00676414, -0.06912167, -0.02607193,\n",
            "       -0.00390364, -0.00302766, -0.00179979, -0.01703539, -0.00660135,\n",
            "       -0.00119761, -0.02363394, -0.00519065, -0.01606657, -0.01181919,\n",
            "       -0.00586764, -0.01332486,  0.07207218, -0.10474525,  0.00286691,\n",
            "       -0.05434637,  0.00552374], dtype=float32)>\n"
          ]
        }
      ]
    },
    {
      "cell_type": "markdown",
      "source": [
        "커널 크기는 (3, 3)이고 입력 깊이는 1이므로 실제 커널 크기는 (3, 3, 1)이며, 필터 개수는 32개이므로 (3, 3, 1, 32)입니다. 아울러 필터 개수에 따라 절편은 32개이므로 (32,)입니다.\n",
        "\n",
        "속성 `weights`를 다루기 쉽도록 넘파이 배열로 변환하고 가중치의 평균과 표준편차를 산출하고 추후에 훈련 전의 가중치와 비교하겠습니다."
      ],
      "metadata": {
        "id": "B4Xc-tKDfFDF"
      }
    },
    {
      "cell_type": "code",
      "source": [
        "conv_weights = conv.weights[0].numpy()\n",
        "print(conv_weights.mean(), conv_weights.std())"
      ],
      "metadata": {
        "colab": {
          "base_uri": "https://localhost:8080/"
        },
        "id": "g4uvIHTCK6fA",
        "outputId": "10bd52f5-74fd-4eaf-f942-c48a25a8cde6"
      },
      "execution_count": 22,
      "outputs": [
        {
          "output_type": "stream",
          "name": "stdout",
          "text": [
            "-0.021033935 0.23466988\n"
          ]
        }
      ]
    },
    {
      "cell_type": "markdown",
      "source": [
        "가중치의 분포를 확인하기 위해 히스토그램을 그려 보겠습니다."
      ],
      "metadata": {
        "id": "-uKKHVocLNIC"
      }
    },
    {
      "cell_type": "code",
      "source": [
        "import matplotlib.pyplot as plt\n",
        "\n",
        "plt.hist(conv_weights.reshape(-1, 1))\n",
        "plt.xlabel('weights')\n",
        "plt.ylabel('count')\n",
        "plt.show()"
      ],
      "metadata": {
        "colab": {
          "base_uri": "https://localhost:8080/",
          "height": 279
        },
        "id": "iEVcBE0HMfB_",
        "outputId": "bde30907-52b2-4c68-bda8-deaf5dccafa9"
      },
      "execution_count": 23,
      "outputs": [
        {
          "output_type": "display_data",
          "data": {
            "text/plain": [
              "<Figure size 432x288 with 1 Axes>"
            ],
            "image/png": "[encoded data removed]"
          },
          "metadata": {
            "needs_background": "light"
          }
        }
      ]
    },
    {
      "cell_type": "markdown",
      "source": [
        "종 모양 형태를 띕니다. 가중치가 무엇을 학습했는지 추후에 훈련 전의 가중치와 비교해 보겠습니다.\n",
        "\n",
        "커널 32개를 16개씩 두 줄로 나타내 보겠습니다. 커널 32개는 가중치 32개와 같은 의미입니다."
      ],
      "metadata": {
        "id": "ryHgGi4oNTWY"
      }
    },
    {
      "cell_type": "code",
      "source": [
        "fig, axs = plt.subplots(2, 16, figsize=(15, 2))\n",
        "for i in range(2):\n",
        "    for j in range(16):\n",
        "        axs[i, j].imshow(conv_weights[:, :, 0, i*16 + j], vmin=-0.5, vmax=0.5)\n",
        "        axs[i, j].axis('off')\n",
        "plt.show()"
      ],
      "metadata": {
        "colab": {
          "base_uri": "https://localhost:8080/",
          "height": 132
        },
        "id": "15b-E59xNna4",
        "outputId": "b33647c0-360f-453f-c316-fb2f61b31f06"
      },
      "execution_count": 24,
      "outputs": [
        {
          "output_type": "display_data",
          "data": {
            "text/plain": [
              "<Figure size 1080x144 with 32 Axes>"
            ],
            "image/png": "[encoded data removed]"
          },
          "metadata": {
            "needs_background": "light"
          }
        }
      ]
    },
    {
      "cell_type": "markdown",
      "source": [
        "`imshow()` 메서드는 배열이 가진 최댓값과 최솟값을 사용하여 픽셀 강도를 표현합니다. 0.1이든 0.4든 어떤 값이든 최댓값이면 가장 밝은 노란색으로 나타냅니다. 어떤 절댓값을 기준으로 삼아 픽셀 강도를 나타내면 비교하기 좋기 때문에 두 배열을 이 메서드로 비교하는 것은 옳지 않습니다. 따라서 매개변수 `vmin`과 `vmax`를 지정하여 컬러맵으로 표현할 범위를 지정했습니다.\n",
        "\n",
        "훈련한 가중치와 훈련하지 않은 가중치를 비교하기 위해 훈련하지 않은 빈 합성곱 신경망을 생성하고 시각화하여 비교해 보겠습니다. "
      ],
      "metadata": {
        "id": "3JN3rcgynbCG"
      }
    },
    {
      "cell_type": "code",
      "source": [
        "no_training_model = keras.Sequential()\n",
        "no_training_model.add(keras.layers.Conv2D(32, kernel_size=3, activation='relu',\n",
        "                                          padding='same', input_shape=(28, 28, 1)))\n",
        "\n",
        "no_training_conv = no_training_model.layers[0]\n",
        "\n",
        "no_training_weights = no_training_conv.weights[0].numpy()\n",
        "\n",
        "plt.hist(no_training_weights.reshape(-1, 1))\n",
        "plt.xlabel('weights')\n",
        "plt.ylabel('count')\n",
        "plt.show()"
      ],
      "metadata": {
        "colab": {
          "base_uri": "https://localhost:8080/",
          "height": 279
        },
        "id": "F1avbgIGomUR",
        "outputId": "95682c1a-7a39-4db4-aa0d-a23af5397f3f"
      },
      "execution_count": 25,
      "outputs": [
        {
          "output_type": "display_data",
          "data": {
            "text/plain": [
              "<Figure size 432x288 with 1 Axes>"
            ],
            "image/png": "[encoded data removed]"
          },
          "metadata": {
            "needs_background": "light"
          }
        }
      ]
    },
    {
      "cell_type": "markdown",
      "source": [
        "텐서플로는 신경망의 가중치를 처음 초기화할 때 균등 분포에서 무작위로 값을 선택합니다. 따라서 훈련하지 않은 가중치는 -0.15 ~ 0.15에 고르게 분포되어 있습니다.\n",
        "\n",
        "이 가중치를 위에서 그림으로 출력한 방식처럼 출력하여 비교해 보겠습니다."
      ],
      "metadata": {
        "id": "rv_nA8SfqG1h"
      }
    },
    {
      "cell_type": "code",
      "source": [
        "fig, axs = plt.subplots(2, 16, figsize=(15, 2))\n",
        "for i in range(2):\n",
        "    for j in range(16):\n",
        "        axs[i, j].imshow(no_training_weights[:, :, 0, i*16 + j], vmin=-0.5, vmax=0.5)\n",
        "        axs[i, j].axis('off')\n",
        "plt.show()"
      ],
      "metadata": {
        "colab": {
          "base_uri": "https://localhost:8080/",
          "height": 132
        },
        "id": "iawu9Tigqgm9",
        "outputId": "8dcba31f-0d48-4aa8-e35f-370d6da969fb"
      },
      "execution_count": 26,
      "outputs": [
        {
          "output_type": "display_data",
          "data": {
            "text/plain": [
              "<Figure size 1080x144 with 32 Axes>"
            ],
            "image/png": "[encoded data removed]"
          },
          "metadata": {
            "needs_background": "light"
          }
        }
      ]
    },
    {
      "cell_type": "markdown",
      "source": [
        "훈련한 가중치와 달리 색 전체가 비슷한 색이거나 별다른 특징이 없습니다. 합성곱 신경망이 분류 정확도를 제고하기 위해 일련의 패턴을 학습했다는 사실을 추론할 수 있습니다."
      ],
      "metadata": {
        "id": "orytxG0oqo67"
      }
    },
    {
      "cell_type": "markdown",
      "source": [
        "## **함수형 API**"
      ],
      "metadata": {
        "id": "dXXGJOUlv08k"
      }
    },
    {
      "cell_type": "markdown",
      "source": [
        "딥러닝에서는 이전까지 생성했던 모델보다 훨씬 더 복잡한 모델이 많습니다. 예컨대 입력이 2개거나 출력이 2개인 경우도 있습니다. 이런 경우는 `Sequential` 클래스를 사용하여 모델을 생성하기 어렵습니다. **함수형 API(functional API)**를 사용하여 모델을 생성해야 합니다. 함수형 API는 케라스의 `Model` 클래스로 모델을 생성합니다. 이전에 생성했던 완전 연결 신경망(밀집층 2개)을 구현해 보겠습니다(코드를 실행하지는 않겠습니다)."
      ],
      "metadata": {
        "id": "Qw2mCoGtPxEg"
      }
    },
    {
      "cell_type": "code",
      "source": [
        "dense1 = keras.layers.Dense(100, activation='sigmoid')\n",
        "dense2 = keras.layers.Dense(10, activation='softmax')"
      ],
      "metadata": {
        "id": "HIB8ky-isTOz"
      },
      "execution_count": null,
      "outputs": []
    },
    {
      "cell_type": "markdown",
      "source": [
        "이 과정까지는 같습니다. 이 인스턴스를 `Sequential` 클래스 인스턴스의 `add()` 메서드에 전달했었습니다. 다음 과정부터는 조금 다릅니다. `dense1` 인스턴스를 함수처럼 호출할 수 있습니다. 케라스의 층은 인스턴스를 함수처럼 호출했을 때 동작할 수 있도록 준비되어 있습니다. "
      ],
      "metadata": {
        "id": "bmNf0w9isd00"
      }
    },
    {
      "cell_type": "code",
      "source": [
        "# `inputs`는 입력값입니다.\n",
        "hidden = dense1(inputs)"
      ],
      "metadata": {
        "id": "O9bS4DIWs2Mh"
      },
      "execution_count": null,
      "outputs": []
    },
    {
      "cell_type": "markdown",
      "source": [
        "이 코드를 실행하면 `inputs`를 밀집층에 통과시키고 출력값 `hidden`을 생성합니다.\n",
        "\n",
        "두 번째 층을 호출해 보겠습니다. 처음 층의 출력을 입력으로 사용하면 됩니다."
      ],
      "metadata": {
        "id": "EKgeFYOWs4vh"
      }
    },
    {
      "cell_type": "code",
      "source": [
        "outputs = dense2(hidden)"
      ],
      "metadata": {
        "id": "rfuMH4C6toPI"
      },
      "execution_count": null,
      "outputs": []
    },
    {
      "cell_type": "markdown",
      "source": [
        "이 두 과정과 `Model` 클래스에 입력과 최종 출력을 지정하는 과정을 연달아 나열해 보겠습니다. 참고로 `Model` 클래스의 매개변수는 아래와 같습니다.\n",
        "\n",
        "- `inputs`: 첫 번째 매개변수이며 모델의 입력 또는 입력의 리스트입니다.\n",
        "\n",
        "- `outputs`: 두 번째 매개변수이며 모델의 출력 또는 출력의 리스트입니다.\n",
        "\n",
        "- `name`: 모델의 이름입니다."
      ],
      "metadata": {
        "id": "apqwMKJG3fdY"
      }
    },
    {
      "cell_type": "code",
      "source": [
        "hidden = dense1(inputs)\n",
        "outputs = dense2(hidden)\n",
        "model = keras.Model(inputs, outputs)"
      ],
      "metadata": {
        "id": "py7oDWRmPAm7"
      },
      "execution_count": null,
      "outputs": []
    },
    {
      "cell_type": "markdown",
      "source": [
        "입력값인 `inputs`에 대해 알아보겠습니다. 이전 챕터에서 `plot_model()` 메서드로 모델 층을 도식화할 때 `InputLayer` 클래스가 맨 처음 나왔었습니다. `Sequential` 클래스는 이 `InputLayer` 클래스를 자동으로 추가하고 호출합니다. 반면 `Model` 클래스를 사용할 때는 `InputLayer` 클래스를 수동으로 생성해서 호출해야 합니다. 즉, 입력값인 `inputs`는 `InputLayer` 클래스의 출력값이 되어야 합니다.\n",
        "\n",
        "참고로 `Sequential` 클래스 인스턴스에서 `InputLayer` 클래스 인스턴스가 저장된 위치는 `Sequential` 클래스 인스턴스의 속성인 `_layers`의 첫 번째 항목입니다. `InputLayer` 클래스는 신경망의 입력층 역할을 합니다. 모델의 입력을 처음 은닉층에 전달하는 역할인 것입니다. 따라서 `InputLayer` 클래스 인스턴스의 입력과 출력은 같습니다.\n",
        "\n",
        "케라스는 `InputLayer` 클래스 인스턴스를 다루기 쉽도록 `Input()` 메서드(소문자가 아닌 대문자 I로 시작함)를 가집니다. 아래처럼 호출하면 클래스 인스턴스를 생성하여 출력을 반환합니다."
      ],
      "metadata": {
        "id": "f1BGVt5XW_cM"
      }
    },
    {
      "cell_type": "code",
      "source": [
        "inputs = keras.Input(shape=(784,))"
      ],
      "metadata": {
        "id": "Votcasli6vFu"
      },
      "execution_count": null,
      "outputs": []
    },
    {
      "cell_type": "markdown",
      "source": [
        "입력값이 생성되었습니다. 전체 과정은 아래처럼 정리됩니다."
      ],
      "metadata": {
        "id": "HQc2wcNE7FYF"
      }
    },
    {
      "cell_type": "code",
      "source": [
        "inputs = keras.Input(shape=(784,))\n",
        "hidden = dense1(inputs)\n",
        "outputs = dense2(hidden)\n",
        "model = keras.Model(inputs, outputs)"
      ],
      "metadata": {
        "id": "jyy2-LrX7IGt"
      },
      "execution_count": null,
      "outputs": []
    },
    {
      "cell_type": "markdown",
      "source": [
        "입력에서 출력까지 연결하고 마지막에 `Model` 클래스에 입력과 출력을 지정하여 모델을 생성하는 과정입니다. 이런 방식으로 모델을 생성하면 여러 형태의 층을 추가하여 연결할 수 있습니다. \n",
        "\n",
        "특성 맵 시각화를 생성하는 데 함수형 API가 필요한 이유는 아래 과정에서 알 수 있습니다. 이전 챕터에서 정의한 `model` 인스턴스의 층은 아래 순서로 구성됩니다.\n",
        "\n",
        "`InputLayer` -> `Conv2D` ->(활성화 출력) `Maxpooling2D` -> `Conv2D` -> `Maxpooling2D` -> `Flatten` -> `Dense` -> `Dropout` -> `Dense`\n",
        "\n",
        "여기서 필요한 것은 처음 `Conv2D`의 활성화 출력입니다. `model` 인스턴스의 입력과 `Conv2D`의 출력을 알 수 있다면 이 둘을 연결하여 새 모델을 얻을 수 있습니다.\n",
        "\n",
        "`InputLayer` ->(입력값인 `model.input`이 전달됨) `Conv2D` ->(출력값인 `model.layers[0].output`이 전달됨) `Maxpooling2D` -> `Conv2D` -> `Maxpooling2D` -> `Flatten` -> `Dense` -> `Dropout` -> `Dense`\n",
        "\n",
        "`model` 인스턴스의 `predict()` 메서드를 호출하면 입력부터 마지막 층까지 모든 계산을 수행하고 최종 출력을 반환합니다. 그러나 여기에서 필요한 것은 처음 `Conv2D` 층이 출력한 특성 맵입니다. 처음 층의 출력은 `Conv2D` 인스턴스의 `output` 속성에서 확인할 수 있습니다(`model.layers[0].output`). `model` 인스턴스의 입력은 아래처럼 확인할 수 있습니다."
      ],
      "metadata": {
        "id": "4Mjc_XCS8FyX"
      }
    },
    {
      "cell_type": "code",
      "source": [
        "print(model.input)"
      ],
      "metadata": {
        "colab": {
          "base_uri": "https://localhost:8080/"
        },
        "id": "1nJbkZHO-faR",
        "outputId": "92669b47-94df-4138-df6c-58b1672cdd41"
      },
      "execution_count": 27,
      "outputs": [
        {
          "output_type": "stream",
          "name": "stdout",
          "text": [
            "KerasTensor(type_spec=TensorSpec(shape=(None, 28, 28, 1), dtype=tf.float32, name='conv2d_input'), name='conv2d_input', description=\"created by layer 'conv2d_input'\")\n"
          ]
        }
      ]
    },
    {
      "cell_type": "markdown",
      "source": [
        "이제 아래처럼 `model_input`과 `model.layers[0].output`을 연결하는 `conv_acti` 모델을 새로 생성할 수 있습니다."
      ],
      "metadata": {
        "id": "13Y_ghGn-qnY"
      }
    },
    {
      "cell_type": "code",
      "source": [
        "conv_acti = keras.Model(model.input, model.layers[0].output)"
      ],
      "metadata": {
        "id": "LP_OfP_J-3G9"
      },
      "execution_count": 28,
      "outputs": []
    },
    {
      "cell_type": "markdown",
      "source": [
        "`model` 인스턴스의 `predict()` 메서드를 호출하면 최종 출력층의 확률을 반환합니다. 별도로 `conv_acti` 인스턴스의 `predict()` 메서드를 호출하면 처음 `Conv2D`의 출력을 반환합니다. 아래에서 특성 맵을 시각화해 보겠습니다."
      ],
      "metadata": {
        "id": "uNLHcQFC_KSD"
      }
    },
    {
      "cell_type": "markdown",
      "source": [
        "## **특성맵 시각화**"
      ],
      "metadata": {
        "id": "-5wgYjRkv06M"
      }
    },
    {
      "cell_type": "markdown",
      "source": [
        "먼저 패션 MNIST 데이터 세트를 로드하고 훈련 데이터 세트의 처음 샘플을 시각화해 보겠습니다."
      ],
      "metadata": {
        "id": "8KVdKvaA_dZg"
      }
    },
    {
      "cell_type": "code",
      "source": [
        "(train_input, train_target), (test_input, test_target) = keras.datasets.fashion_mnist.load_data()\n",
        "plt.imshow(train_input[0], cmap='gray_r')\n",
        "plt.show()"
      ],
      "metadata": {
        "colab": {
          "base_uri": "https://localhost:8080/",
          "height": 265
        },
        "id": "EcJmH887_ltn",
        "outputId": "4ea2554e-c921-4ee4-c706-5a59b1b2c6cb"
      },
      "execution_count": 29,
      "outputs": [
        {
          "output_type": "display_data",
          "data": {
            "text/plain": [
              "<Figure size 432x288 with 1 Axes>"
            ],
            "image/png": "[encoded data removed]"
          },
          "metadata": {
            "needs_background": "light"
          }
        }
      ]
    },
    {
      "cell_type": "markdown",
      "source": [
        "이 샘플을 `conv_acti` 모델에 주입하여 `Conv2D` 층이 생성하는 특성 맵을 출력해 보겠습니다. 참고로 `predict()` 메서드는 입력의 첫 번째 차원을 배치 차원으로 여깁니다. 샘플 하나를 전달할 때도 첫 번째 차원을 유지해야 합니다. 슬라이싱 연산자를 사용하여 샘플을 선택해야 하는 이유입니다. 코드로 구현해 보겠습니다."
      ],
      "metadata": {
        "id": "2_n7coFS_7rn"
      }
    },
    {
      "cell_type": "code",
      "source": [
        "# 이전 챕터에서 수행했던 전처리 작업과 같습니다.\n",
        "inputs = train_input[0:1].reshape(-1, 28, 28, 1) / 255.0\n",
        "feature_maps = conv_acti.predict(inputs)\n",
        "print(feature_maps.shape)"
      ],
      "metadata": {
        "colab": {
          "base_uri": "https://localhost:8080/"
        },
        "id": "oYi-GhfgAZJG",
        "outputId": "66c6f480-061e-4cd0-b5e6-4209614be5c6"
      },
      "execution_count": 30,
      "outputs": [
        {
          "output_type": "stream",
          "name": "stdout",
          "text": [
            "(1, 28, 28, 32)\n"
          ]
        }
      ]
    },
    {
      "cell_type": "markdown",
      "source": [
        "세임 패딩과 필터 32개를 사용한 합성곱 층의 출력이므로 (28, 28, 32)이며 첫 번째 차원은 배치 차원 1입니다. 한 샘플만 입력했으므로 1입니다.\n",
        "\n",
        "특성 맵을 그려 보겠습니다."
      ],
      "metadata": {
        "id": "-8yeiahsAk_W"
      }
    },
    {
      "cell_type": "code",
      "source": [
        "fig, axs = plt.subplots(4, 8, figsize=(15, 8))\n",
        "for i in range(4):\n",
        "    for j in range(8):\n",
        "        axs[i, j].imshow(feature_maps[0, :, :, i*8 + j])\n",
        "        axs[i, j].axis('off')\n",
        "plt.show()"
      ],
      "metadata": {
        "colab": {
          "base_uri": "https://localhost:8080/",
          "height": 453
        },
        "id": "r6xV18yrBEYV",
        "outputId": "7f6150f6-1f39-49dc-c738-8c750d334e33"
      },
      "execution_count": 31,
      "outputs": [
        {
          "output_type": "display_data",
          "data": {
            "text/plain": [
              "<Figure size 1080x576 with 32 Axes>"
            ],
            "image/png": "[encoded data removed]"
          },
          "metadata": {
            "needs_background": "light"
          }
        }
      ]
    },
    {
      "cell_type": "markdown",
      "source": [
        "필터 32개로 인해 입력 이미지에서 강하게 활성화된 부분을 나타내는 특성 맵입니다. 위에서 가중치를 시각화한 이미지에서 밝은 색과 어두운 색이 구분되는 것을 확인할 수 있었습니다. 이런 부분과 일치되도록 위 특성맵에서도 밝은 색과 어두운 색이 나타납니다.\n",
        "\n",
        "두 번째 합성곱 층이 생성한 특성 맵도 같은 방식으로 확인해 보겠습니다. `model` 인스턴스의 입력과 두 번째 합성곱 층인 `model.layers[2]`의 출력을 연결한 모델을 생성하고, 첫 번째 샘플을 이 모델의 `predict()` 메서드에 전달하겠습니다."
      ],
      "metadata": {
        "id": "budatpt-Gra4"
      }
    },
    {
      "cell_type": "code",
      "source": [
        "conv2_acti = keras.Model(model.input, model.layers[2].output)\n",
        "inputs = train_input[0:1].reshape(-1, 28, 28, 1) / 255.0\n",
        "feature_maps = conv2_acti.predict(inputs)"
      ],
      "metadata": {
        "id": "lc2GZ6JoAOiu"
      },
      "execution_count": 32,
      "outputs": []
    },
    {
      "cell_type": "markdown",
      "source": [
        "특성 맵의 크기를 확인해 보겠습니다."
      ],
      "metadata": {
        "id": "ujSUpGVcBCPa"
      }
    },
    {
      "cell_type": "code",
      "source": [
        "print(feature_maps.shape)"
      ],
      "metadata": {
        "colab": {
          "base_uri": "https://localhost:8080/"
        },
        "id": "hhtbjpghA6NJ",
        "outputId": "2904d0e7-baf5-4755-dca1-f8dfe0bebbf6"
      },
      "execution_count": 33,
      "outputs": [
        {
          "output_type": "stream",
          "name": "stdout",
          "text": [
            "(1, 14, 14, 64)\n"
          ]
        }
      ]
    },
    {
      "cell_type": "markdown",
      "source": [
        "처음 풀링 층에서 가로세로 크기가 절반으로 줄었고, 두 번째 합성곱 층의 필터 개수는 64개입니다. 따라서 특성 맵의 크기는 (14, 14, 64)입니다.\n",
        "\n",
        "특성 맵을 시각화해 보겠습니다."
      ],
      "metadata": {
        "id": "ngj7MbANBJcH"
      }
    },
    {
      "cell_type": "code",
      "source": [
        "fig, axs = plt.subplots(8, 8, figsize=(12, 12))\n",
        "for i in range(8):\n",
        "    for j in range(8):\n",
        "        axs[i, j].imshow(feature_maps[0, :, :, i*8 + j])\n",
        "        axs[i, j].axis('off')\n",
        "plt.show()"
      ],
      "metadata": {
        "colab": {
          "base_uri": "https://localhost:8080/",
          "height": 683
        },
        "id": "oZQjKSsOBdAq",
        "outputId": "ad8f3449-58d0-4634-ccd0-dc885941da6f"
      },
      "execution_count": 34,
      "outputs": [
        {
          "output_type": "display_data",
          "data": {
            "text/plain": [
              "<Figure size 864x864 with 64 Axes>"
            ],
            "image/png": "[encoded data removed]"
          },
          "metadata": {
            "needs_background": "light"
          }
        }
      ]
    },
    {
      "cell_type": "markdown",
      "source": [
        "처음 특성 맵과 달리 규칙성이 없습니다. 두 번째 합성곱 층의 필터 크기는 (3, 3, 32)이고, 두 번째 합성곱 층의 첫 번째 필터가 앞서 출력한 특성 맵 32개와 곱해져 두 번째 합성곱 층의 첫 번째 특성 맵이 됐습니다. 이렇게 계산된 출력은 위 특성 맵에서 어떤 부위를 감지하는지 해석하기 어렵습니다. 합성곱 층을 많이 쌓을수록 더 해석하기 어려워집니다. 합성곱 신경망의 앞부분에 있는 합성곱 층은 이미지의 시각적 정보를 감지하고, 뒤쪽에 있는 합성곱 층은 앞쪽에서 감지한 시각적 정보를 토대로 추상적인 정보를 학습하는 것입니다."
      ],
      "metadata": {
        "id": "Zm4Xz9jMJ34k"
      }
    }
  ]
}
