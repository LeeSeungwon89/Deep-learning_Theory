{
  "nbformat": 4,
  "nbformat_minor": 0,
  "metadata": {
    "colab": {
      "provenance": [],
      "collapsed_sections": [],
      "authorship_tag": "ABX9TyPQI7fo+LOHeToe/FG9ysEf",
      "include_colab_link": true
    },
    "kernelspec": {
      "name": "python3",
      "display_name": "Python 3"
    },
    "language_info": {
      "name": "python"
    }
  },
  "cells": [
    {
      "cell_type": "markdown",
      "metadata": {
        "id": "view-in-github",
        "colab_type": "text"
      },
      "source": [
        "<a href=\"https://colab.research.google.com/github/LeeSeungwon89/Deep-learning_Theory/blob/main/9-2%20%EC%88%9C%ED%99%98%20%EC%8B%A0%EA%B2%BD%EB%A7%9D%EC%9C%BC%EB%A1%9C%20IMDB%20%EB%A6%AC%EB%B7%B0%20%EB%B6%84%EB%A5%98%ED%95%98%EA%B8%B0.ipynb\" target=\"_parent\"><img src=\"https://colab.research.google.com/assets/colab-badge.svg\" alt=\"Open In Colab\"/></a>"
      ]
    },
    {
      "cell_type": "markdown",
      "source": [
        "# **9-2 순환 신경망으로 IMDB 리뷰 분류하기**"
      ],
      "metadata": {
        "id": "IHa2jFvgxB3A"
      }
    },
    {
      "cell_type": "markdown",
      "source": [
        "IMDB 리뷰 데이터 세트로 간단한 순환 신경망 모델을 훈련해 보겠습니다. 이 데이터 세트를 두 가지 방법(원-핫 인코딩, 단어 임베딩)으로 변형하여 순환 신경망에 주입해 보겠습니다."
      ],
      "metadata": {
        "id": "BQfRvnA47QMh"
      }
    },
    {
      "cell_type": "markdown",
      "source": [
        "## **IMDB 리뷰 데이터셋**"
      ],
      "metadata": {
        "id": "JVAwuHLmxB0R"
      }
    },
    {
      "cell_type": "markdown",
      "source": [
        "IMDB 리뷰 데이터 세트는 인터넷 영화 데이터베이스인 imdb.com 사이트에서 수집한 리뷰를 긍정과 부정으로 분류한 데이터 세트입니다. 샘플 50,000개로 구성되며 훈련 데이터와 테스트 데이터는 25,000개씩 구성됩니다.\n",
        "\n",
        "**자연어 처리(natural language processing, NLP)**는 컴퓨터를 사용하여 인간의 언어(자연어)를 처리하는 분야입니다. 대표되는 세부 분야는 음성 인식, 기계 번역, 감성 분석 등입니다. 이 챕터에서 다룰 데이터 세트로는 감성 분석을 수행합니다. 자연어 처리 분야에서는 훈련 데이터를 **말뭉치(corpus)**라고 부르기도 합니다.\n",
        "\n",
        "기실 텍스트 자체를 신경망에 전달하는 것이 아닙니다. 컴퓨터는 숫자 데이터만 처리할 수 있습니다. 합성곱 신경망에서 이미지를 다룰 때 이미지는 이미 픽셀값(정수)으로 구성되므로 숫자로 변환하는 작업이 필요하지 않습니다. 그러나 텍스트 데이터는 단어를 정수 데이터로 변환하는 작업이 필요합니다. 아래와 같은 문장이 있다고 가정하겠습니다.\n",
        "\n",
        "He follows the cat. He loves the cat.\n",
        "\n",
        "이 문장의 단어인 He, follows, the, cat. 등에 고유한 정수를 부여(매핑)합니다. 같은 단어에는 같은 정수를 부여합니다. 정수 사이에는 어떠한 관계도 없이 고유할 뿐입니다. 일반적으로 영어 문장은 모두 소문자로 바꾸고 구둣점을 삭제하여 공백 기준으로 분리합니다. 이렇게 분리된 단어를 **토큰(token)**이라고 부릅니다. 샘플 하나는 여러 토큰으로 구성되며, 토큰 1개는 타임스템프 하나입니다. 간단한 문제라면 영어 말뭉치에서 토큰을 단어와 같다고 볼 수 있습니다. 토큰에 할당하는 정수 중에 몇 개는 특정 용도로 예약되어 있습니다. 예컨대 0은 패딩, 1은 문장 시작, 2는 어휘 사전(훈련 데이터 세트에서 고유한 단어를 뽑아 생성한 목록)에 존재하지 않는 토큰을 의미합니다. 테스트 데이터 세트에 어휘 사전에 존재하지 않는 단어가 있다면 2로 변환하여 신경망 모델에 주입합니다. \n",
        "\n",
        "참고로 한국어는 영어와 전혀 다릅니다. 한국어는 조사가 발달된 언어이므로 공백으로만 나눠서는 문장 의미를 제대로 분석하기 어렵습니다. 한국어에 대한 자연어 처리는 `KoNLPy`를 사용합니다.\n",
        "\n",
        "IMDB 리뷰 데이터 세트는 영어로 된 문장입니다. 텐서플로에 이 데이터 세트를 정수로 바꾼 데이터가 포함되어 있으므로 굳이 정수로 바꾸는 작업은 필요하지 않습니다. 데이터를 준비하겠습니다."
      ],
      "metadata": {
        "id": "Acowm7Fi76O-"
      }
    },
    {
      "cell_type": "code",
      "source": [
        "from tensorflow.keras.datasets import imdb\n",
        "\n",
        "# 가장 자주 등장하는 단어 500개만 사용하기 위해 `num_words=500`으로 지정합니다.\n",
        "(train_input, train_target), (test_input, test_target) = imdb.load_data(num_words=500)\n",
        "print(train_input.shape, test_input.shape)"
      ],
      "metadata": {
        "colab": {
          "base_uri": "https://localhost:8080/"
        },
        "id": "nhL8jvLIPvD5",
        "outputId": "3afdd75e-1047-48ed-b467-bfe5bdeedcc5"
      },
      "execution_count": null,
      "outputs": [
        {
          "output_type": "stream",
          "name": "stdout",
          "text": [
            "Downloading data from https://storage.googleapis.com/tensorflow/tf-keras-datasets/imdb.npz\n",
            "17465344/17464789 [==============================] - 0s 0us/step\n",
            "17473536/17464789 [==============================] - 0s 0us/step\n",
            "(25000,) (25000,)\n"
          ]
        }
      ]
    },
    {
      "cell_type": "markdown",
      "source": [
        "처음 데이터만 확인해 보겠습니다."
      ],
      "metadata": {
        "id": "NT7IrPdFXy5U"
      }
    },
    {
      "cell_type": "code",
      "source": [
        "print(train_input)"
      ],
      "metadata": {
        "colab": {
          "base_uri": "https://localhost:8080/"
        },
        "id": "iWR880R8XgBV",
        "outputId": "8eaf2736-b0c1-44a1-853f-196238fbb9a2"
      },
      "execution_count": null,
      "outputs": [
        {
          "output_type": "stream",
          "name": "stdout",
          "text": [
            "[list([1, 14, 22, 16, 43, 2, 2, 2, 2, 65, 458, 2, 66, 2, 4, 173, 36, 256, 5, 25, 100, 43, 2, 112, 50, 2, 2, 9, 35, 480, 284, 5, 150, 4, 172, 112, 167, 2, 336, 385, 39, 4, 172, 2, 2, 17, 2, 38, 13, 447, 4, 192, 50, 16, 6, 147, 2, 19, 14, 22, 4, 2, 2, 469, 4, 22, 71, 87, 12, 16, 43, 2, 38, 76, 15, 13, 2, 4, 22, 17, 2, 17, 12, 16, 2, 18, 2, 5, 62, 386, 12, 8, 316, 8, 106, 5, 4, 2, 2, 16, 480, 66, 2, 33, 4, 130, 12, 16, 38, 2, 5, 25, 124, 51, 36, 135, 48, 25, 2, 33, 6, 22, 12, 215, 28, 77, 52, 5, 14, 407, 16, 82, 2, 8, 4, 107, 117, 2, 15, 256, 4, 2, 7, 2, 5, 2, 36, 71, 43, 2, 476, 26, 400, 317, 46, 7, 4, 2, 2, 13, 104, 88, 4, 381, 15, 297, 98, 32, 2, 56, 26, 141, 6, 194, 2, 18, 4, 226, 22, 21, 134, 476, 26, 480, 5, 144, 30, 2, 18, 51, 36, 28, 224, 92, 25, 104, 4, 226, 65, 16, 38, 2, 88, 12, 16, 283, 5, 16, 2, 113, 103, 32, 15, 16, 2, 19, 178, 32])\n",
            " list([1, 194, 2, 194, 2, 78, 228, 5, 6, 2, 2, 2, 134, 26, 4, 2, 8, 118, 2, 14, 394, 20, 13, 119, 2, 189, 102, 5, 207, 110, 2, 21, 14, 69, 188, 8, 30, 23, 7, 4, 249, 126, 93, 4, 114, 9, 2, 2, 5, 2, 4, 116, 9, 35, 2, 4, 229, 9, 340, 2, 4, 118, 9, 4, 130, 2, 19, 4, 2, 5, 89, 29, 2, 46, 37, 4, 455, 9, 45, 43, 38, 2, 2, 398, 4, 2, 26, 2, 5, 163, 11, 2, 2, 4, 2, 9, 194, 2, 7, 2, 2, 349, 2, 148, 2, 2, 2, 15, 123, 125, 68, 2, 2, 15, 349, 165, 2, 98, 5, 4, 228, 9, 43, 2, 2, 15, 299, 120, 5, 120, 174, 11, 220, 175, 136, 50, 9, 2, 228, 2, 5, 2, 2, 245, 2, 5, 4, 2, 131, 152, 491, 18, 2, 32, 2, 2, 14, 9, 6, 371, 78, 22, 2, 64, 2, 9, 8, 168, 145, 23, 4, 2, 15, 16, 4, 2, 5, 28, 6, 52, 154, 462, 33, 89, 78, 285, 16, 145, 95])\n",
            " list([1, 14, 47, 8, 30, 31, 7, 4, 249, 108, 7, 4, 2, 54, 61, 369, 13, 71, 149, 14, 22, 112, 4, 2, 311, 12, 16, 2, 33, 75, 43, 2, 296, 4, 86, 320, 35, 2, 19, 263, 2, 2, 4, 2, 33, 89, 78, 12, 66, 16, 4, 360, 7, 4, 58, 316, 334, 11, 4, 2, 43, 2, 2, 8, 257, 85, 2, 42, 2, 2, 83, 68, 2, 15, 36, 165, 2, 278, 36, 69, 2, 2, 8, 106, 14, 2, 2, 18, 6, 22, 12, 215, 28, 2, 40, 6, 87, 326, 23, 2, 21, 23, 22, 12, 272, 40, 57, 31, 11, 4, 22, 47, 6, 2, 51, 9, 170, 23, 2, 116, 2, 2, 13, 191, 79, 2, 89, 2, 14, 9, 8, 106, 2, 2, 35, 2, 6, 227, 7, 129, 113])\n",
            " ...\n",
            " list([1, 11, 6, 230, 245, 2, 9, 6, 2, 446, 2, 45, 2, 84, 2, 2, 21, 4, 2, 84, 2, 325, 2, 134, 2, 2, 84, 5, 36, 28, 57, 2, 21, 8, 140, 8, 2, 5, 2, 84, 56, 18, 2, 14, 9, 31, 7, 4, 2, 2, 2, 2, 2, 18, 6, 20, 207, 110, 2, 12, 8, 2, 2, 8, 97, 6, 20, 53, 2, 74, 4, 460, 364, 2, 29, 270, 11, 2, 108, 45, 40, 29, 2, 395, 11, 6, 2, 2, 7, 2, 89, 364, 70, 29, 140, 4, 64, 2, 11, 4, 2, 26, 178, 4, 2, 443, 2, 5, 27, 2, 117, 2, 2, 165, 47, 84, 37, 131, 2, 14, 2, 10, 10, 61, 2, 2, 10, 10, 288, 2, 2, 34, 2, 2, 4, 65, 496, 4, 231, 7, 2, 5, 6, 320, 234, 2, 234, 2, 2, 7, 496, 4, 139, 2, 2, 2, 2, 5, 2, 18, 4, 2, 2, 250, 11, 2, 2, 4, 2, 2, 2, 2, 372, 2, 2, 2, 2, 7, 4, 59, 2, 4, 2, 2])\n",
            " list([1, 2, 2, 69, 72, 2, 13, 2, 2, 8, 12, 2, 23, 5, 16, 484, 2, 54, 349, 11, 2, 2, 45, 58, 2, 13, 197, 12, 16, 43, 23, 2, 5, 62, 30, 145, 402, 11, 2, 51, 2, 32, 61, 369, 71, 66, 2, 12, 2, 75, 100, 2, 8, 4, 105, 37, 69, 147, 2, 75, 2, 44, 257, 390, 5, 69, 263, 2, 105, 50, 286, 2, 23, 4, 123, 13, 161, 40, 5, 421, 4, 116, 16, 2, 13, 2, 40, 319, 2, 112, 2, 11, 2, 121, 25, 70, 2, 4, 2, 2, 13, 18, 31, 62, 40, 8, 2, 4, 2, 7, 14, 123, 5, 2, 25, 8, 2, 12, 145, 5, 202, 12, 160, 2, 202, 12, 6, 52, 58, 2, 92, 401, 2, 12, 39, 14, 251, 8, 15, 251, 5, 2, 12, 38, 84, 80, 124, 12, 9, 23])\n",
            " list([1, 17, 6, 194, 337, 7, 4, 204, 22, 45, 254, 8, 106, 14, 123, 4, 2, 270, 2, 5, 2, 2, 2, 2, 101, 405, 39, 14, 2, 4, 2, 9, 115, 50, 305, 12, 47, 4, 168, 5, 235, 7, 38, 111, 2, 102, 7, 4, 2, 2, 9, 24, 6, 78, 2, 17, 2, 2, 21, 27, 2, 2, 5, 2, 2, 92, 2, 4, 2, 7, 4, 204, 42, 97, 90, 35, 221, 109, 29, 127, 27, 118, 8, 97, 12, 157, 21, 2, 2, 9, 6, 66, 78, 2, 4, 2, 2, 5, 2, 272, 191, 2, 6, 2, 8, 2, 2, 2, 2, 5, 383, 2, 2, 2, 2, 497, 2, 8, 2, 2, 2, 21, 60, 27, 239, 9, 43, 2, 209, 405, 10, 10, 12, 2, 40, 4, 248, 20, 12, 16, 5, 174, 2, 72, 7, 51, 6, 2, 22, 4, 204, 131, 9])]\n"
          ]
        }
      ]
    },
    {
      "cell_type": "markdown",
      "source": [
        "리뷰 텍스트는 길이가 모두 다르므로 2차원 배열에 담지 않고 리뷰마다 별도로 파이썬 리스트로 담아야 메모리를 효율적으로 사용할 수 있습니다. 따라서 리스트 안에 리스트(리뷰 하나) 객체가 여러 개 나열된 형태이며 1차원 넘파이 배열입니다.\n",
        "\n",
        "리뷰 몇 개만 길이를 확인해 보겠습니다."
      ],
      "metadata": {
        "id": "z-hgstOTQlaf"
      }
    },
    {
      "cell_type": "code",
      "source": [
        "print(len(train_input[0]))\n",
        "print(len(train_input[1]))\n",
        "print(len(train_input[2]))"
      ],
      "metadata": {
        "colab": {
          "base_uri": "https://localhost:8080/"
        },
        "id": "FHWBHfZGcFJ0",
        "outputId": "a5dbee16-fef5-4b70-93fa-9a05a42b84ed"
      },
      "execution_count": null,
      "outputs": [
        {
          "output_type": "stream",
          "name": "stdout",
          "text": [
            "218\n",
            "189\n",
            "141\n"
          ]
        }
      ]
    },
    {
      "cell_type": "markdown",
      "source": [
        "각각 토큰 218개, 189개, 141개로 구성된 리뷰입니다. 리뷰 하나는 샘플 하나입니다.\n",
        "\n",
        "첫 번째 리뷰 내용만 확인해 보겠습니다."
      ],
      "metadata": {
        "id": "di11waZqcKTV"
      }
    },
    {
      "cell_type": "code",
      "source": [
        "print(train_input[0])"
      ],
      "metadata": {
        "colab": {
          "base_uri": "https://localhost:8080/"
        },
        "id": "xQundAgUctG5",
        "outputId": "f61f0944-da57-44bd-e74c-29f5ad76fbf5"
      },
      "execution_count": null,
      "outputs": [
        {
          "output_type": "stream",
          "name": "stdout",
          "text": [
            "[1, 14, 22, 16, 43, 2, 2, 2, 2, 65, 458, 2, 66, 2, 4, 173, 36, 256, 5, 25, 100, 43, 2, 112, 50, 2, 2, 9, 35, 480, 284, 5, 150, 4, 172, 112, 167, 2, 336, 385, 39, 4, 172, 2, 2, 17, 2, 38, 13, 447, 4, 192, 50, 16, 6, 147, 2, 19, 14, 22, 4, 2, 2, 469, 4, 22, 71, 87, 12, 16, 43, 2, 38, 76, 15, 13, 2, 4, 22, 17, 2, 17, 12, 16, 2, 18, 2, 5, 62, 386, 12, 8, 316, 8, 106, 5, 4, 2, 2, 16, 480, 66, 2, 33, 4, 130, 12, 16, 38, 2, 5, 25, 124, 51, 36, 135, 48, 25, 2, 33, 6, 22, 12, 215, 28, 77, 52, 5, 14, 407, 16, 82, 2, 8, 4, 107, 117, 2, 15, 256, 4, 2, 7, 2, 5, 2, 36, 71, 43, 2, 476, 26, 400, 317, 46, 7, 4, 2, 2, 13, 104, 88, 4, 381, 15, 297, 98, 32, 2, 56, 26, 141, 6, 194, 2, 18, 4, 226, 22, 21, 134, 476, 26, 480, 5, 144, 30, 2, 18, 51, 36, 28, 224, 92, 25, 104, 4, 226, 65, 16, 38, 2, 88, 12, 16, 283, 5, 16, 2, 113, 103, 32, 15, 16, 2, 19, 178, 32]\n"
          ]
        }
      ]
    },
    {
      "cell_type": "markdown",
      "source": [
        "정수로 변환된 리뷰입니다. 위에서 `num_words=500`으로 지정했으므로 어휘 사전에는 단어가 500개만 구성된 상태이며, 어휘 사전에 없는 단어는 2로 대체됐습니다.\n",
        "\n",
        "타깃 데이터를 확인해 보겠습니다."
      ],
      "metadata": {
        "id": "sjAc7q3QcxXb"
      }
    },
    {
      "cell_type": "code",
      "source": [
        "print(train_target[:20])"
      ],
      "metadata": {
        "colab": {
          "base_uri": "https://localhost:8080/"
        },
        "id": "1meDpNGldRbb",
        "outputId": "f1653411-0fbb-418e-c384-084943891cae"
      },
      "execution_count": null,
      "outputs": [
        {
          "output_type": "stream",
          "name": "stdout",
          "text": [
            "[1 0 0 1 0 0 1 0 1 0 1 0 0 0 0 0 1 1 0 1]\n"
          ]
        }
      ]
    },
    {
      "cell_type": "markdown",
      "source": [
        "부정은 0, 긍정은 1이며 이진 분류 문제입니다.\n",
        "\n",
        "훈련 데이터 세트에서 검증 데이터 세트를 만들겠습니다."
      ],
      "metadata": {
        "id": "Ls2RYM87dV3W"
      }
    },
    {
      "cell_type": "code",
      "source": [
        "from sklearn.model_selection import train_test_split\n",
        "\n",
        "train_input, val_input, train_target, val_target = train_test_split(\n",
        "    train_input, train_target, test_size=0.2, random_state=42)"
      ],
      "metadata": {
        "id": "uRbalZhJdsYB"
      },
      "execution_count": null,
      "outputs": []
    },
    {
      "cell_type": "markdown",
      "source": [
        "리뷰의 평균 길이와 중간 길이, 최소 및 최대 길이를 확인해 보겠습니다."
      ],
      "metadata": {
        "id": "doR8gnSFeYMr"
      }
    },
    {
      "cell_type": "code",
      "source": [
        "import numpy as np\n",
        "\n",
        "lengths = np.array([len(x) for x in train_input])\n",
        "# 평균 및 중간값을 구합니다.\n",
        "print(np.mean(lengths), np.median(lengths))\n",
        "# 최솟값 및 최댓값을 구합니다.\n",
        "print(min(lengths), max(lengths))"
      ],
      "metadata": {
        "colab": {
          "base_uri": "https://localhost:8080/"
        },
        "id": "6-TwfXDsenr9",
        "outputId": "23b0f9e3-4100-46ef-a53d-9e4259f3ce84"
      },
      "execution_count": null,
      "outputs": [
        {
          "output_type": "stream",
          "name": "stdout",
          "text": [
            "239.00925 178.0\n",
            "11 1854\n"
          ]
        }
      ]
    },
    {
      "cell_type": "markdown",
      "source": [
        "리뷰 길이 개수를 히스토그램으로 시각화해 보겠습니다."
      ],
      "metadata": {
        "id": "0zwKOPQIflIc"
      }
    },
    {
      "cell_type": "code",
      "source": [
        "import matplotlib.pyplot as plt\n",
        "\n",
        "plt.hist(lengths)\n",
        "plt.xlabel('lengths')\n",
        "plt.ylabel('frequency')\n",
        "plt.show()"
      ],
      "metadata": {
        "colab": {
          "base_uri": "https://localhost:8080/",
          "height": 279
        },
        "id": "S19eldZLfstB",
        "outputId": "36ef66cf-4fae-4296-c67e-ea34bd7509b0"
      },
      "execution_count": null,
      "outputs": [
        {
          "output_type": "display_data",
          "data": {
            "text/plain": [
              "<Figure size 432x288 with 1 Axes>"
            ],
            "image/png": "[encoded data removed]"
          },
          "metadata": {
            "needs_background": "light"
          }
        }
      ]
    },
    {
      "cell_type": "markdown",
      "source": [
        "리뷰 대부분은 300미만의 길이를 가집니다. 평균이 중간값보다 높은 이유는 최댓값이 매우 크기 때문입니다.\n",
        "\n",
        "리뷰 대부분 길이가 짧으므로 단어를 100개만 사용하겠습니다. 그러나 단어가 100개 미만으로 구성된 리뷰도 있으므로 리뷰 길이를 100에 맞추기 위해 패딩을 수행해야 합니다. 위에서 서술했듯이 패딩을 나타내는 토큰은 0을 사용합니다.\n",
        "\n",
        "물론 수동으로 훈련 데이터 세트에 있는 리뷰 20,000개를 순회하면서 길이가 100이 되도록 자르거나 0으로 패딩 할 수 있지만 `pad_sequences()` 메서드를 사용하면 시퀀스 데이터 길이를 맞출 수 있습니다. `train_input`의 길이를 100으로 맞춰 보겠습니다."
      ],
      "metadata": {
        "id": "XyxavF1ykiPr"
      }
    },
    {
      "cell_type": "code",
      "source": [
        "from tensorflow.keras.preprocessing.sequence import pad_sequences\n",
        "\n",
        "# `maxlen` 매개변수에 100을 지정하면 100보다 긴 경우는 잘라내고 짧은 경우는 0으로 패딩합니다.\n",
        "# 아무것도 지정하지 않으면 가장 긴 시퀀스의 길이가 지정됩니다.\n",
        "train_seq = pad_sequences(train_input, maxlen=100)\n",
        "print(train_seq)\n",
        "print(train_seq.shape)"
      ],
      "metadata": {
        "colab": {
          "base_uri": "https://localhost:8080/"
        },
        "id": "HjeyTiHmblJn",
        "outputId": "909834be-6c12-427f-c20a-0beee90b5885"
      },
      "execution_count": null,
      "outputs": [
        {
          "output_type": "stream",
          "name": "stdout",
          "text": [
            "[[ 10   4  20 ...  10 470 158]\n",
            " [206   2  26 ...   6   2   2]\n",
            " [  2   7   2 ...   2   2  12]\n",
            " ...\n",
            " [  2  37 299 ...   7  14   2]\n",
            " [  0   0   0 ...  25 170   2]\n",
            " [  0   0   0 ...  25 194   2]]\n",
            "(20000, 100)\n"
          ]
        }
      ]
    },
    {
      "cell_type": "markdown",
      "source": [
        "`train_input`은 리스트 내에 리스트 객체가 구성된 1차원 배열 (20000,)이지만, `train_seq`는 리스트 내에 리스트가 구성된 2차원 배열 (20000, 100)입니다. 샘플 20,000개, 토큰(타임스텝) 개수 100개입니다.\n",
        "\n",
        "첫 번째 샘플만 확인해 보겠습니다."
      ],
      "metadata": {
        "id": "aM9cg43ZfK9J"
      }
    },
    {
      "cell_type": "code",
      "source": [
        "print(train_seq[0])"
      ],
      "metadata": {
        "colab": {
          "base_uri": "https://localhost:8080/"
        },
        "id": "bUbKoIpkf3FL",
        "outputId": "fb3ee27d-2916-43de-b04a-0959622e709e"
      },
      "execution_count": null,
      "outputs": [
        {
          "output_type": "stream",
          "name": "stdout",
          "text": [
            "[ 10   4  20   9   2 364 352   5  45   6   2   2  33 269   8   2 142   2\n",
            "   5   2  17  73  17 204   5   2  19  55   2   2  92  66 104  14  20  93\n",
            "  76   2 151  33   4  58  12 188   2 151  12 215  69 224 142  73 237   6\n",
            "   2   7   2   2 188   2 103  14  31  10  10 451   7   2   5   2  80  91\n",
            "   2  30   2  34  14  20 151  50  26 131  49   2  84  46  50  37  80  79\n",
            "   6   2  46   7  14  20  10  10 470 158]\n"
          ]
        }
      ]
    },
    {
      "cell_type": "markdown",
      "source": [
        "이 샘플 길이는 100보다 길었기 때문에 샘플 원소로 0이 없습니다. \n",
        "\n",
        "원본과 비교하여 앞과 뒤 중에 어떤 부분이 잘렸는지 확인해 보겠습니다."
      ],
      "metadata": {
        "id": "KprGcmpaf8l3"
      }
    },
    {
      "cell_type": "code",
      "source": [
        "# 맨 앞 원소를 10개만 확인합니다.\n",
        "print(train_input[0][:10])"
      ],
      "metadata": {
        "colab": {
          "base_uri": "https://localhost:8080/"
        },
        "id": "y_nhl4CZhUdH",
        "outputId": "3da7a7df-fd10-42d2-ec1b-7c2b784c8b74"
      },
      "execution_count": null,
      "outputs": [
        {
          "output_type": "stream",
          "name": "stdout",
          "text": [
            "[1, 73, 89, 81, 25, 60, 2, 6, 20, 141]\n"
          ]
        }
      ]
    },
    {
      "cell_type": "code",
      "source": [
        "# 맨 뒤 원소를 10개만 확인합니다.\n",
        "print(train_input[0][-10:])"
      ],
      "metadata": {
        "colab": {
          "base_uri": "https://localhost:8080/"
        },
        "id": "Moy_38A9gcgj",
        "outputId": "58911e43-c11d-4163-c56f-fa5b84548ef0"
      },
      "execution_count": null,
      "outputs": [
        {
          "output_type": "stream",
          "name": "stdout",
          "text": [
            "[6, 2, 46, 7, 14, 20, 10, 10, 470, 158]\n"
          ]
        }
      ]
    },
    {
      "cell_type": "markdown",
      "source": [
        "`train_input[0]`과 `train_seq[0]`의 앞부분 원소는 불일치하지만 뒷부분 원소는 일치합니다. 앞부분이 잘렸다고 판단할 수 있습니다. 즉 `pad_sequences()` 메서드는 매개변수 `maxlen`에 지정한 값보다 긴 시퀀스의 앞부분을 자릅니다. 앞부분을 자르는 이유는 시퀀스의 뒷부분이 가진 정보가 더 유용할 것이라고 예상하기 때문입니다. 특히 이 리뷰 데이터 세트의 경우 리뷰의 앞부분보다는 뒷부분에 더 결정적이고 중요한 소감을 말할 가능성이 높습니다. 만약 뒷부분을 자르려면 매개변수 `truncating`의 디폴트인 `pre`가 아닌 `post`를 지정합니다.\n",
        "\n",
        "이번에는 `train_seq`의 여섯 번째 샘플을 확인해 보겠습니다."
      ],
      "metadata": {
        "id": "-YM5z0nQhFrI"
      }
    },
    {
      "cell_type": "code",
      "source": [
        "print(train_seq[5])"
      ],
      "metadata": {
        "colab": {
          "base_uri": "https://localhost:8080/"
        },
        "id": "Dd5IDYyGVTNW",
        "outputId": "c6082a3e-5eb8-4605-cbe9-190e886e769c"
      },
      "execution_count": null,
      "outputs": [
        {
          "output_type": "stream",
          "name": "stdout",
          "text": [
            "[  0   0   0   0   1   2 195  19  49   2   2 190   4   2 352   2 183  10\n",
            "  10  13  82  79   4   2  36  71 269   8   2  25  19  49   7   4   2   2\n",
            "   2   2   2  10  10  48  25  40   2  11   2   2  40   2   2   5   4   2\n",
            "   2  95  14 238  56 129   2  10  10  21   2  94 364 352   2   2  11 190\n",
            "  24 484   2   7  94 205 405  10  10  87   2  34  49   2   7   2   2   2\n",
            "   2   2 290   2  46  48  64  18   4   2]\n"
          ]
        }
      ]
    },
    {
      "cell_type": "markdown",
      "source": [
        "앞부분 원소 4개가 0입니다. 여섯 번째 샘플 길이는 96입니다. 시퀀스의 앞부분을 자르는 것과 같은 이치로써 패딩 토큰 또한 시퀀스의 뒷부분이 아닌 앞부분에 추가됩니다. 시퀀스의 마지막에 구성된 단어가 셀의 은닉 상태에 가장 큰 영향을 미칠 가능성이 높으므로 뒷부분에 패딩을 추가하는 것은 선호되는 방법이 아닙니다. 만약 패딩을 뒷부분에 추가하려면 매개변수 `padding`의 디폴트인 `pre`를 `post`로 지정합니다.\n",
        "\n",
        "검증 데이터 세트의 길이도 100으로 지정하겠습니다."
      ],
      "metadata": {
        "id": "7zBdbdMnYyEQ"
      }
    },
    {
      "cell_type": "code",
      "source": [
        "val_seq = pad_sequences(val_input, maxlen=100)\n",
        "print(val_seq)\n",
        "print(val_seq.shape)"
      ],
      "metadata": {
        "colab": {
          "base_uri": "https://localhost:8080/"
        },
        "id": "zS2p_k2DaPWU",
        "outputId": "323fcb4c-f70f-4b9f-ccc4-db054e2c80cc"
      },
      "execution_count": null,
      "outputs": [
        {
          "output_type": "stream",
          "name": "stdout",
          "text": [
            "[[ 32   2 225 ...  14  58   2]\n",
            " [ 53   2   8 ...   7  32   2]\n",
            " [  0   0   0 ...   2  33  32]\n",
            " ...\n",
            " [383   2 120 ...  16  99  76]\n",
            " [106 345  12 ... 120   2 156]\n",
            " [  4 114  21 ...   4   2   2]]\n",
            "(5000, 100)\n"
          ]
        }
      ]
    },
    {
      "cell_type": "markdown",
      "source": [
        "## **순환 신경망 만들기**"
      ],
      "metadata": {
        "id": "IT8V0OyFxBxx"
      }
    },
    {
      "cell_type": "markdown",
      "source": [
        "케라스가 제공하는 여러 순환층 클래스 중 가장 간단하고 기본적인 클래스는 `SimpleRNN`입니다. 이 클래스는 챕터 7의 파트 1에서 설명한 것과 유사한 기능을 가집니다. IMDB 리뷰 분류 문제는 이진 분류 문제입니다. 따라서 마지막 출력층은 유닛 1개를 가지고 시그모이드 활성화 함수를 사용해야 합니다. 먼저 `Sequential` 클래스로 생성한 코드를 확인해 보겠습니다."
      ],
      "metadata": {
        "id": "Pk1Ujt-FcuY6"
      }
    },
    {
      "cell_type": "code",
      "source": [
        "from tensorflow import keras\n",
        "model = keras.Sequential()\n",
        "# 첫 번째 매개변수는 유닛 개수입니다.\n",
        "model.add(keras.layers.SimpleRNN(8, input_shape=(100, 500)))\n",
        "model.add(keras.layers.Dense(1, activation='sigmoid'))"
      ],
      "metadata": {
        "id": "SXOXbAqWdQQi"
      },
      "execution_count": null,
      "outputs": []
    },
    {
      "cell_type": "markdown",
      "source": [
        "지금까지 살펴왔던 코드와 비슷한 형태입니다. 차이점이라면 `Dense` 클래스나 `Conv2D` 클래스 대신 `SimpleRNN` 클래스를 사용한 것입니다. `SimpleRNN` 클래스의 디폴트 활성화 함수(매개변수 `activation`)는 하이퍼볼릭 탄젠트 함수인 `tanh`이며 다른 함수를 따로 지정하지 않았으므로 디폴트를 그대로 사용합니다. 참고로 `dropout` 매개변수는 입력에 대한 드롭아웃 비율이며, `return_sequences` 매개변수는 모든 타임스텝의 은닉 상태 출력 여부입니다(디폴트 `False`).\n",
        "\n",
        "입력 차원은 (100, 500)입니다. 첫 번째 차원은 샘플 길이가 100이므로 100입니다. 두 번째 차원이 500인 이유는 자세하게 설명할 필요가 있습니다. `train_seq`와 `val_seq`는 문제가 하나 있습니다. 토큰을 정수로 변환한 이 데이터를 신경망에 주입하면 큰 정수가 큰 활성화 출력을 만듭니다. 큰 정수일수록 영향력이 큰 것입니다. 그러나 이 정수 간에는 어떠한 관련성도 없습니다. 예컨대 더 큰 정수인 토큰 20을 더 작은 정수인 토큰 10보다 중요시할 이유가 없습니다. 단순한 정숫값을 신경망에 입력하려면 정숫값의 크기 속성을 없애고 각 정수를 고유하게 표현해야 합니다. 이를 구현할 방법은 원-핫 인코딩입니다. 토큰 10을 원-핫 인코딩으로 바꾸면 0, 0, 0, 0, 0, 0, 0, 0, 0, 0, 1, 0, ..., 0이 됩니다. 열한 번째 원소만 1이고 나머지는 0입니다. 이 배열의 길이가 중요합니다. 처음 `imdb.load_data()` 메서드로 데이터를 생성할 때 단어를 500개만 사용하도록 지정했으므로 고유 단어는 500개입니다. 훈련 데이터 세트에 포함될 수 있는 정숫값 범위는 패딩 토큰인 0부터 499까지입니다. 이 범위를 원-핫 인코딩으로 표현하면 배열 길이는 500이 됩니다. 원-핫 인코딩을 수행하는 케라스의 유틸리티는 `keras.utils` 패키지의 `to_categorical()` 메서드입니다. 아래처럼 메서드에 정수 배열을 입력하면 원-핫 인코딩된 배열을 생성합니다."
      ],
      "metadata": {
        "id": "2QXpL1cll36j"
      }
    },
    {
      "cell_type": "code",
      "source": [
        "train_oh = keras.utils.to_categorical(train_seq)\n",
        "print(train_oh)\n",
        "print(train_oh.shape)"
      ],
      "metadata": {
        "colab": {
          "base_uri": "https://localhost:8080/"
        },
        "id": "d0rhFqDXR8FL",
        "outputId": "2f54126c-09ab-44c4-da25-88012999a3f8"
      },
      "execution_count": null,
      "outputs": [
        {
          "output_type": "stream",
          "name": "stdout",
          "text": [
            "[[[0. 0. 0. ... 0. 0. 0.]\n",
            "  [0. 0. 0. ... 0. 0. 0.]\n",
            "  [0. 0. 0. ... 0. 0. 0.]\n",
            "  ...\n",
            "  [0. 0. 0. ... 0. 0. 0.]\n",
            "  [0. 0. 0. ... 0. 0. 0.]\n",
            "  [0. 0. 0. ... 0. 0. 0.]]\n",
            "\n",
            " [[0. 0. 0. ... 0. 0. 0.]\n",
            "  [0. 0. 1. ... 0. 0. 0.]\n",
            "  [0. 0. 0. ... 0. 0. 0.]\n",
            "  ...\n",
            "  [0. 0. 0. ... 0. 0. 0.]\n",
            "  [0. 0. 1. ... 0. 0. 0.]\n",
            "  [0. 0. 1. ... 0. 0. 0.]]\n",
            "\n",
            " [[0. 0. 1. ... 0. 0. 0.]\n",
            "  [0. 0. 0. ... 0. 0. 0.]\n",
            "  [0. 0. 1. ... 0. 0. 0.]\n",
            "  ...\n",
            "  [0. 0. 1. ... 0. 0. 0.]\n",
            "  [0. 0. 1. ... 0. 0. 0.]\n",
            "  [0. 0. 0. ... 0. 0. 0.]]\n",
            "\n",
            " ...\n",
            "\n",
            " [[0. 0. 1. ... 0. 0. 0.]\n",
            "  [0. 0. 0. ... 0. 0. 0.]\n",
            "  [0. 0. 0. ... 0. 0. 0.]\n",
            "  ...\n",
            "  [0. 0. 0. ... 0. 0. 0.]\n",
            "  [0. 0. 0. ... 0. 0. 0.]\n",
            "  [0. 0. 1. ... 0. 0. 0.]]\n",
            "\n",
            " [[1. 0. 0. ... 0. 0. 0.]\n",
            "  [1. 0. 0. ... 0. 0. 0.]\n",
            "  [1. 0. 0. ... 0. 0. 0.]\n",
            "  ...\n",
            "  [0. 0. 0. ... 0. 0. 0.]\n",
            "  [0. 0. 0. ... 0. 0. 0.]\n",
            "  [0. 0. 1. ... 0. 0. 0.]]\n",
            "\n",
            " [[1. 0. 0. ... 0. 0. 0.]\n",
            "  [1. 0. 0. ... 0. 0. 0.]\n",
            "  [1. 0. 0. ... 0. 0. 0.]\n",
            "  ...\n",
            "  [0. 0. 0. ... 0. 0. 0.]\n",
            "  [0. 0. 0. ... 0. 0. 0.]\n",
            "  [0. 0. 1. ... 0. 0. 0.]]]\n",
            "(20000, 100, 500)\n"
          ]
        }
      ]
    },
    {
      "cell_type": "markdown",
      "source": [
        "정수마다 500차원 배열로 바뀌었으므로 (20000, 100, 500) 크기가 됐습니다. 이처럼 샘플 데이터 크기가 1차원 정수 배열 (100, )에서 2차원 배열(100, 500)으로 바뀌면서 입력값인 `input_shape`를 (100, 500)으로 지정했습니다.\n",
        "\n",
        "`train_oh`의 첫 번째 샘플의 첫 번째 토큰 10이 어떻게 인코딩됐는지 확인해 보겠습니다."
      ],
      "metadata": {
        "id": "pmp73jKmSK3n"
      }
    },
    {
      "cell_type": "code",
      "source": [
        "# 첫 번째 샘플의 첫 번째 토큰 10을 확인합니다.\n",
        "print(train_seq[0])"
      ],
      "metadata": {
        "colab": {
          "base_uri": "https://localhost:8080/"
        },
        "id": "vKX-hSsXU0w6",
        "outputId": "81242d5e-3d3a-441b-f585-4dbe15841cf8"
      },
      "execution_count": null,
      "outputs": [
        {
          "output_type": "stream",
          "name": "stdout",
          "text": [
            "[ 10   4  20   9   2 364 352   5  45   6   2   2  33 269   8   2 142   2\n",
            "   5   2  17  73  17 204   5   2  19  55   2   2  92  66 104  14  20  93\n",
            "  76   2 151  33   4  58  12 188   2 151  12 215  69 224 142  73 237   6\n",
            "   2   7   2   2 188   2 103  14  31  10  10 451   7   2   5   2  80  91\n",
            "   2  30   2  34  14  20 151  50  26 131  49   2  84  46  50  37  80  79\n",
            "   6   2  46   7  14  20  10  10 470 158]\n"
          ]
        }
      ]
    },
    {
      "cell_type": "code",
      "source": [
        "# 첫 번째 샘플의 첫 번째 토큰10이 원-핫 인코딩된 결과를 확인합니다.\n",
        "print(train_oh[0][0])"
      ],
      "metadata": {
        "colab": {
          "base_uri": "https://localhost:8080/"
        },
        "id": "2oN3Ti13T70t",
        "outputId": "04006a1d-e131-4c4b-f8cd-db4912f9b4e1"
      },
      "execution_count": null,
      "outputs": [
        {
          "output_type": "stream",
          "name": "stdout",
          "text": [
            "[0. 0. 0. 0. 0. 0. 0. 0. 0. 0. 1. 0. 0. 0. 0. 0. 0. 0. 0. 0. 0. 0. 0. 0.\n",
            " 0. 0. 0. 0. 0. 0. 0. 0. 0. 0. 0. 0. 0. 0. 0. 0. 0. 0. 0. 0. 0. 0. 0. 0.\n",
            " 0. 0. 0. 0. 0. 0. 0. 0. 0. 0. 0. 0. 0. 0. 0. 0. 0. 0. 0. 0. 0. 0. 0. 0.\n",
            " 0. 0. 0. 0. 0. 0. 0. 0. 0. 0. 0. 0. 0. 0. 0. 0. 0. 0. 0. 0. 0. 0. 0. 0.\n",
            " 0. 0. 0. 0. 0. 0. 0. 0. 0. 0. 0. 0. 0. 0. 0. 0. 0. 0. 0. 0. 0. 0. 0. 0.\n",
            " 0. 0. 0. 0. 0. 0. 0. 0. 0. 0. 0. 0. 0. 0. 0. 0. 0. 0. 0. 0. 0. 0. 0. 0.\n",
            " 0. 0. 0. 0. 0. 0. 0. 0. 0. 0. 0. 0. 0. 0. 0. 0. 0. 0. 0. 0. 0. 0. 0. 0.\n",
            " 0. 0. 0. 0. 0. 0. 0. 0. 0. 0. 0. 0. 0. 0. 0. 0. 0. 0. 0. 0. 0. 0. 0. 0.\n",
            " 0. 0. 0. 0. 0. 0. 0. 0. 0. 0. 0. 0. 0. 0. 0. 0. 0. 0. 0. 0. 0. 0. 0. 0.\n",
            " 0. 0. 0. 0. 0. 0. 0. 0. 0. 0. 0. 0. 0. 0. 0. 0. 0. 0. 0. 0. 0. 0. 0. 0.\n",
            " 0. 0. 0. 0. 0. 0. 0. 0. 0. 0. 0. 0. 0. 0. 0. 0. 0. 0. 0. 0. 0. 0. 0. 0.\n",
            " 0. 0. 0. 0. 0. 0. 0. 0. 0. 0. 0. 0. 0. 0. 0. 0. 0. 0. 0. 0. 0. 0. 0. 0.\n",
            " 0. 0. 0. 0. 0. 0. 0. 0. 0. 0. 0. 0. 0. 0. 0. 0. 0. 0. 0. 0. 0. 0. 0. 0.\n",
            " 0. 0. 0. 0. 0. 0. 0. 0. 0. 0. 0. 0. 0. 0. 0. 0. 0. 0. 0. 0. 0. 0. 0. 0.\n",
            " 0. 0. 0. 0. 0. 0. 0. 0. 0. 0. 0. 0. 0. 0. 0. 0. 0. 0. 0. 0. 0. 0. 0. 0.\n",
            " 0. 0. 0. 0. 0. 0. 0. 0. 0. 0. 0. 0. 0. 0. 0. 0. 0. 0. 0. 0. 0. 0. 0. 0.\n",
            " 0. 0. 0. 0. 0. 0. 0. 0. 0. 0. 0. 0. 0. 0. 0. 0. 0. 0. 0. 0. 0. 0. 0. 0.\n",
            " 0. 0. 0. 0. 0. 0. 0. 0. 0. 0. 0. 0. 0. 0. 0. 0. 0. 0. 0. 0. 0. 0. 0. 0.\n",
            " 0. 0. 0. 0. 0. 0. 0. 0. 0. 0. 0. 0. 0. 0. 0. 0. 0. 0. 0. 0. 0. 0. 0. 0.\n",
            " 0. 0. 0. 0. 0. 0. 0. 0. 0. 0. 0. 0. 0. 0. 0. 0. 0. 0. 0. 0. 0. 0. 0. 0.\n",
            " 0. 0. 0. 0. 0. 0. 0. 0. 0. 0. 0. 0. 0. 0. 0. 0. 0. 0. 0. 0.]\n"
          ]
        }
      ]
    },
    {
      "cell_type": "markdown",
      "source": [
        "열한 번째만 1이고 나머지는 0입니다. 본서에서는 `print(train_oh[0][0][:12])`로 앞부분 원소만 출력했으나 여기서는 전체를 출력해 봤습니다.\n",
        "\n",
        "아래처럼 모든 원소를 더하면 당연히 1이 됩니다. 원소 하나만 1이기 때문입니다."
      ],
      "metadata": {
        "id": "_jVKhT83VK6x"
      }
    },
    {
      "cell_type": "code",
      "source": [
        "print(np.sum(train_oh[0][0]))"
      ],
      "metadata": {
        "colab": {
          "base_uri": "https://localhost:8080/"
        },
        "id": "OgNQMWrAVjtk",
        "outputId": "a9a95f07-f641-4893-ae02-22b9ac819eb0"
      },
      "execution_count": null,
      "outputs": [
        {
          "output_type": "stream",
          "name": "stdout",
          "text": [
            "1.0\n"
          ]
        }
      ]
    },
    {
      "cell_type": "markdown",
      "source": [
        "`val_seq`도 원-핫 인코딩을 수행하겠습니다."
      ],
      "metadata": {
        "id": "-lCeRucZW1Bh"
      }
    },
    {
      "cell_type": "code",
      "source": [
        "val_oh = keras.utils.to_categorical(val_seq)\n",
        "print(val_oh[0])\n",
        "print(val_oh.shape)"
      ],
      "metadata": {
        "colab": {
          "base_uri": "https://localhost:8080/"
        },
        "id": "b_FIqCw1W5Za",
        "outputId": "bc94ba0a-6b34-45bb-80d6-942c877719a0"
      },
      "execution_count": null,
      "outputs": [
        {
          "output_type": "stream",
          "name": "stdout",
          "text": [
            "[[0. 0. 0. ... 0. 0. 0.]\n",
            " [0. 0. 1. ... 0. 0. 0.]\n",
            " [0. 0. 0. ... 0. 0. 0.]\n",
            " ...\n",
            " [0. 0. 0. ... 0. 0. 0.]\n",
            " [0. 0. 0. ... 0. 0. 0.]\n",
            " [0. 0. 1. ... 0. 0. 0.]]\n",
            "(5000, 100, 500)\n"
          ]
        }
      ]
    },
    {
      "cell_type": "markdown",
      "source": [
        "모든 데이터 세트를 준비했습니다.\n",
        "\n",
        "모델 구조를 확인해 보겠습니다."
      ],
      "metadata": {
        "id": "4__EKWKUWz3l"
      }
    },
    {
      "cell_type": "code",
      "source": [
        "model.summary()"
      ],
      "metadata": {
        "colab": {
          "base_uri": "https://localhost:8080/"
        },
        "id": "jRIYt-_gXLiG",
        "outputId": "ed582b46-8b4b-42e8-da1c-dabe7d8b085e"
      },
      "execution_count": null,
      "outputs": [
        {
          "output_type": "stream",
          "name": "stdout",
          "text": [
            "Model: \"sequential\"\n",
            "_________________________________________________________________\n",
            " Layer (type)                Output Shape              Param #   \n",
            "=================================================================\n",
            " simple_rnn (SimpleRNN)      (None, 8)                 4072      \n",
            "                                                                 \n",
            " dense (Dense)               (None, 1)                 9         \n",
            "                                                                 \n",
            "=================================================================\n",
            "Total params: 4,081\n",
            "Trainable params: 4,081\n",
            "Non-trainable params: 0\n",
            "_________________________________________________________________\n"
          ]
        }
      ]
    },
    {
      "cell_type": "markdown",
      "source": [
        "`SimpleRNN`에 전달할 샘플 크기는 (100, 500)이지만 이 순환층은 마지막 타임스텝의 은닉 상태만 출력합니다. 따라서 출력 크기가 순환층의 유닛 개수와 동일한 8입니다(위에서 8로 지정했습니다).\n",
        "\n",
        "순환층에 사용된 모델 파라미터 개수를 산출해 보겠습니다. 입력 토큰은 500차원의 원-핫 인코딩 배열이며, 이 배열이 순환층의 유닛 8개와 완전히 연결되므로 가중치 개수는 500 x 8 = 4,000개입니다. 순환층의 은닉 상태는 다시 다음 타임스텝에 사용되기 위해 또 다른 가중치와 곱해집니다. 이 은닉 상태도 순환층의 유닛과 완전히 연결되므로 가중치는 8(은닉 상태 크기) x 8(유닛 개수) = 64개가 됩니다. 유닛마다 절편 하나가 존재하므로 총 파라미터 개수는 4,000 + 64 + 8 = 4,072개입니다."
      ],
      "metadata": {
        "id": "Ix7-4-TrXRKJ"
      }
    },
    {
      "cell_type": "markdown",
      "source": [
        "## **순환 신경망 훈련하기**"
      ],
      "metadata": {
        "id": "KhAcqoM6xBvX"
      }
    },
    {
      "cell_type": "markdown",
      "source": [
        "순환 신경망은 완전 연결 신경망 및 합성곱 신경망과 모델을 생성하는 방법은 다르지만 훈련하는 방법은 같습니다. 아래 코드로 구현하고 설명을 이어가겠습니다."
      ],
      "metadata": {
        "id": "Ud1IZ_aNvHic"
      }
    },
    {
      "cell_type": "code",
      "source": [
        "# 기본 RMSprop의 학습률 0.001을 사용하지 않기 위해 \n",
        "# 별도로 RMSprop 객체를 생성하여 학습률을 0.0001로 지정합니다.\n",
        "rmsprop = keras.optimizers.RMSprop(learning_rate=1e-4)\n",
        "model.compile(optimizer=rmsprop, loss='binary_crossentropy', metrics=['accuracy'])\n",
        "\n",
        "checkpoint_cb = keras.callbacks.ModelCheckpoint('best-simplernn-model.h5')\n",
        "early_stopping_cb = keras.callbacks.EarlyStopping(patience=3,\n",
        "                                                  restore_best_weights=True)\n",
        "\n",
        "history = model.fit(train_oh, train_target, epochs=100, batch_size=64, \n",
        "                    validation_data=(val_oh, val_target),\n",
        "                    callbacks=[checkpoint_cb, early_stopping_cb])"
      ],
      "metadata": {
        "colab": {
          "base_uri": "https://localhost:8080/"
        },
        "id": "tyPyuZeZvpZE",
        "outputId": "23575836-718d-4fff-bf49-76960c903306"
      },
      "execution_count": null,
      "outputs": [
        {
          "output_type": "stream",
          "name": "stdout",
          "text": [
            "Epoch 1/100\n",
            "313/313 [==============================] - 14s 41ms/step - loss: 0.6970 - accuracy: 0.5132 - val_loss: 0.6916 - val_accuracy: 0.5322\n",
            "Epoch 2/100\n",
            "313/313 [==============================] - 13s 40ms/step - loss: 0.6794 - accuracy: 0.5745 - val_loss: 0.6731 - val_accuracy: 0.5940\n",
            "Epoch 3/100\n",
            "313/313 [==============================] - 13s 40ms/step - loss: 0.6631 - accuracy: 0.6206 - val_loss: 0.6576 - val_accuracy: 0.6268\n",
            "Epoch 4/100\n",
            "313/313 [==============================] - 12s 40ms/step - loss: 0.6427 - accuracy: 0.6552 - val_loss: 0.6363 - val_accuracy: 0.6632\n",
            "Epoch 5/100\n",
            "313/313 [==============================] - 13s 40ms/step - loss: 0.6209 - accuracy: 0.6873 - val_loss: 0.6182 - val_accuracy: 0.6896\n",
            "Epoch 6/100\n",
            "313/313 [==============================] - 14s 44ms/step - loss: 0.5993 - accuracy: 0.7127 - val_loss: 0.6001 - val_accuracy: 0.7016\n",
            "Epoch 7/100\n",
            "313/313 [==============================] - 13s 40ms/step - loss: 0.5797 - accuracy: 0.7311 - val_loss: 0.5815 - val_accuracy: 0.7188\n",
            "Epoch 8/100\n",
            "313/313 [==============================] - 13s 40ms/step - loss: 0.5615 - accuracy: 0.7449 - val_loss: 0.5700 - val_accuracy: 0.7256\n",
            "Epoch 9/100\n",
            "313/313 [==============================] - 12s 40ms/step - loss: 0.5444 - accuracy: 0.7564 - val_loss: 0.5500 - val_accuracy: 0.7366\n",
            "Epoch 10/100\n",
            "313/313 [==============================] - 13s 40ms/step - loss: 0.5301 - accuracy: 0.7638 - val_loss: 0.5378 - val_accuracy: 0.7480\n",
            "Epoch 11/100\n",
            "313/313 [==============================] - 13s 40ms/step - loss: 0.5160 - accuracy: 0.7725 - val_loss: 0.5263 - val_accuracy: 0.7566\n",
            "Epoch 12/100\n",
            "313/313 [==============================] - 12s 40ms/step - loss: 0.5038 - accuracy: 0.7799 - val_loss: 0.5158 - val_accuracy: 0.7640\n",
            "Epoch 13/100\n",
            "313/313 [==============================] - 13s 40ms/step - loss: 0.4935 - accuracy: 0.7841 - val_loss: 0.5076 - val_accuracy: 0.7688\n",
            "Epoch 14/100\n",
            "313/313 [==============================] - 13s 40ms/step - loss: 0.4836 - accuracy: 0.7909 - val_loss: 0.5005 - val_accuracy: 0.7698\n",
            "Epoch 15/100\n",
            "313/313 [==============================] - 13s 40ms/step - loss: 0.4751 - accuracy: 0.7936 - val_loss: 0.4935 - val_accuracy: 0.7732\n",
            "Epoch 16/100\n",
            "313/313 [==============================] - 13s 40ms/step - loss: 0.4682 - accuracy: 0.7969 - val_loss: 0.4866 - val_accuracy: 0.7770\n",
            "Epoch 17/100\n",
            "313/313 [==============================] - 13s 40ms/step - loss: 0.4611 - accuracy: 0.7980 - val_loss: 0.4866 - val_accuracy: 0.7738\n",
            "Epoch 18/100\n",
            "313/313 [==============================] - 13s 40ms/step - loss: 0.4552 - accuracy: 0.8013 - val_loss: 0.4816 - val_accuracy: 0.7738\n",
            "Epoch 19/100\n",
            "313/313 [==============================] - 13s 40ms/step - loss: 0.4504 - accuracy: 0.8027 - val_loss: 0.4778 - val_accuracy: 0.7784\n",
            "Epoch 20/100\n",
            "313/313 [==============================] - 13s 40ms/step - loss: 0.4458 - accuracy: 0.8049 - val_loss: 0.4769 - val_accuracy: 0.7774\n",
            "Epoch 21/100\n",
            "313/313 [==============================] - 12s 40ms/step - loss: 0.4418 - accuracy: 0.8067 - val_loss: 0.4703 - val_accuracy: 0.7810\n",
            "Epoch 22/100\n",
            "313/313 [==============================] - 14s 44ms/step - loss: 0.4383 - accuracy: 0.8076 - val_loss: 0.4669 - val_accuracy: 0.7824\n",
            "Epoch 23/100\n",
            "313/313 [==============================] - 13s 41ms/step - loss: 0.4351 - accuracy: 0.8091 - val_loss: 0.4646 - val_accuracy: 0.7846\n",
            "Epoch 24/100\n",
            "313/313 [==============================] - 13s 40ms/step - loss: 0.4329 - accuracy: 0.8105 - val_loss: 0.4661 - val_accuracy: 0.7826\n",
            "Epoch 25/100\n",
            "313/313 [==============================] - 13s 40ms/step - loss: 0.4300 - accuracy: 0.8118 - val_loss: 0.4629 - val_accuracy: 0.7838\n",
            "Epoch 26/100\n",
            "313/313 [==============================] - 12s 40ms/step - loss: 0.4278 - accuracy: 0.8138 - val_loss: 0.4708 - val_accuracy: 0.7784\n",
            "Epoch 27/100\n",
            "313/313 [==============================] - 13s 40ms/step - loss: 0.4260 - accuracy: 0.8138 - val_loss: 0.4635 - val_accuracy: 0.7834\n",
            "Epoch 28/100\n",
            "313/313 [==============================] - 12s 40ms/step - loss: 0.4238 - accuracy: 0.8142 - val_loss: 0.4597 - val_accuracy: 0.7856\n",
            "Epoch 29/100\n",
            "313/313 [==============================] - 13s 40ms/step - loss: 0.4222 - accuracy: 0.8145 - val_loss: 0.4587 - val_accuracy: 0.7860\n",
            "Epoch 30/100\n",
            "313/313 [==============================] - 12s 40ms/step - loss: 0.4204 - accuracy: 0.8155 - val_loss: 0.4596 - val_accuracy: 0.7852\n",
            "Epoch 31/100\n",
            "313/313 [==============================] - 13s 40ms/step - loss: 0.4185 - accuracy: 0.8177 - val_loss: 0.4593 - val_accuracy: 0.7850\n",
            "Epoch 32/100\n",
            "313/313 [==============================] - 13s 40ms/step - loss: 0.4174 - accuracy: 0.8170 - val_loss: 0.4598 - val_accuracy: 0.7856\n"
          ]
        }
      ]
    },
    {
      "cell_type": "markdown",
      "source": [
        "32번째 에포크에서 조기 종료 됐습니다. 검증 데이터 세트에 대한 정확도는 약 78.5%입니다.\n",
        "\n",
        "훈련 손실과 검증 손실을 그래프로 그려 보겠습니다."
      ],
      "metadata": {
        "id": "vRnPmqAi1ITH"
      }
    },
    {
      "cell_type": "code",
      "source": [
        "plt.plot(history.history['loss'])\n",
        "plt.plot(history.history['val_loss'])\n",
        "plt.xlabel('epoch')\n",
        "plt.ylabel('loss')\n",
        "plt.legend(['train', 'val'])\n",
        "plt.show()"
      ],
      "metadata": {
        "colab": {
          "base_uri": "https://localhost:8080/",
          "height": 279
        },
        "id": "FhavMoI21ayd",
        "outputId": "fa1283fd-a6f5-4d02-e322-c71a114048b1"
      },
      "execution_count": null,
      "outputs": [
        {
          "output_type": "display_data",
          "data": {
            "text/plain": [
              "<Figure size 432x288 with 1 Axes>"
            ],
            "image/png": "[encoded data removed]"
          },
          "metadata": {
            "needs_background": "light"
          }
        }
      ]
    },
    {
      "cell_type": "markdown",
      "source": [
        "훈련 손실은 지속적으로 감소하지만 검증 손실은 대략 20번째 에포크에서 감소 정도가 덜합니다. 적절한 에포크에서 훈련을 멈췄습니다. \n",
        "\n",
        "한 가지 고려할 점이라면 원-핫 인코딩을 수행한 데이터는 입력 데이터가 커져서 메모리 소모가 많습니다. 데이터 크기를 확인해 보겠습니다."
      ],
      "metadata": {
        "id": "ni-9BKYy1vyW"
      }
    },
    {
      "cell_type": "code",
      "source": [
        "print(train_seq.nbytes, train_oh.nbytes)"
      ],
      "metadata": {
        "colab": {
          "base_uri": "https://localhost:8080/"
        },
        "id": "ban3XeKz2NZi",
        "outputId": "9ec35a77-09a4-44da-bca2-ad8aec542985"
      },
      "execution_count": null,
      "outputs": [
        {
          "output_type": "stream",
          "name": "stdout",
          "text": [
            "8000000 4000000000\n"
          ]
        }
      ]
    },
    {
      "cell_type": "markdown",
      "source": [
        "토큰 1개를 500차원으로 늘렸으므로 500배 정도 커진 셈입니다. 훈련 데이터가 커질수록 압도적인 크기로 커지기 때문에 결코 적절한 방법은 아닙니다. 아래 파트에서 더 나은 단어 표현 방법을 살펴 보겠습니다."
      ],
      "metadata": {
        "id": "5DtTckqU2WgV"
      }
    },
    {
      "cell_type": "markdown",
      "source": [
        "## **단어 임베딩을 사용하기**"
      ],
      "metadata": {
        "id": "iy34IMEZxBtK"
      }
    },
    {
      "cell_type": "markdown",
      "source": [
        "**단어 임베딩(word embedding)**은 순환 신경망에서 텍스트를 처리할 때 많이 사용하는 방법입니다. 단어 임베딩은 각 단어를 고정된 크기의 실수 벡터로 바꿉니다. 예컨대 'cat'이라는 단어에 단어 임베딩을 수행하여 0.2/0.1/1.3/0.8/0.2/0.4/1.1/0.9/0.2/0.1라는 벡터로 변환합니다. 이 벡터들은 원-핫 인코딩이 수행된 벡터보다 훨씬 유의미한 값이므로 NLP에서 더 좋은 성능을 내는 경우가 많습니다. 단어 임베딩 벡터를 생성하는 층을 추가하려면 `keras.layers` 패키지의 `Embedding` 클래스를 사용합니다. 이 클래스를 다른 층처럼 모델에 추가하면 처음에는 모든 벡터가 랜덤하게 초기화되지만 훈련을 통해 데이터에서 좋은 단어 임베딩을 학습합니다.\n",
        "\n",
        "단어 임베딩은 정수 데이터(정수로 변환된 토큰)를 입력으로 받습니다. 원-핫 인코딩으로 변환된 배열인 `train_oh`가 아닌 `train_seq`를 바로 사용하여 메모리를 적게 사용할 수 있습니다. 원-핫 인코딩의 경우 1차원 배열인 샘플(100, )을 500차원으로 늘려서 2차원 배열(100, 500)을 만든 것처럼 단어 임베딩도 샘플을 2차원 배열로 늘립니다. 다만 단어 임베딩은 500차원보다 (예를 들면)훨씬 작은 20차원(100, 20)으로 늘립니다. 작은 크기로도 단어를 잘 표현할 수 있기 때문입니다.\n",
        "\n",
        "`Embedding` 클래스를 `SimpleRNN` 층 앞에 추가하여 순환 신경망을 생성해 보겠습니다. `Embedding` 클래스의 첫 번째 매개변수는 어휘 사전 크기이고, 두 번째 매개변수는 단어 임베딩 벡터 크기입니다. 세 번째 매개변수(`input_length`)는 입력 시퀀스 길이이며 `train_seq` 길이를 100으로 축소했으므로 `100`을 지정합니다. 이 매개변수는 `Embedding` 층 바로 뒤에 `Flatten` 클래스나 `Dense` 클래스가 있으면 반드시 지정해야 합니다."
      ],
      "metadata": {
        "id": "5nN77Qy5k7sh"
      }
    },
    {
      "cell_type": "code",
      "source": [
        "model2 = keras.Sequential()\n",
        "\n",
        "model2.add(keras.layers.Embedding(500, 16, input_length=100))\n",
        "model2.add(keras.layers.SimpleRNN(8))\n",
        "model2.add(keras.layers.Dense(1, activation='sigmoid'))\n",
        "\n",
        "model2.summary()"
      ],
      "metadata": {
        "colab": {
          "base_uri": "https://localhost:8080/"
        },
        "id": "ks44TDpm4H4M",
        "outputId": "4c0b6fb1-e45a-4dc9-b430-b2af6da59971"
      },
      "execution_count": null,
      "outputs": [
        {
          "output_type": "stream",
          "name": "stdout",
          "text": [
            "Model: \"sequential_1\"\n",
            "_________________________________________________________________\n",
            " Layer (type)                Output Shape              Param #   \n",
            "=================================================================\n",
            " embedding (Embedding)       (None, 100, 16)           8000      \n",
            "                                                                 \n",
            " simple_rnn_1 (SimpleRNN)    (None, 8)                 200       \n",
            "                                                                 \n",
            " dense_1 (Dense)             (None, 1)                 9         \n",
            "                                                                 \n",
            "=================================================================\n",
            "Total params: 8,209\n",
            "Trainable params: 8,209\n",
            "Non-trainable params: 0\n",
            "_________________________________________________________________\n"
          ]
        }
      ]
    },
    {
      "cell_type": "markdown",
      "source": [
        "이 모델은 (100, ) 크기의 입력을 받아 (100, 16) 크기의 출력을 만듭니다. 파라미터 개수는 `Embedding` 층은 500(토큰) x 16(임베딩 벡터) = 8000개입니다. `SimpleRNN` 층은 16(임베딩 벡터) x 8(유닛) = 128개와 은닉 상태에 곱해지는 가중치 8 x 8 = 64개, 그리고 절편 8개를 모두 더하여 200개입니다. 밀집층의 가중치 개수는 이전과 같은 9개 입니다.\n",
        "\n",
        "모델을 훈련해 보겠습니다. 과정은 위와 같습니다."
      ],
      "metadata": {
        "id": "ejjGLKh010DK"
      }
    },
    {
      "cell_type": "code",
      "source": [
        "rmsprop = keras.optimizers.RMSprop(learning_rate=1e-4)\n",
        "model2.compile(optimizer=rmsprop, loss='binary_crossentropy', \n",
        "               metrics=['accuracy'])\n",
        "\n",
        "checkpoint_cb = keras.callbacks.ModelCheckpoint('best-embedding-model.h5', \n",
        "                                                save_best_only=True)\n",
        "early_stopping_cb = keras.callbacks.EarlyStopping(patience=3,\n",
        "                                                  restore_best_weights=True)\n",
        "\n",
        "history = model2.fit(train_seq, train_target, epochs=100, batch_size=64,\n",
        "                     validation_data=(val_seq, val_target),\n",
        "                     callbacks=[checkpoint_cb, early_stopping_cb])"
      ],
      "metadata": {
        "colab": {
          "base_uri": "https://localhost:8080/"
        },
        "id": "FJFmoBo-4IjN",
        "outputId": "fe0cda94-66e8-4988-a928-8091a4b5adce"
      },
      "execution_count": null,
      "outputs": [
        {
          "output_type": "stream",
          "name": "stdout",
          "text": [
            "Epoch 1/100\n",
            "313/313 [==============================] - 8s 23ms/step - loss: 0.6929 - accuracy: 0.5179 - val_loss: 0.6904 - val_accuracy: 0.5242\n",
            "Epoch 2/100\n",
            "313/313 [==============================] - 7s 22ms/step - loss: 0.6786 - accuracy: 0.6008 - val_loss: 0.6781 - val_accuracy: 0.6042\n",
            "Epoch 3/100\n",
            "313/313 [==============================] - 8s 25ms/step - loss: 0.6624 - accuracy: 0.6604 - val_loss: 0.6631 - val_accuracy: 0.6482\n",
            "Epoch 4/100\n",
            "313/313 [==============================] - 7s 22ms/step - loss: 0.6446 - accuracy: 0.7001 - val_loss: 0.6450 - val_accuracy: 0.6884\n",
            "Epoch 5/100\n",
            "313/313 [==============================] - 7s 23ms/step - loss: 0.6262 - accuracy: 0.7257 - val_loss: 0.6262 - val_accuracy: 0.7228\n",
            "Epoch 6/100\n",
            "313/313 [==============================] - 8s 25ms/step - loss: 0.6086 - accuracy: 0.7432 - val_loss: 0.6083 - val_accuracy: 0.7424\n",
            "Epoch 7/100\n",
            "313/313 [==============================] - 7s 24ms/step - loss: 0.5917 - accuracy: 0.7551 - val_loss: 0.5975 - val_accuracy: 0.7378\n",
            "Epoch 8/100\n",
            "313/313 [==============================] - 9s 28ms/step - loss: 0.5755 - accuracy: 0.7630 - val_loss: 0.5785 - val_accuracy: 0.7568\n",
            "Epoch 9/100\n",
            "313/313 [==============================] - 7s 23ms/step - loss: 0.5602 - accuracy: 0.7732 - val_loss: 0.5645 - val_accuracy: 0.7666\n",
            "Epoch 10/100\n",
            "313/313 [==============================] - 9s 29ms/step - loss: 0.5460 - accuracy: 0.7791 - val_loss: 0.5540 - val_accuracy: 0.7698\n",
            "Epoch 11/100\n",
            "313/313 [==============================] - 8s 26ms/step - loss: 0.5316 - accuracy: 0.7863 - val_loss: 0.5430 - val_accuracy: 0.7650\n",
            "Epoch 12/100\n",
            "313/313 [==============================] - 7s 22ms/step - loss: 0.5195 - accuracy: 0.7869 - val_loss: 0.5392 - val_accuracy: 0.7608\n",
            "Epoch 13/100\n",
            "313/313 [==============================] - 7s 22ms/step - loss: 0.5077 - accuracy: 0.7925 - val_loss: 0.5269 - val_accuracy: 0.7662\n",
            "Epoch 14/100\n",
            "313/313 [==============================] - 7s 22ms/step - loss: 0.4979 - accuracy: 0.7953 - val_loss: 0.5157 - val_accuracy: 0.7744\n",
            "Epoch 15/100\n",
            "313/313 [==============================] - 7s 22ms/step - loss: 0.4876 - accuracy: 0.7991 - val_loss: 0.5093 - val_accuracy: 0.7742\n",
            "Epoch 16/100\n",
            "313/313 [==============================] - 7s 23ms/step - loss: 0.4792 - accuracy: 0.7994 - val_loss: 0.5014 - val_accuracy: 0.7788\n",
            "Epoch 17/100\n",
            "313/313 [==============================] - 7s 23ms/step - loss: 0.4706 - accuracy: 0.8019 - val_loss: 0.4962 - val_accuracy: 0.7788\n",
            "Epoch 18/100\n",
            "313/313 [==============================] - 7s 22ms/step - loss: 0.4636 - accuracy: 0.8050 - val_loss: 0.4923 - val_accuracy: 0.7782\n",
            "Epoch 19/100\n",
            "313/313 [==============================] - 7s 22ms/step - loss: 0.4574 - accuracy: 0.8074 - val_loss: 0.4864 - val_accuracy: 0.7788\n",
            "Epoch 20/100\n",
            "313/313 [==============================] - 8s 26ms/step - loss: 0.4513 - accuracy: 0.8099 - val_loss: 0.4820 - val_accuracy: 0.7844\n",
            "Epoch 21/100\n",
            "313/313 [==============================] - 7s 22ms/step - loss: 0.4454 - accuracy: 0.8102 - val_loss: 0.4809 - val_accuracy: 0.7798\n",
            "Epoch 22/100\n",
            "313/313 [==============================] - 8s 24ms/step - loss: 0.4404 - accuracy: 0.8130 - val_loss: 0.4780 - val_accuracy: 0.7820\n",
            "Epoch 23/100\n",
            "313/313 [==============================] - 7s 22ms/step - loss: 0.4359 - accuracy: 0.8139 - val_loss: 0.4769 - val_accuracy: 0.7826\n",
            "Epoch 24/100\n",
            "313/313 [==============================] - 7s 22ms/step - loss: 0.4320 - accuracy: 0.8151 - val_loss: 0.4740 - val_accuracy: 0.7830\n",
            "Epoch 25/100\n",
            "313/313 [==============================] - 7s 23ms/step - loss: 0.4277 - accuracy: 0.8163 - val_loss: 0.4701 - val_accuracy: 0.7860\n",
            "Epoch 26/100\n",
            "313/313 [==============================] - 7s 23ms/step - loss: 0.4243 - accuracy: 0.8177 - val_loss: 0.4690 - val_accuracy: 0.7872\n",
            "Epoch 27/100\n",
            "313/313 [==============================] - 7s 22ms/step - loss: 0.4206 - accuracy: 0.8190 - val_loss: 0.4685 - val_accuracy: 0.7862\n",
            "Epoch 28/100\n",
            "313/313 [==============================] - 7s 22ms/step - loss: 0.4175 - accuracy: 0.8207 - val_loss: 0.4705 - val_accuracy: 0.7848\n",
            "Epoch 29/100\n",
            "313/313 [==============================] - 7s 22ms/step - loss: 0.4145 - accuracy: 0.8216 - val_loss: 0.4667 - val_accuracy: 0.7860\n",
            "Epoch 30/100\n",
            "313/313 [==============================] - 8s 26ms/step - loss: 0.4120 - accuracy: 0.8217 - val_loss: 0.4686 - val_accuracy: 0.7852\n",
            "Epoch 31/100\n",
            "313/313 [==============================] - 7s 22ms/step - loss: 0.4094 - accuracy: 0.8230 - val_loss: 0.4709 - val_accuracy: 0.7846\n",
            "Epoch 32/100\n",
            "313/313 [==============================] - 7s 23ms/step - loss: 0.4073 - accuracy: 0.8257 - val_loss: 0.4684 - val_accuracy: 0.7874\n"
          ]
        }
      ]
    },
    {
      "cell_type": "markdown",
      "source": [
        "원-핫 인코딩과 비슷한 성능이지만 순환층의 가중치 개수는 훨씬 작고 훈련 데이터 세트 크기도 훨씬 작아졌습니다. \n",
        "\n",
        "훈련 손실과 검증 손실을 그래프로 그려 보겠습니다."
      ],
      "metadata": {
        "id": "CgcdRsjBeLch"
      }
    },
    {
      "cell_type": "code",
      "source": [
        "plt.plot(history.history['loss'])\n",
        "plt.plot(history.history['val_loss'])\n",
        "plt.xlabel('epoch')\n",
        "plt.ylabel('loss')\n",
        "plt.legend(['train', 'val'])\n",
        "plt.show()"
      ],
      "metadata": {
        "colab": {
          "base_uri": "https://localhost:8080/",
          "height": 279
        },
        "id": "qCb9_8wT4Kvk",
        "outputId": "b86b776b-242f-46b3-8a8c-f836d534ff46"
      },
      "execution_count": null,
      "outputs": [
        {
          "output_type": "display_data",
          "data": {
            "text/plain": [
              "<Figure size 432x288 with 1 Axes>"
            ],
            "image/png": "[encoded data removed]"
          },
          "metadata": {
            "needs_background": "light"
          }
        }
      ]
    },
    {
      "cell_type": "markdown",
      "source": [
        "원-핫 인코딩에 대한 결과와 비슷합니다. 다음 챕터에서 결과를 개선할 수 있는 방안을 모색해 보겠습니다."
      ],
      "metadata": {
        "id": "YS4EPvYaec9G"
      }
    }
  ]
}
