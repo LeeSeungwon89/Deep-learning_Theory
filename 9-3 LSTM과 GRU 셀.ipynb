{
  "nbformat": 4,
  "nbformat_minor": 0,
  "metadata": {
    "colab": {
      "name": "9-3 LSTM과 GRU 셀.ipynb",
      "provenance": [],
      "collapsed_sections": [],
      "authorship_tag": "ABX9TyOr/HIlYYicAVNfwT48uEbK",
      "include_colab_link": true
    },
    "kernelspec": {
      "name": "python3",
      "display_name": "Python 3"
    },
    "language_info": {
      "name": "python"
    }
  },
  "cells": [
    {
      "cell_type": "markdown",
      "metadata": {
        "id": "view-in-github",
        "colab_type": "text"
      },
      "source": [
        "<a href=\"https://colab.research.google.com/github/LeeSeungwon89/Deep-learning_Theory/blob/main/9-3%20LSTM%EA%B3%BC%20GRU%20%EC%85%80.ipynb\" target=\"_parent\"><img src=\"https://colab.research.google.com/assets/colab-badge.svg\" alt=\"Open In Colab\"/></a>"
      ]
    },
    {
      "cell_type": "markdown",
      "source": [
        "# **9-3 LSTM과 GRU 셀**"
      ],
      "metadata": {
        "id": "iaThKIO1xjsr"
      }
    },
    {
      "cell_type": "markdown",
      "source": [
        "## **LSTM 구조**"
      ],
      "metadata": {
        "id": "UxQdM-ETxjpa"
      }
    },
    {
      "cell_type": "markdown",
      "source": [
        "## **LSTM 신경망 훈련하기**"
      ],
      "metadata": {
        "id": "w_WqKqnixjmb"
      }
    },
    {
      "cell_type": "markdown",
      "source": [
        "## **순환층에 드롭아웃 적용하기**"
      ],
      "metadata": {
        "id": "Ge8X9hvCxjjq"
      }
    },
    {
      "cell_type": "markdown",
      "source": [
        "## **2개의 층을 연결하기**"
      ],
      "metadata": {
        "id": "2x03XLM8xjhD"
      }
    },
    {
      "cell_type": "markdown",
      "source": [
        "## **GRU 구조**"
      ],
      "metadata": {
        "id": "rGkmOpl1xjeT"
      }
    },
    {
      "cell_type": "markdown",
      "source": [
        "## **GRU 신경망 훈련하기**"
      ],
      "metadata": {
        "id": "LEKgJp3ux2Ec"
      }
    },
    {
      "cell_type": "markdown",
      "source": [
        "## **LSTM과 GRU 셀로 훈련**"
      ],
      "metadata": {
        "id": "C8WJgiwox8Tv"
      }
    }
  ]
}