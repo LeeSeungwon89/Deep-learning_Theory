{
  "nbformat": 4,
  "nbformat_minor": 0,
  "metadata": {
    "colab": {
      "provenance": [],
      "collapsed_sections": [],
      "authorship_tag": "ABX9TyNfb2bHqa1/21NqR3K6/dfB",
      "include_colab_link": true
    },
    "kernelspec": {
      "name": "python3",
      "display_name": "Python 3"
    },
    "language_info": {
      "name": "python"
    }
  },
  "cells": [
    {
      "cell_type": "markdown",
      "metadata": {
        "id": "view-in-github",
        "colab_type": "text"
      },
      "source": [
        "<a href=\"https://colab.research.google.com/github/LeeSeungwon89/Deep-learning_Theory/blob/main/8-3%20%ED%95%A9%EC%84%B1%EA%B3%B1%20%EC%8B%A0%EA%B2%BD%EB%A7%9D%EC%9D%98%20%EC%8B%9C%EA%B0%81%ED%99%94.ipynb\" target=\"_parent\"><img src=\"https://colab.research.google.com/assets/colab-badge.svg\" alt=\"Open In Colab\"/></a>"
      ]
    },
    {
      "cell_type": "markdown",
      "source": [
        "# **8-3 합성곱 신경망의 시각화**"
      ],
      "metadata": {
        "id": "Ab3q6PO0v1Bm"
      }
    },
    {
      "cell_type": "markdown",
      "source": [
        "신경망이 이미지에서 어떤 것을 학습하는지 합성곱 층의 가중치와 특성 맵을 시각화하여 통해 확인해 보겠습니다."
      ],
      "metadata": {
        "id": "YTIFoyzwdxuo"
      }
    },
    {
      "cell_type": "markdown",
      "source": [
        "## **가중치 시각화**"
      ],
      "metadata": {
        "id": "bHJBBkETv0-8"
      }
    },
    {
      "cell_type": "markdown",
      "source": [
        "합성곱 층은 여러 필터를 사용하여 이미지에서 특징을 학습합니다. 각 필터는 커널이라 부르는 가중치와 절편을 가집니다. 절편은 시각적인 의미를 갖진 않지만 가중치는 입력 이미지의 2차원 영역에 적용되어 어떤 특징을 두드러지게 표현하는 역할을 가집니다. 예컨대 특정 필터가 이미지의 둥근 모서리에 도장을 찍었다면 어떤 특정 가중치는 둥근 모서리가 있는 영역에서는 크게 활성화되어 높은 값을 만들고 그렇지 않은 영역에서는 활성화되지 않은 낮은 값을 만듭니다. 이 높은 값을 토대로 둥근 모서리가 있는 입력과 곱해지면 큰 출력을 만듭니다.\n",
        "\n",
        "이전 챕터에서 학습한 가중치를 확인하기 위해 체크포인트 파일을 읽어 보겠습니다. 먼저 저자의 깃허브에 저장된 `best-cnn-model.h5` 파일을 다운로드하겠습니다. 8-2 챕터에서 생성했던 코드를 가져와도 무관합니다."
      ],
      "metadata": {
        "id": "YjV0fHeY5PYg"
      }
    },
    {
      "cell_type": "code",
      "source": [
        "!wget https://github.com/rickiepark/hg-mldl/raw/master/best-cnn-model.h5"
      ],
      "metadata": {
        "colab": {
          "base_uri": "https://localhost:8080/"
        },
        "id": "y149234WcFDp",
        "outputId": "a1ac82bd-e5ca-4f3c-cb64-50a988bcea24"
      },
      "execution_count": null,
      "outputs": [
        {
          "output_type": "stream",
          "name": "stdout",
          "text": [
            "--2022-09-10 18:23:33--  https://github.com/rickiepark/hg-mldl/raw/master/best-cnn-model.h5\n",
            "Resolving github.com (github.com)... 140.82.112.3\n",
            "Connecting to github.com (github.com)|140.82.112.3|:443... connected.\n",
            "HTTP request sent, awaiting response... 302 Found\n",
            "Location: https://raw.githubusercontent.com/rickiepark/hg-mldl/master/best-cnn-model.h5 [following]\n",
            "--2022-09-10 18:23:34--  https://raw.githubusercontent.com/rickiepark/hg-mldl/master/best-cnn-model.h5\n",
            "Resolving raw.githubusercontent.com (raw.githubusercontent.com)... 185.199.108.133, 185.199.109.133, 185.199.110.133, ...\n",
            "Connecting to raw.githubusercontent.com (raw.githubusercontent.com)|185.199.108.133|:443... connected.\n",
            "HTTP request sent, awaiting response... 200 OK\n",
            "Length: 4049416 (3.9M) [application/octet-stream]\n",
            "Saving to: ‘best-cnn-model.h5’\n",
            "\n",
            "best-cnn-model.h5   100%[===================>]   3.86M  --.-KB/s    in 0.04s   \n",
            "\n",
            "2022-09-10 18:23:34 (93.7 MB/s) - ‘best-cnn-model.h5’ saved [4049416/4049416]\n",
            "\n"
          ]
        }
      ]
    },
    {
      "cell_type": "markdown",
      "source": [
        "체크포인트 파일을 읽어 보겠습니다."
      ],
      "metadata": {
        "id": "Pb8Cex3vdSEw"
      }
    },
    {
      "cell_type": "code",
      "source": [
        "from tensorflow import keras\n",
        "\n",
        "model = keras.models.load_model('best-cnn-model.h5')"
      ],
      "metadata": {
        "id": "KjkWcUQGbfyM"
      },
      "execution_count": null,
      "outputs": []
    },
    {
      "cell_type": "markdown",
      "source": [
        "모델에 추가한 층을 확인해 보겠습니다. 모델의 `layers` 속성에 리스트 형식으로 저장되어 있습니다."
      ],
      "metadata": {
        "id": "l8Dx9P0odUYc"
      }
    },
    {
      "cell_type": "code",
      "source": [
        "model.layers"
      ],
      "metadata": {
        "colab": {
          "base_uri": "https://localhost:8080/"
        },
        "id": "cbMPtomVdXqN",
        "outputId": "afc8685e-7fb2-4af3-a8b1-9899d4dba80d"
      },
      "execution_count": null,
      "outputs": [
        {
          "output_type": "execute_result",
          "data": {
            "text/plain": [
              "[<keras.layers.convolutional.Conv2D at 0x7f24399d0850>,\n",
              " <keras.layers.pooling.MaxPooling2D at 0x7f2435c5fad0>,\n",
              " <keras.layers.convolutional.Conv2D at 0x7f2435c40e90>,\n",
              " <keras.layers.pooling.MaxPooling2D at 0x7f243b155a50>,\n",
              " <keras.layers.core.flatten.Flatten at 0x7f2435bdec50>,\n",
              " <keras.layers.core.dense.Dense at 0x7f2435bdea90>,\n",
              " <keras.layers.core.dropout.Dropout at 0x7f2435bde450>,\n",
              " <keras.layers.core.dense.Dense at 0x7f2435bde250>]"
            ]
          },
          "metadata": {},
          "execution_count": 4
        }
      ]
    },
    {
      "cell_type": "markdown",
      "source": [
        "먼저 처음 합성곱 층의 가중치를 확인하겠습니다. 가중치와 절편은 각 층의 `weights` 속성에 리스트 형식으로 저장되어 있습니다."
      ],
      "metadata": {
        "id": "VTE6r68Uedal"
      }
    },
    {
      "cell_type": "code",
      "source": [
        "conv = model.layers[0]\n",
        "# `weights[0]`은 가중치, `weights[1]`은 절편입니다.\n",
        "print(conv.weights[0])\n",
        "print(conv.weights[1])"
      ],
      "metadata": {
        "colab": {
          "base_uri": "https://localhost:8080/"
        },
        "id": "cEj1_DMpeuHV",
        "outputId": "cc553bcb-4812-4c37-b60f-22177d1c4149"
      },
      "execution_count": null,
      "outputs": [
        {
          "output_type": "stream",
          "name": "stdout",
          "text": [
            "<tf.Variable 'conv2d/kernel:0' shape=(3, 3, 1, 32) dtype=float32, numpy=\n",
            "array([[[[ 2.24588048e-02,  5.65292537e-02, -8.52608621e-01,\n",
            "           5.51108969e-03, -2.84124047e-01,  5.49770594e-02,\n",
            "           1.42099485e-01, -1.35188410e-02, -5.56270957e-01,\n",
            "          -1.61427796e-01, -1.63072810e-01,  7.48860016e-02,\n",
            "          -1.97094038e-01,  3.74589069e-03,  1.17388563e-02,\n",
            "           3.49008739e-01, -5.60458899e-01,  2.95836627e-01,\n",
            "           6.69615567e-02, -7.12780356e-02,  4.99922745e-02,\n",
            "           1.06703136e-02, -4.98783104e-02,  3.04090921e-02,\n",
            "          -3.88760604e-02, -1.53872028e-01,  1.51755556e-01,\n",
            "          -2.00085923e-01,  8.52966532e-02, -6.73547685e-02,\n",
            "           8.74601901e-02, -2.06523493e-01]],\n",
            "\n",
            "        [[ 1.73668079e-02,  2.76921540e-01,  1.56758521e-02,\n",
            "          -1.38880894e-01,  2.31679767e-01,  1.31663650e-01,\n",
            "          -6.39315844e-02,  4.06329334e-02, -5.02456963e-01,\n",
            "           1.28005192e-01,  2.44174451e-01, -1.98248819e-01,\n",
            "           2.77268946e-01,  4.43971157e-03,  6.26336113e-02,\n",
            "          -1.25815734e-01,  1.08388789e-01, -1.19721085e-01,\n",
            "           9.26479250e-02,  7.90223852e-02,  1.46965712e-01,\n",
            "           1.72503397e-01,  1.33275583e-01,  3.11717957e-01,\n",
            "           4.67492715e-02,  2.88876798e-02,  4.73992713e-02,\n",
            "          -8.95214975e-01, -2.03209430e-01, -2.54001766e-01,\n",
            "          -5.88094033e-02,  1.54236719e-01]],\n",
            "\n",
            "        [[-1.11498907e-01,  6.28654053e-03, -2.06420138e-01,\n",
            "           1.85503006e-01,  2.07337916e-01,  9.88674238e-02,\n",
            "          -2.53593177e-01, -1.30623251e-01,  3.22629325e-03,\n",
            "          -3.78436549e-03, -5.47748655e-02,  1.45539492e-01,\n",
            "           2.95069963e-01, -1.86193109e-01, -1.68201681e-02,\n",
            "           2.11085871e-01, -1.43543258e-01, -1.87745497e-01,\n",
            "           1.61038175e-01, -2.66766101e-01, -1.53796718e-01,\n",
            "          -2.02764347e-01, -6.16174266e-02,  1.80682510e-01,\n",
            "           1.97914224e-02,  1.45014256e-01, -5.69685698e-02,\n",
            "           1.30332857e-01, -8.52313042e-02, -3.78732622e-01,\n",
            "          -1.41017824e-01,  8.25114846e-02]]],\n",
            "\n",
            "\n",
            "       [[[ 1.11074455e-01, -1.41212022e+00, -1.16644430e+00,\n",
            "           1.16414679e-02, -2.27213487e-01,  9.66882929e-02,\n",
            "           2.37611651e-01,  8.86178613e-02, -2.91272730e-01,\n",
            "          -2.02066571e-01,  1.41530931e-01, -2.96204150e-01,\n",
            "           2.69307524e-01,  2.63176948e-01, -2.64393222e-02,\n",
            "           1.52638182e-01, -4.37844366e-01,  5.67928925e-02,\n",
            "           3.70325863e-01,  1.71960369e-01, -1.38286152e-03,\n",
            "           1.62087858e-01, -2.06493169e-01,  9.54690203e-03,\n",
            "          -3.49399507e-01, -3.33676487e-01, -1.96347997e-01,\n",
            "           7.36400932e-02,  1.10736497e-01,  2.46699620e-02,\n",
            "           5.28887063e-02, -7.04871565e-02]],\n",
            "\n",
            "        [[ 1.91272125e-01, -3.27133030e-01, -2.21365660e-01,\n",
            "          -2.73943871e-01,  1.19728921e-02,  1.45704105e-01,\n",
            "          -1.67989754e-03,  4.73905094e-02, -2.34464839e-01,\n",
            "          -1.50784075e-01,  2.72126973e-01,  1.42708331e-01,\n",
            "           1.78389758e-01, -2.53575686e-02, -1.48261100e-01,\n",
            "          -4.85006154e-01,  1.49223372e-01,  2.27333277e-01,\n",
            "          -1.50253430e-01,  2.81224847e-01,  2.13837102e-01,\n",
            "           1.97962090e-01,  3.42654526e-01, -2.26020411e-01,\n",
            "           2.71483719e-01,  2.30894536e-01, -3.45670670e-01,\n",
            "          -7.41241932e-01,  2.53680199e-01,  2.04552680e-01,\n",
            "           2.34624539e-02,  2.62477010e-01]],\n",
            "\n",
            "        [[-1.46154761e-01,  1.36977196e-01,  5.95551953e-02,\n",
            "           2.43405640e-01,  2.20144853e-01,  1.59509718e-01,\n",
            "          -3.01943928e-01,  1.05014697e-01, -5.38525395e-02,\n",
            "           1.81843877e-01, -3.91232252e-01,  1.87456414e-01,\n",
            "          -1.88228264e-01, -2.26811677e-01,  2.19625160e-01,\n",
            "           6.17996976e-03,  1.65960848e-01, -2.66018510e-01,\n",
            "          -2.44990483e-01, -1.66391551e-01, -2.84895068e-04,\n",
            "          -3.48049849e-01, -1.49118185e-01, -2.39176452e-01,\n",
            "           7.72415027e-02,  9.46035981e-02, -2.07745835e-01,\n",
            "          -3.18422198e-01,  9.52651426e-02,  1.38903454e-01,\n",
            "           1.19920269e-01, -1.70727775e-01]]],\n",
            "\n",
            "\n",
            "       [[[-1.80196226e-01, -6.30041182e-01, -2.13283807e-01,\n",
            "           7.08905701e-03, -1.15047581e-01, -1.27217034e-02,\n",
            "           1.60113797e-01, -3.50574553e-02,  6.85883537e-02,\n",
            "           3.26176554e-01,  1.52153447e-01,  1.82893761e-02,\n",
            "           3.17750834e-02,  1.92234665e-01, -3.14589500e-01,\n",
            "           7.48235732e-02,  1.15998790e-01, -3.98785979e-01,\n",
            "           1.99933454e-01, -5.93727492e-02, -1.82007015e-01,\n",
            "           2.14074150e-01, -1.61801696e-01,  5.95342703e-02,\n",
            "          -2.96390980e-01, -8.12709406e-02,  1.44885957e-01,\n",
            "           2.85369515e-01, -1.03806317e-01,  5.04928082e-02,\n",
            "          -5.14361784e-02, -7.22209439e-02]],\n",
            "\n",
            "        [[ 2.03204826e-01, -2.16066882e-01,  1.82291687e-01,\n",
            "          -2.21186787e-01, -8.65993351e-02, -1.20689966e-01,\n",
            "           1.23233281e-01,  6.04689755e-02,  1.38576195e-01,\n",
            "           9.84181371e-03, -9.47327390e-02,  1.71570078e-01,\n",
            "          -4.43237334e-01,  6.49662688e-02, -2.77577527e-02,\n",
            "          -2.74577409e-01,  1.18375659e-01,  2.40523726e-01,\n",
            "          -4.10040826e-01,  2.29905233e-01, -3.42483036e-02,\n",
            "          -1.82113722e-01,  2.39682585e-01,  2.47861985e-02,\n",
            "           3.27191949e-01, -1.26767838e-02,  9.32357088e-02,\n",
            "          -8.25637951e-02, -1.37198523e-01,  6.70654103e-02,\n",
            "           1.83920547e-01,  1.75054640e-01]],\n",
            "\n",
            "        [[ 4.20216992e-02,  2.64311194e-01,  1.62375957e-01,\n",
            "           2.02770710e-01,  8.86896774e-02, -1.18500568e-01,\n",
            "          -3.20688747e-02, -1.79974467e-01,  2.56456226e-01,\n",
            "          -2.02298835e-01, -5.56168333e-02, -1.85662583e-01,\n",
            "          -2.98700601e-01,  3.50925028e-02,  3.09546918e-01,\n",
            "          -1.42006502e-01,  4.29851599e-02,  1.57341719e-01,\n",
            "          -3.98131274e-02, -1.46165937e-01,  2.31044851e-02,\n",
            "           1.09075299e-02, -8.05500224e-02, -2.14389771e-01,\n",
            "          -4.05701548e-02,  8.64736363e-02,  3.05693746e-01,\n",
            "           1.70614004e-01,  1.84974968e-01,  1.65996134e-01,\n",
            "           1.46006182e-01, -1.22950561e-01]]]], dtype=float32)>\n",
            "<tf.Variable 'conv2d/bias:0' shape=(32,) dtype=float32, numpy=\n",
            "array([-0.03853422,  0.09091914,  0.09258637, -0.00289096, -0.00962143,\n",
            "       -0.02925124, -0.00843936, -0.00805209,  0.00603464,  0.00051539,\n",
            "       -0.01850378,  0.00103094, -0.00676414, -0.06912167, -0.02607193,\n",
            "       -0.00390364, -0.00302766, -0.00179979, -0.01703539, -0.00660135,\n",
            "       -0.00119761, -0.02363394, -0.00519065, -0.01606657, -0.01181919,\n",
            "       -0.00586764, -0.01332486,  0.07207218, -0.10474525,  0.00286691,\n",
            "       -0.05434637,  0.00552374], dtype=float32)>\n"
          ]
        }
      ]
    },
    {
      "cell_type": "markdown",
      "source": [
        "커널 크기는 (3, 3)이고 입력 깊이는 1이므로 실제 커널 크기는 (3, 3, 1)이며, 필터 개수는 32개이므로 (3, 3, 1, 32)입니다. 아울러 필터 개수에 따라 절편은 32개이므로 (32,)입니다.\n",
        "\n",
        "속성 `weights`를 다루기 쉽도록 넘파이 배열로 변환하고 가중치의 평균과 표준편차를 산출하고 추후에 훈련 전의 가중치와 비교하겠습니다."
      ],
      "metadata": {
        "id": "B4Xc-tKDfFDF"
      }
    },
    {
      "cell_type": "code",
      "source": [
        "conv_weights = conv.weights[0].numpy()\n",
        "print(conv_weights.mean(), conv_weights.std())"
      ],
      "metadata": {
        "colab": {
          "base_uri": "https://localhost:8080/"
        },
        "id": "g4uvIHTCK6fA",
        "outputId": "a562ec58-a372-462f-fa57-1559933748a2"
      },
      "execution_count": null,
      "outputs": [
        {
          "output_type": "stream",
          "name": "stdout",
          "text": [
            "-0.021033935 0.23466988\n"
          ]
        }
      ]
    },
    {
      "cell_type": "markdown",
      "source": [
        "가중치의 분포를 확인하기 위해 히스토그램을 그려 보겠습니다."
      ],
      "metadata": {
        "id": "-uKKHVocLNIC"
      }
    },
    {
      "cell_type": "code",
      "source": [
        "import matplotlib.pyplot as plt\n",
        "\n",
        "plt.hist(conv_weights.reshape(-1, 1))\n",
        "plt.xlabel('weights')\n",
        "plt.ylabel('count')\n",
        "plt.show()"
      ],
      "metadata": {
        "colab": {
          "base_uri": "https://localhost:8080/",
          "height": 279
        },
        "id": "iEVcBE0HMfB_",
        "outputId": "67ff49ca-aa73-40d3-ccb4-49231468192d"
      },
      "execution_count": null,
      "outputs": [
        {
          "output_type": "display_data",
          "data": {
            "text/plain": [
              "<Figure size 432x288 with 1 Axes>"
            ],
            "image/png": "[encoded data removed]"
          },
          "metadata": {
            "needs_background": "light"
          }
        }
      ]
    },
    {
      "cell_type": "markdown",
      "source": [
        "종 모양 형태를 띕니다. 가중치가 무엇을 학습했는지 추후에 훈련 전의 가중치와 비교해 보겠습니다.\n",
        "\n",
        "커널 32개를 16개씩 두 줄로 나타내 보겠습니다. 커널 32개는 가중치 32개와 같은 의미입니다."
      ],
      "metadata": {
        "id": "ryHgGi4oNTWY"
      }
    },
    {
      "cell_type": "code",
      "source": [
        "fig, axs = plt.subplots(2, 16, figsize=(15, 2))\n",
        "for i in range(2):\n",
        "    for j in range(16):\n",
        "        axs[i, j].imshow(conv_weights[:, :, 0, i*16 + j], vmin=-0.5, vmax=0.5)\n",
        "        axs[i, j].axis('off')\n",
        "plt.show()"
      ],
      "metadata": {
        "colab": {
          "base_uri": "https://localhost:8080/",
          "height": 134
        },
        "id": "15b-E59xNna4",
        "outputId": "80e4918b-8eaf-43b6-d647-74d864743dfc"
      },
      "execution_count": null,
      "outputs": [
        {
          "output_type": "display_data",
          "data": {
            "text/plain": [
              "<Figure size 1080x144 with 32 Axes>"
            ],
            "image/png": "[encoded data removed]"
          },
          "metadata": {
            "needs_background": "light"
          }
        }
      ]
    },
    {
      "cell_type": "markdown",
      "source": [
        "`imshow()` 메서드는 배열이 가진 최댓값과 최솟값을 사용하여 픽셀 강도를 표현합니다. 0.1이든 0.4든 어떤 값이든 최댓값이면 가장 밝은 노란색으로 나타냅니다. 어떤 절댓값을 기준으로 삼아 픽셀 강도를 나타내면 비교하기 좋기 때문에 두 배열을 이 메서드로 비교하는 것은 옳지 않습니다. 따라서 매개변수 `vmin`과 `vmax`를 지정하여 컬러맵으로 표현할 범위를 지정했습니다.\n",
        "\n",
        "훈련한 가중치와 훈련하지 않은 가중치를 비교하기 위해 훈련하지 않은 빈 합성곱 신경망을 생성하고 시각화하여 비교해 보겠습니다. "
      ],
      "metadata": {
        "id": "3JN3rcgynbCG"
      }
    },
    {
      "cell_type": "code",
      "source": [
        "no_training_model = keras.Sequential()\n",
        "no_training_model.add(keras.layers.Conv2D(32, kernel_size=3, activation='relu',\n",
        "                                          padding='same', input_shape=(28, 28, 1)))\n",
        "\n",
        "no_training_conv = no_training_model.layers[0]\n",
        "\n",
        "no_training_weights = no_training_conv.weights[0].numpy()\n",
        "\n",
        "plt.hist(no_training_weights.reshape(-1, 1))\n",
        "plt.xlabel('weights')\n",
        "plt.ylabel('count')\n",
        "plt.show()"
      ],
      "metadata": {
        "colab": {
          "base_uri": "https://localhost:8080/",
          "height": 279
        },
        "id": "F1avbgIGomUR",
        "outputId": "4d584e35-3083-4fc2-b9d6-13b651f0adc5"
      },
      "execution_count": null,
      "outputs": [
        {
          "output_type": "display_data",
          "data": {
            "text/plain": [
              "<Figure size 432x288 with 1 Axes>"
            ],
            "image/png": "[encoded data removed]"
          },
          "metadata": {
            "needs_background": "light"
          }
        }
      ]
    },
    {
      "cell_type": "markdown",
      "source": [
        "텐서플로는 신경망의 가중치를 처음 초기화할 때 균등 분포에서 무작위로 값을 선택합니다. 따라서 훈련하지 않은 가중치는 -0.15 ~ 0.15에 고르게 분포되어 있습니다.\n",
        "\n",
        "이 가중치를 위에서 그림으로 출력한 방식처럼 출력하여 비교해 보겠습니다."
      ],
      "metadata": {
        "id": "rv_nA8SfqG1h"
      }
    },
    {
      "cell_type": "code",
      "source": [
        "fig, axs = plt.subplots(2, 16, figsize=(15, 2))\n",
        "for i in range(2):\n",
        "    for j in range(16):\n",
        "        axs[i, j].imshow(no_training_weights[:, :, 0, i*16 + j], vmin=-0.5, vmax=0.5)\n",
        "        axs[i, j].axis('off')\n",
        "plt.show()"
      ],
      "metadata": {
        "colab": {
          "base_uri": "https://localhost:8080/",
          "height": 134
        },
        "id": "iawu9Tigqgm9",
        "outputId": "5c7896ac-f86a-499a-8708-5ed74f1f1add"
      },
      "execution_count": null,
      "outputs": [
        {
          "output_type": "display_data",
          "data": {
            "text/plain": [
              "<Figure size 1080x144 with 32 Axes>"
            ],
            "image/png": "[encoded data removed]"
          },
          "metadata": {
            "needs_background": "light"
          }
        }
      ]
    },
    {
      "cell_type": "markdown",
      "source": [
        "훈련한 가중치와 달리 색 전체가 비슷한 색이거나 별다른 특징이 없습니다. 합성곱 신경망이 분류 정확도를 제고하기 위해 일련의 패턴을 학습했다는 사실을 추론할 수 있습니다."
      ],
      "metadata": {
        "id": "orytxG0oqo67"
      }
    },
    {
      "cell_type": "markdown",
      "source": [
        "## **함수형 API**"
      ],
      "metadata": {
        "id": "dXXGJOUlv08k"
      }
    },
    {
      "cell_type": "markdown",
      "source": [
        "딥러닝에서는 이전까지 생성했던 모델보다 훨씬 더 복잡한 모델이 많습니다. 예컨대 입력이 2개거나 출력이 2개인 경우도 있습니다. 이런 경우는 `Sequential` 클래스를 사용하여 모델을 생성하기 어렵습니다. **함수형 API(functional API)**를 사용하여 모델을 생성해야 합니다. 함수형 API는 케라스의 `Model` 클래스로 모델을 생성합니다. 이전에 생성했던 완전 연결 신경망(밀집층 2개)을 구현해 보겠습니다."
      ],
      "metadata": {
        "id": "Qw2mCoGtPxEg"
      }
    },
    {
      "cell_type": "code",
      "source": [
        "dense1 = keras.layers.Dense(100, activation='sigmoid')\n",
        "dense2 = keras.layers.Dense(10, activation='softmax')"
      ],
      "metadata": {
        "id": "HIB8ky-isTOz"
      },
      "execution_count": null,
      "outputs": []
    },
    {
      "cell_type": "markdown",
      "source": [
        "이 과정까지는 같습니다. 이 인스턴스를 `Sequential` 클래스 인스턴스의 `add()` 메서드에 전달했었습니다. 다음 과정부터는 조금 다릅니다. `dense1` 인스턴스를 함수처럼 호출할 수 있습니다. 케라스의 층은 인스턴스를 함수처럼 호출했을 때 동작할 수 있도록 준비되어 있습니다. "
      ],
      "metadata": {
        "id": "bmNf0w9isd00"
      }
    },
    {
      "cell_type": "code",
      "source": [
        "# `inputs`는 입력값입니다.\n",
        "hidden = dense1(inputs)"
      ],
      "metadata": {
        "id": "O9bS4DIWs2Mh"
      },
      "execution_count": null,
      "outputs": []
    },
    {
      "cell_type": "markdown",
      "source": [
        "이 코드를 실행하면 `inputs`를 밀집층에 통과시키고 출력값 `hidden`을 생성합니다. 함수형 API로 명명한 이유입니다. \n",
        "\n",
        "두 번째 층을 호출해 보겠습니다. 처음 층의 출력을 입력으로 사용하면 됩니다."
      ],
      "metadata": {
        "id": "EKgeFYOWs4vh"
      }
    },
    {
      "cell_type": "code",
      "source": [
        "outputs = dense2(hidden)"
      ],
      "metadata": {
        "id": "rfuMH4C6toPI"
      },
      "execution_count": null,
      "outputs": []
    },
    {
      "cell_type": "markdown",
      "source": [
        "---\n",
        "\n",
        "작업 중\n",
        "\n",
        "---"
      ],
      "metadata": {
        "id": "apqwMKJG3fdY"
      }
    },
    {
      "cell_type": "markdown",
      "source": [
        "## **특성맵 시각화**"
      ],
      "metadata": {
        "id": "-5wgYjRkv06M"
      }
    }
  ]
}