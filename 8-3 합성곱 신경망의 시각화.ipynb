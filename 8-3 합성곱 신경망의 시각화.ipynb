{
  "nbformat": 4,
  "nbformat_minor": 0,
  "metadata": {
    "colab": {
      "name": "8-3 합성곱 신경망의 시각화.ipynb",
      "provenance": [],
      "collapsed_sections": [],
      "authorship_tag": "ABX9TyNuyMXY5hrLHschDBidvx8a",
      "include_colab_link": true
    },
    "kernelspec": {
      "name": "python3",
      "display_name": "Python 3"
    },
    "language_info": {
      "name": "python"
    }
  },
  "cells": [
    {
      "cell_type": "markdown",
      "metadata": {
        "id": "view-in-github",
        "colab_type": "text"
      },
      "source": [
        "<a href=\"https://colab.research.google.com/github/LeeSeungwon89/Deep-learning_Theory/blob/main/8-3%20%ED%95%A9%EC%84%B1%EA%B3%B1%20%EC%8B%A0%EA%B2%BD%EB%A7%9D%EC%9D%98%20%EC%8B%9C%EA%B0%81%ED%99%94.ipynb\" target=\"_parent\"><img src=\"https://colab.research.google.com/assets/colab-badge.svg\" alt=\"Open In Colab\"/></a>"
      ]
    },
    {
      "cell_type": "markdown",
      "source": [
        "# **8-3 합성곱 신경망의 시각화**"
      ],
      "metadata": {
        "id": "Ab3q6PO0v1Bm"
      }
    },
    {
      "cell_type": "markdown",
      "source": [
        "## **가중치 시각화**"
      ],
      "metadata": {
        "id": "bHJBBkETv0-8"
      }
    },
    {
      "cell_type": "markdown",
      "source": [
        "## **함수형 API**"
      ],
      "metadata": {
        "id": "dXXGJOUlv08k"
      }
    },
    {
      "cell_type": "markdown",
      "source": [
        "## **특성맵 시각화**"
      ],
      "metadata": {
        "id": "-5wgYjRkv06M"
      }
    }
  ]
}