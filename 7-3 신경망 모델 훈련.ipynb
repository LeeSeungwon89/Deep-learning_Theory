{
  "nbformat": 4,
  "nbformat_minor": 0,
  "metadata": {
    "colab": {
      "name": "7-3 신경망 모델 훈련.ipynb",
      "provenance": [],
      "collapsed_sections": [],
      "authorship_tag": "ABX9TyOS4xVWFyOyBlF5kEeYEidS",
      "include_colab_link": true
    },
    "kernelspec": {
      "name": "python3",
      "display_name": "Python 3"
    },
    "language_info": {
      "name": "python"
    }
  },
  "cells": [
    {
      "cell_type": "markdown",
      "metadata": {
        "id": "view-in-github",
        "colab_type": "text"
      },
      "source": [
        "<a href=\"https://colab.research.google.com/github/LeeSeungwon89/Deep-learning_Theory/blob/main/7-3%20%EC%8B%A0%EA%B2%BD%EB%A7%9D%20%EB%AA%A8%EB%8D%B8%20%ED%9B%88%EB%A0%A8.ipynb\" target=\"_parent\"><img src=\"https://colab.research.google.com/assets/colab-badge.svg\" alt=\"Open In Colab\"/></a>"
      ]
    },
    {
      "cell_type": "markdown",
      "source": [
        "# **7-3 신경망 모델 훈련**"
      ],
      "metadata": {
        "id": "ErZrLZC4sdl_"
      }
    },
    {
      "cell_type": "markdown",
      "source": [
        "\n",
        "\n",
        "---\n",
        "\n",
        "작업 중\n",
        "\n",
        "---\n",
        "\n"
      ],
      "metadata": {
        "id": "-6laL8UEeGoG"
      }
    },
    {
      "cell_type": "markdown",
      "source": [
        "## **손실 곡선**"
      ],
      "metadata": {
        "id": "P7qiNlq_sdjI"
      }
    },
    {
      "cell_type": "markdown",
      "source": [
        "## **검증 손실**"
      ],
      "metadata": {
        "id": "YGsVYUdhsdgm"
      }
    },
    {
      "cell_type": "markdown",
      "source": [
        "## **드롭아웃**"
      ],
      "metadata": {
        "id": "2rX7l_0dsdeH"
      }
    },
    {
      "cell_type": "markdown",
      "source": [
        "## **모델 저장과 복원**"
      ],
      "metadata": {
        "id": "RrmWaYbEsdbg"
      }
    },
    {
      "cell_type": "markdown",
      "source": [
        "## **콜백**"
      ],
      "metadata": {
        "id": "txcRMbKHsdYX"
      }
    }
  ]
}