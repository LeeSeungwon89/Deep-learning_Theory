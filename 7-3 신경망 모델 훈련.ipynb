{
  "nbformat": 4,
  "nbformat_minor": 0,
  "metadata": {
    "colab": {
      "name": "7-3 신경망 모델 훈련.ipynb",
      "provenance": [],
      "collapsed_sections": [],
      "authorship_tag": "ABX9TyPtOJpAYrV6qPZf++g9Gcbu",
      "include_colab_link": true
    },
    "kernelspec": {
      "name": "python3",
      "display_name": "Python 3"
    },
    "language_info": {
      "name": "python"
    },
    "accelerator": "GPU",
    "gpuClass": "standard"
  },
  "cells": [
    {
      "cell_type": "markdown",
      "metadata": {
        "id": "view-in-github",
        "colab_type": "text"
      },
      "source": [
        "<a href=\"https://colab.research.google.com/github/LeeSeungwon89/Deep-learning_Theory/blob/main/7-3%20%EC%8B%A0%EA%B2%BD%EB%A7%9D%20%EB%AA%A8%EB%8D%B8%20%ED%9B%88%EB%A0%A8.ipynb\" target=\"_parent\"><img src=\"https://colab.research.google.com/assets/colab-badge.svg\" alt=\"Open In Colab\"/></a>"
      ]
    },
    {
      "cell_type": "markdown",
      "source": [
        "# **7-3 신경망 모델 훈련**"
      ],
      "metadata": {
        "id": "ErZrLZC4sdl_"
      }
    },
    {
      "cell_type": "markdown",
      "source": [
        "## **손실 곡선**"
      ],
      "metadata": {
        "id": "P7qiNlq_sdjI"
      }
    },
    {
      "cell_type": "markdown",
      "source": [
        "케라스의 `fit()` 메서드는 `History` 클래스 인스턴스를 반환합니다. 이 인스턴스에 훈련 과정에서 계산한 지표(손실, 정확도)가 담겨 있습니다. 이 지표를 활용하여 그래프를 그릴 수 있습니다.\n",
        "\n",
        "먼저 이전 챕터에서 사용했던 패션 MNIST 데이터 세트를 준비하겠습니다."
      ],
      "metadata": {
        "id": "43NIHd0Vnn3-"
      }
    },
    {
      "cell_type": "code",
      "source": [
        "from tensorflow import keras\n",
        "from sklearn.model_selection import train_test_split\n",
        "(train_input, train_target), (test_input, test_target) = keras.datasets.fashion_mnist.load_data()\n",
        "train_scaled = train_input / 255.0\n",
        "train_scaled, val_scaled, train_target, val_target = train_test_split(train_scaled, train_target,\n",
        "                                                                      test_size=0.2, random_state=42)"
      ],
      "metadata": {
        "colab": {
          "base_uri": "https://localhost:8080/"
        },
        "id": "mutZL1RRPbG8",
        "outputId": "d7d03071-fe4d-40d2-cd67-0893043a15bf"
      },
      "execution_count": 1,
      "outputs": [
        {
          "output_type": "stream",
          "name": "stdout",
          "text": [
            "Downloading data from https://storage.googleapis.com/tensorflow/tf-keras-datasets/train-labels-idx1-ubyte.gz\n",
            "32768/29515 [=================================] - 0s 0us/step\n",
            "40960/29515 [=========================================] - 0s 0us/step\n",
            "Downloading data from https://storage.googleapis.com/tensorflow/tf-keras-datasets/train-images-idx3-ubyte.gz\n",
            "26427392/26421880 [==============================] - 0s 0us/step\n",
            "26435584/26421880 [==============================] - 0s 0us/step\n",
            "Downloading data from https://storage.googleapis.com/tensorflow/tf-keras-datasets/t10k-labels-idx1-ubyte.gz\n",
            "16384/5148 [===============================================================================================] - 0s 0us/step\n",
            "Downloading data from https://storage.googleapis.com/tensorflow/tf-keras-datasets/t10k-images-idx3-ubyte.gz\n",
            "4423680/4422102 [==============================] - 0s 0us/step\n",
            "4431872/4422102 [==============================] - 0s 0us/step\n"
          ]
        }
      ]
    },
    {
      "cell_type": "markdown",
      "source": [
        "모델을 생성하는 함수를 선언해 보겠습니다."
      ],
      "metadata": {
        "id": "J1C0sJHNpfX4"
      }
    },
    {
      "cell_type": "code",
      "source": [
        "def model_fn(a_layer=None):\n",
        "    model = keras.Sequential()\n",
        "    model.add(keras.layers.Flatten(input_shape=(28, 28)))\n",
        "    model.add(keras.layers.Dense(100, activation='relu'))\n",
        "    if a_layer:\n",
        "        model.add(a_layer)\n",
        "    model.add(keras.layers.Dense(10, activation='softmax'))\n",
        "    return model"
      ],
      "metadata": {
        "id": "PIZJOpopQJDI"
      },
      "execution_count": 2,
      "outputs": []
    },
    {
      "cell_type": "markdown",
      "source": [
        "if 구문은 렐루 함수를 적용한 은닉층 뒤에 다른 층 하나를 추가합니다. \n",
        "\n",
        "선언한 함수를 호출하여 이전 챕터에서 생성했던 모델을 동일하게 생성해 보겠습니다(`a_layer` 매개변수에 새로운 층을 추가하지 않습니다)."
      ],
      "metadata": {
        "id": "VJBnBbykpwky"
      }
    },
    {
      "cell_type": "code",
      "source": [
        "model = model_fn()\n",
        "model.summary()"
      ],
      "metadata": {
        "colab": {
          "base_uri": "https://localhost:8080/"
        },
        "id": "UtPDQI4CaJ-a",
        "outputId": "6c90685b-36c6-45cd-985e-c10ec914e8d7"
      },
      "execution_count": 3,
      "outputs": [
        {
          "output_type": "stream",
          "name": "stdout",
          "text": [
            "Model: \"sequential\"\n",
            "_________________________________________________________________\n",
            " Layer (type)                Output Shape              Param #   \n",
            "=================================================================\n",
            " flatten (Flatten)           (None, 784)               0         \n",
            "                                                                 \n",
            " dense (Dense)               (None, 100)               78500     \n",
            "                                                                 \n",
            " dense_1 (Dense)             (None, 10)                1010      \n",
            "                                                                 \n",
            "=================================================================\n",
            "Total params: 79,510\n",
            "Trainable params: 79,510\n",
            "Non-trainable params: 0\n",
            "_________________________________________________________________\n"
          ]
        }
      ]
    },
    {
      "cell_type": "markdown",
      "source": [
        "`fit()` 메서드의 결과를 `history` 변수에 담고 내용을 확인해 보겠습니다."
      ],
      "metadata": {
        "id": "g5EdJ4vOEXYf"
      }
    },
    {
      "cell_type": "code",
      "source": [
        "model.compile(loss='sparse_categorical_crossentropy', metrics='accuracy')\n",
        "# `verbose` 매개변수의 경우 디폴트 `1`은 에포크마다 진행 막대 및 손실 등 지표가 출력되고,\n",
        "# `2`는 진행 막대는 제외하고 출력하며, `0`은 훈련 과정을 생략합니다.\n",
        "history = model.fit(train_scaled, train_target, epochs=5, verbose=0)\n",
        "\n",
        "print(history)\n",
        "print(history.history)\n",
        "print(history.history.keys())"
      ],
      "metadata": {
        "colab": {
          "base_uri": "https://localhost:8080/"
        },
        "id": "Qk-Kl2n-Eel1",
        "outputId": "c2085a4a-49d1-48c8-9ee9-d817444b72ee"
      },
      "execution_count": 4,
      "outputs": [
        {
          "output_type": "stream",
          "name": "stdout",
          "text": [
            "<keras.callbacks.History object at 0x7f66b686dd90>\n",
            "{'loss': [0.5291024446487427, 0.39143067598342896, 0.35455480217933655, 0.333158403635025, 0.31770461797714233], 'accuracy': [0.8146666884422302, 0.859333336353302, 0.8719375133514404, 0.8806041479110718, 0.8860833048820496]}\n",
            "dict_keys(['loss', 'accuracy'])\n"
          ]
        }
      ]
    },
    {
      "cell_type": "markdown",
      "source": [
        "`history` 속성은 손실과 정확도를 가집니다. 정확도는 `compile()` 메서드에 `'accuracy'`로 지정했으므로 속성에 포함된 것입니다.\n",
        "\n",
        "이 속성에 포함된 내용을 그래프로 그려 보겠습니다."
      ],
      "metadata": {
        "id": "G4gNOXTDFV0b"
      }
    },
    {
      "cell_type": "code",
      "source": [
        "import matplotlib.pyplot as plt\n",
        "\n",
        "# 손실을 그래프화합니다.\n",
        "plt.plot(history.history['loss'])\n",
        "plt.xlabel('epoch')\n",
        "plt.ylabel('loss')\n",
        "plt.show()"
      ],
      "metadata": {
        "colab": {
          "base_uri": "https://localhost:8080/",
          "height": 279
        },
        "id": "Evpb29ftF7GO",
        "outputId": "b9ffb672-e034-41d5-fa99-abfe04668137"
      },
      "execution_count": 5,
      "outputs": [
        {
          "output_type": "display_data",
          "data": {
            "text/plain": [
              "<Figure size 432x288 with 1 Axes>"
            ],
            "image/png": "[encoded data removed]"
          },
          "metadata": {
            "needs_background": "light"
          }
        }
      ]
    },
    {
      "cell_type": "code",
      "source": [
        "# 정확도를 그래프화합니다.\n",
        "plt.plot(history.history['accuracy'])\n",
        "plt.xlabel('epoch')\n",
        "plt.ylabel('accuracy')\n",
        "plt.show()"
      ],
      "metadata": {
        "colab": {
          "base_uri": "https://localhost:8080/",
          "height": 279
        },
        "id": "JmmZ0b7uGYbb",
        "outputId": "84f37c04-2ac6-4da0-aabf-798a6171e0df"
      },
      "execution_count": 6,
      "outputs": [
        {
          "output_type": "display_data",
          "data": {
            "text/plain": [
              "<Figure size 432x288 with 1 Axes>"
            ],
            "image/png": "[encoded data removed]"
          },
          "metadata": {
            "needs_background": "light"
          }
        }
      ]
    },
    {
      "cell_type": "markdown",
      "source": [
        "에포크가 증가할수록 성능이 증가합니다.\n",
        "\n",
        "에포크를 20으로 늘린 결과를 그래프화해 보겠습니다."
      ],
      "metadata": {
        "id": "h3Ty2Ui3GfdL"
      }
    },
    {
      "cell_type": "code",
      "source": [
        "model = model_fn()\n",
        "model.compile(loss='sparse_categorical_crossentropy', metrics='accuracy')\n",
        "history = model.fit(train_scaled, train_target, epochs=20, verbose=0)\n",
        "\n",
        "plt.subplot(1, 2, 1)\n",
        "plt.plot(history.history['loss'])\n",
        "plt.xlabel('epoch')\n",
        "plt.ylabel('loss')\n",
        "\n",
        "plt.subplot(1, 2, 2)\n",
        "plt.plot(history.history['accuracy'])\n",
        "plt.xlabel('epoch')\n",
        "plt.ylabel('accuracy')\n",
        "plt.show()"
      ],
      "metadata": {
        "colab": {
          "base_uri": "https://localhost:8080/",
          "height": 279
        },
        "id": "TSlVPThZGoQr",
        "outputId": "4ece568b-0b20-4428-d05d-2b5a1d2128c1"
      },
      "execution_count": 7,
      "outputs": [
        {
          "output_type": "display_data",
          "data": {
            "text/plain": [
              "<Figure size 432x288 with 2 Axes>"
            ],
            "image/png": "[encoded data removed]"
          },
          "metadata": {
            "needs_background": "light"
          }
        }
      ]
    },
    {
      "cell_type": "markdown",
      "source": [
        "## **검증 손실**"
      ],
      "metadata": {
        "id": "YGsVYUdhsdgm"
      }
    },
    {
      "cell_type": "markdown",
      "source": [
        "에포크에 따른 과적합을 판단하려면 검증 데이터 세트에 대한 점수 또한 고려해야 합니다. 인공 신경망 모델의 최적화 대상은 손실 함수입니다. 손실 감소에 비례하여 정확도가 높아지지 않는 경우도 있습니다. 따라서 모델 훈련 정도를 판단하려면 손실 함수 값을 확인하는 편이 좋습니다.\n",
        "\n",
        "에포크마다 검증 손실을 계산하려면 `fit()` 메서드에 검증 데이터를 전달합니다. 코드로 먼저 예시하겠습니다."
      ],
      "metadata": {
        "id": "OLYDbpFsIS3k"
      }
    },
    {
      "cell_type": "code",
      "source": [
        "model = model_fn()\n",
        "model.compile(loss='sparse_categorical_crossentropy', metrics='accuracy')\n",
        "# `validation_data` 매개변수에 검증 데이터 세트를 튜플 형태로 지정합니다.\n",
        "history = model.fit(train_scaled, train_target, epochs=20, verbose=0,\n",
        "                    validation_data=(val_scaled, val_target))\n",
        "print(history.history)\n",
        "print(history.history.keys())"
      ],
      "metadata": {
        "colab": {
          "base_uri": "https://localhost:8080/"
        },
        "id": "h32YEg6-JSOM",
        "outputId": "40d7d015-4112-470d-c376-5481c061cbeb"
      },
      "execution_count": 8,
      "outputs": [
        {
          "output_type": "stream",
          "name": "stdout",
          "text": [
            "{'loss': [0.5265119075775146, 0.39179638028144836, 0.3540659546852112, 0.3318682909011841, 0.3168381452560425, 0.3057212829589844, 0.29746630787849426, 0.28786808252334595, 0.28136810660362244, 0.2732239067554474, 0.26772505044937134, 0.26174384355545044, 0.2566438317298889, 0.2548021972179413, 0.24763506650924683, 0.2437933087348938, 0.24018195271492004, 0.2365282028913498, 0.23097996413707733, 0.2262219488620758], 'accuracy': [0.8141250014305115, 0.8588749766349792, 0.8730000257492065, 0.8803125023841858, 0.8859999775886536, 0.890333354473114, 0.895354151725769, 0.8974375128746033, 0.9007083177566528, 0.9043958187103271, 0.9052083492279053, 0.9087916612625122, 0.911104142665863, 0.9112083315849304, 0.914145827293396, 0.9163125157356262, 0.9175208210945129, 0.9192916750907898, 0.9197083115577698, 0.9223541617393494], 'val_loss': [0.42040055990219116, 0.3885265588760376, 0.3584778308868408, 0.3742852509021759, 0.3587069809436798, 0.36255908012390137, 0.36588001251220703, 0.3583487570285797, 0.40388980507850647, 0.39904096722602844, 0.3595980703830719, 0.390285849571228, 0.40754687786102295, 0.43688029050827026, 0.4443918466567993, 0.4147478938102722, 0.44387954473495483, 0.43803849816322327, 0.45574793219566345, 0.47211146354675293], 'val_accuracy': [0.8488333225250244, 0.8585833311080933, 0.8692499995231628, 0.8745833039283752, 0.8785833120346069, 0.8790000081062317, 0.8791666626930237, 0.8833333253860474, 0.871999979019165, 0.8762500286102295, 0.887333333492279, 0.8810833096504211, 0.8824999928474426, 0.8815000057220459, 0.8772500157356262, 0.8877500295639038, 0.8811666369438171, 0.8863333463668823, 0.8837500214576721, 0.8838333487510681]}\n",
            "dict_keys(['loss', 'accuracy', 'val_loss', 'val_accuracy'])\n"
          ]
        }
      ]
    },
    {
      "cell_type": "markdown",
      "source": [
        "검증 데이터 세트에 대한 손실과 정확도가 추가됐습니다.\n",
        "\n",
        "이 요소들을 그래프로 그려보겠습니다."
      ],
      "metadata": {
        "id": "KL0F0KNGJt1p"
      }
    },
    {
      "cell_type": "code",
      "source": [
        "plt.plot(history.history['loss'])\n",
        "plt.plot(history.history['val_loss'])\n",
        "plt.xlabel('epoch')\n",
        "plt.ylabel('loss')\n",
        "plt.legend(['train', 'val'])\n",
        "plt.show()"
      ],
      "metadata": {
        "colab": {
          "base_uri": "https://localhost:8080/",
          "height": 279
        },
        "id": "_IorJ73VKxML",
        "outputId": "55ca5bcc-d52a-48cf-8fb6-ee5445779a56"
      },
      "execution_count": 9,
      "outputs": [
        {
          "output_type": "display_data",
          "data": {
            "text/plain": [
              "<Figure size 432x288 with 1 Axes>"
            ],
            "image/png": "[encoded data removed]"
          },
          "metadata": {
            "needs_background": "light"
          }
        }
      ]
    },
    {
      "cell_type": "markdown",
      "source": [
        "훈련 손실은 꾸준히 증가하는 반면 검증 손실은 일정 구간까지 하강하다가 상승합니다. 검증 손실이 상승하는 시점을 최대한 뒤로 늦추면 검증 손실이 줄어들고 정확도도 증가합니다.\n",
        "\n",
        "과대적합을 막기 위한 여러 방법이 존재합니다. 그 중에 먼저 옵티마이저의 매개변수를 조정하여 과대적합을 완화해 보겠습니다. 기본 RMSprop 옵티마이저는 여러 케이스에서 잘 작동합니다만, 다른 옵티마이저를 적용한다면 우선 Adam을 선택하는 편이 좋습니다. Adam은 적응적 학습률을 사용하므로 에포크에 진행됨에 따라 학습률 크기를 조정합니다. 일단 Adam 옵티마이저를 적용해 보겠습니다."
      ],
      "metadata": {
        "id": "vEimASPdLKAQ"
      }
    },
    {
      "cell_type": "code",
      "source": [
        "model = model_fn()\n",
        "model.compile(optimizer='adam', loss='sparse_categorical_crossentropy', metrics='accuracy')\n",
        "history = model.fit(train_scaled, train_target, epochs=20, verbose=0,\n",
        "                    validation_data=(val_scaled, val_target))\n",
        "\n",
        "plt.plot(history.history['loss'])\n",
        "plt.plot(history.history['val_loss'])\n",
        "plt.xlabel('epoch')\n",
        "plt.ylabel('loss')\n",
        "plt.legend(['train', 'val'])\n",
        "plt.show()"
      ],
      "metadata": {
        "colab": {
          "base_uri": "https://localhost:8080/",
          "height": 279
        },
        "id": "KMByC6o1Mk58",
        "outputId": "4775f7db-0e45-4009-d679-f823531c1aeb"
      },
      "execution_count": 11,
      "outputs": [
        {
          "output_type": "display_data",
          "data": {
            "text/plain": [
              "<Figure size 432x288 with 1 Axes>"
            ],
            "image/png": "[encoded data removed]"
          },
          "metadata": {
            "needs_background": "light"
          }
        }
      ]
    },
    {
      "cell_type": "markdown",
      "source": [
        "이전보다 검증 손실 그래프가 하강하고 있으며 과대적합이 많이 줄어들었습니다. Adam 옵티마이저가 적합한 것으로 사료됩니다. 여기서 추가로 더 해볼 수 있는 작업은 학습률 조정입니다. 일단 생략하고 넘어가겠습니다."
      ],
      "metadata": {
        "id": "d0GGZvIdNcGs"
      }
    },
    {
      "cell_type": "markdown",
      "source": [
        "## **드롭아웃**"
      ],
      "metadata": {
        "id": "2rX7l_0dsdeH"
      }
    },
    {
      "cell_type": "markdown",
      "source": [
        "\n",
        "\n",
        "---\n",
        "\n",
        "작업 중\n",
        "\n",
        "---\n",
        "\n"
      ],
      "metadata": {
        "id": "2d6HADOtPLgC"
      }
    },
    {
      "cell_type": "markdown",
      "source": [
        "## **모델 저장과 복원**"
      ],
      "metadata": {
        "id": "RrmWaYbEsdbg"
      }
    },
    {
      "cell_type": "markdown",
      "source": [
        "## **콜백**"
      ],
      "metadata": {
        "id": "txcRMbKHsdYX"
      }
    }
  ]
}