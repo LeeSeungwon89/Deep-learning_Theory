{
  "nbformat": 4,
  "nbformat_minor": 0,
  "metadata": {
    "colab": {
      "provenance": [],
      "collapsed_sections": [],
      "authorship_tag": "ABX9TyOgbR5D8j2b5QhosoBBCIdR",
      "include_colab_link": true
    },
    "kernelspec": {
      "name": "python3",
      "display_name": "Python 3"
    },
    "language_info": {
      "name": "python"
    }
  },
  "cells": [
    {
      "cell_type": "markdown",
      "metadata": {
        "id": "view-in-github",
        "colab_type": "text"
      },
      "source": [
        "<a href=\"https://colab.research.google.com/github/LeeSeungwon89/Deep-learning_Theory/blob/main/8-2%20%ED%95%A9%EC%84%B1%EA%B3%B1%20%EC%8B%A0%EA%B2%BD%EB%A7%9D%EC%9D%84%20%EC%82%AC%EC%9A%A9%ED%95%9C%20%EC%9D%B4%EB%AF%B8%EC%A7%80%20%EB%B6%84%EB%A5%98.ipynb\" target=\"_parent\"><img src=\"https://colab.research.google.com/assets/colab-badge.svg\" alt=\"Open In Colab\"/></a>"
      ]
    },
    {
      "cell_type": "markdown",
      "source": [
        "# **8-2 합성곱 신경망을 사용한 이미지 분류**"
      ],
      "metadata": {
        "id": "aTgwind6vTCC"
      }
    },
    {
      "cell_type": "markdown",
      "source": [
        "## **패션 MNIST 데이터 불러오기**"
      ],
      "metadata": {
        "id": "FEK4oPjSvS_P"
      }
    },
    {
      "cell_type": "markdown",
      "source": [
        "패션 MNIST 데이터를 준비하겠습니다. 다만 이전 챕터에서 수행했던 전처리 과정과 다른 부분이 있습니다. 완전 연결 신경망에서는 입력 이미지를 밀집층에 연결하기 위해 `reshape()` 메서드나 `Flatten` 클래스를 사용하여 일렬로 펼쳤습니다. 그러나 합성곱 신경망에서는 2차원 이미지를 바로 사용하므로 일렬로 펼치는 작업을 수행할 필요가 없습니다. 다만 입력 이미지는 깊이 차원(채널)이 있어야 합니다. 흑백 이미지는 채널 차원이 없는 2차원 배열이지만 `Conv2D` 층을 사용하려면 마지막에 채널 차원을 추가해야 합니다. `reshape()` 메서드를 사용하면 전체 배열 차원을 그대로 유지하면서 차원만 추가할 수 있습니다.\n",
        "\n",
        "데이터를 준비하겠습니다."
      ],
      "metadata": {
        "id": "FqoSsqqm0IwS"
      }
    },
    {
      "cell_type": "code",
      "source": [
        "from tensorflow import keras\n",
        "from sklearn.model_selection import train_test_split\n",
        "\n",
        "(train_input, train_target), (test_input, test_target) = keras.datasets.fashion_mnist.load_data()\n",
        "# 기존 (48000, 28, 28) 3차원 배열을 (48000, 28, 28, 1) 4차원 배열로 차원을 바꿉니다.\n",
        "# 데이터 스케일을 0 ~ 1 사이로 바꾸기 위해 255로 나눕니다.\n",
        "train_scaled = train_input.reshape(-1, 28, 28, 1) / 255.0\n",
        "train_scaled, val_scaled, train_target, val_target = train_test_split(train_scaled, train_target,\n",
        "                                                                      test_size=0.2, random_state=42)"
      ],
      "metadata": {
        "colab": {
          "base_uri": "https://localhost:8080/"
        },
        "id": "FWy7mJNo1snG",
        "outputId": "eea59135-e67c-48cb-8d61-8f6dc1a5533c"
      },
      "execution_count": 1,
      "outputs": [
        {
          "output_type": "stream",
          "name": "stdout",
          "text": [
            "Downloading data from https://storage.googleapis.com/tensorflow/tf-keras-datasets/train-labels-idx1-ubyte.gz\n",
            "32768/29515 [=================================] - 0s 0us/step\n",
            "40960/29515 [=========================================] - 0s 0us/step\n",
            "Downloading data from https://storage.googleapis.com/tensorflow/tf-keras-datasets/train-images-idx3-ubyte.gz\n",
            "26427392/26421880 [==============================] - 0s 0us/step\n",
            "26435584/26421880 [==============================] - 0s 0us/step\n",
            "Downloading data from https://storage.googleapis.com/tensorflow/tf-keras-datasets/t10k-labels-idx1-ubyte.gz\n",
            "16384/5148 [===============================================================================================] - 0s 0us/step\n",
            "Downloading data from https://storage.googleapis.com/tensorflow/tf-keras-datasets/t10k-images-idx3-ubyte.gz\n",
            "4423680/4422102 [==============================] - 0s 0us/step\n",
            "4431872/4422102 [==============================] - 0s 0us/step\n"
          ]
        }
      ]
    },
    {
      "cell_type": "markdown",
      "source": [
        "## **합성곱 신경망 만들기**"
      ],
      "metadata": {
        "id": "6elIy_1xvS8g"
      }
    },
    {
      "cell_type": "markdown",
      "source": [
        "\n",
        "\n",
        "---\n",
        "\n",
        "작업 중\n",
        "\n",
        "---\n",
        "\n"
      ],
      "metadata": {
        "id": "yNOpHxmU72WT"
      }
    },
    {
      "cell_type": "markdown",
      "source": [
        "## **모델 컴파일과 훈련**"
      ],
      "metadata": {
        "id": "2LlxUQJKvS5x"
      }
    }
  ]
}