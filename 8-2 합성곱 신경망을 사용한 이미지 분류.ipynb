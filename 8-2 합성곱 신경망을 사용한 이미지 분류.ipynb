{
  "nbformat": 4,
  "nbformat_minor": 0,
  "metadata": {
    "colab": {
      "name": "8-2 합성곱 신경망을 사용한 이미지 분류.ipynb",
      "provenance": [],
      "authorship_tag": "ABX9TyM8xqPBk3LN67xmPgg9ztsf",
      "include_colab_link": true
    },
    "kernelspec": {
      "name": "python3",
      "display_name": "Python 3"
    },
    "language_info": {
      "name": "python"
    }
  },
  "cells": [
    {
      "cell_type": "markdown",
      "metadata": {
        "id": "view-in-github",
        "colab_type": "text"
      },
      "source": [
        "<a href=\"https://colab.research.google.com/github/LeeSeungwon89/Deep-learning_Theory/blob/main/8-2%20%ED%95%A9%EC%84%B1%EA%B3%B1%20%EC%8B%A0%EA%B2%BD%EB%A7%9D%EC%9D%84%20%EC%82%AC%EC%9A%A9%ED%95%9C%20%EC%9D%B4%EB%AF%B8%EC%A7%80%20%EB%B6%84%EB%A5%98.ipynb\" target=\"_parent\"><img src=\"https://colab.research.google.com/assets/colab-badge.svg\" alt=\"Open In Colab\"/></a>"
      ]
    },
    {
      "cell_type": "markdown",
      "source": [
        "# **8-2 합성곱 신경망을 사용한 이미지 분류**"
      ],
      "metadata": {
        "id": "aTgwind6vTCC"
      }
    },
    {
      "cell_type": "markdown",
      "source": [
        "## **패션 MNIST 데이터 불러오기**"
      ],
      "metadata": {
        "id": "FEK4oPjSvS_P"
      }
    },
    {
      "cell_type": "markdown",
      "source": [
        "## **합성곱 신경망 만들기**"
      ],
      "metadata": {
        "id": "6elIy_1xvS8g"
      }
    },
    {
      "cell_type": "markdown",
      "source": [
        "## **모델 컴파일과 훈련**"
      ],
      "metadata": {
        "id": "2LlxUQJKvS5x"
      }
    }
  ]
}