{
  "nbformat": 4,
  "nbformat_minor": 0,
  "metadata": {
    "colab": {
      "provenance": [],
      "collapsed_sections": [],
      "authorship_tag": "ABX9TyOGdEW9V73m6EE5sXa71w7L",
      "include_colab_link": true
    },
    "kernelspec": {
      "name": "python3",
      "display_name": "Python 3"
    },
    "language_info": {
      "name": "python"
    }
  },
  "cells": [
    {
      "cell_type": "markdown",
      "metadata": {
        "id": "view-in-github",
        "colab_type": "text"
      },
      "source": [
        "<a href=\"https://colab.research.google.com/github/LeeSeungwon89/Deep-learning_Theory/blob/main/8-2%20%ED%95%A9%EC%84%B1%EA%B3%B1%20%EC%8B%A0%EA%B2%BD%EB%A7%9D%EC%9D%84%20%EC%82%AC%EC%9A%A9%ED%95%9C%20%EC%9D%B4%EB%AF%B8%EC%A7%80%20%EB%B6%84%EB%A5%98.ipynb\" target=\"_parent\"><img src=\"https://colab.research.google.com/assets/colab-badge.svg\" alt=\"Open In Colab\"/></a>"
      ]
    },
    {
      "cell_type": "markdown",
      "source": [
        "# **8-2 합성곱 신경망을 사용한 이미지 분류**"
      ],
      "metadata": {
        "id": "aTgwind6vTCC"
      }
    },
    {
      "cell_type": "markdown",
      "source": [
        "## **패션 MNIST 데이터 불러오기**"
      ],
      "metadata": {
        "id": "FEK4oPjSvS_P"
      }
    },
    {
      "cell_type": "markdown",
      "source": [
        "패션 MNIST 데이터를 준비하겠습니다. 다만 이전 챕터에서 수행했던 전처리 과정과 다른 부분이 있습니다. 완전 연결 신경망에서는 입력 이미지를 밀집층에 연결하기 위해 `reshape()` 메서드나 `Flatten` 클래스를 사용하여 일렬로 펼쳤습니다. 그러나 합성곱 신경망에서는 2차원 이미지를 바로 사용하므로 일렬로 펼치는 작업을 수행할 필요가 없습니다. 다만 입력 이미지는 깊이 차원(채널)이 있어야 합니다. 흑백 이미지는 채널 차원이 없는 2차원 배열이지만 `Conv2D` 층을 사용하려면 마지막에 채널 차원을 추가해야 합니다. `reshape()` 메서드를 사용하면 전체 배열 차원을 그대로 유지하면서 차원만 추가할 수 있습니다.\n",
        "\n",
        "데이터를 준비하겠습니다."
      ],
      "metadata": {
        "id": "FqoSsqqm0IwS"
      }
    },
    {
      "cell_type": "code",
      "source": [
        "from tensorflow import keras\n",
        "from sklearn.model_selection import train_test_split\n",
        "\n",
        "(train_input, train_target), (test_input, test_target) = keras.datasets.fashion_mnist.load_data()\n",
        "# 기존 (48000, 28, 28) 3차원 배열을 (48000, 28, 28, 1) 4차원 배열로 차원을 바꿉니다.\n",
        "# 데이터 스케일을 0 ~ 1 사이로 바꾸기 위해 255로 나눕니다.\n",
        "train_scaled = train_input.reshape(-1, 28, 28, 1) / 255.0\n",
        "train_scaled, val_scaled, train_target, val_target = train_test_split(train_scaled, train_target,\n",
        "                                                                      test_size=0.2, random_state=42)"
      ],
      "metadata": {
        "colab": {
          "base_uri": "https://localhost:8080/"
        },
        "id": "FWy7mJNo1snG",
        "outputId": "a4bff08c-de71-4a60-baeb-a837976991a4"
      },
      "execution_count": 1,
      "outputs": [
        {
          "output_type": "stream",
          "name": "stdout",
          "text": [
            "Downloading data from https://storage.googleapis.com/tensorflow/tf-keras-datasets/train-labels-idx1-ubyte.gz\n",
            "32768/29515 [=================================] - 0s 0us/step\n",
            "40960/29515 [=========================================] - 0s 0us/step\n",
            "Downloading data from https://storage.googleapis.com/tensorflow/tf-keras-datasets/train-images-idx3-ubyte.gz\n",
            "26427392/26421880 [==============================] - 0s 0us/step\n",
            "26435584/26421880 [==============================] - 0s 0us/step\n",
            "Downloading data from https://storage.googleapis.com/tensorflow/tf-keras-datasets/t10k-labels-idx1-ubyte.gz\n",
            "16384/5148 [===============================================================================================] - 0s 0us/step\n",
            "Downloading data from https://storage.googleapis.com/tensorflow/tf-keras-datasets/t10k-images-idx3-ubyte.gz\n",
            "4423680/4422102 [==============================] - 0s 0us/step\n",
            "4431872/4422102 [==============================] - 0s 0us/step\n"
          ]
        }
      ]
    },
    {
      "cell_type": "markdown",
      "source": [
        "## **합성곱 신경망 만들기**"
      ],
      "metadata": {
        "id": "6elIy_1xvS8g"
      }
    },
    {
      "cell_type": "markdown",
      "source": [
        "`Sequential` 클래스의 인스턴스를 생성하여 처음 합성곱 층인 `Conv2D`를 추가하겠습니다."
      ],
      "metadata": {
        "id": "yNOpHxmU72WT"
      }
    },
    {
      "cell_type": "code",
      "source": [
        "model = keras.Sequential()\n",
        "# 필터 32개, 커널 (3, 3), 렐루 함수, 세임 페딩을 지정합니다.\n",
        "# 커널의 경우 (3, 3)처럼 가로세로 크기가 같으면 `3`을 지정해도 됩니다.\n",
        "model.add(keras.layers.Conv2D(32, kernel_size=3, activation='relu', padding='same',\n",
        "                              input_shape=(28, 28, 1)))"
      ],
      "metadata": {
        "id": "2arpoXMEDX0-"
      },
      "execution_count": 2,
      "outputs": []
    },
    {
      "cell_type": "markdown",
      "source": [
        "입력 차원을 `(28, 28)`이 아닌 `(28, 28, 1)`을 지정한 이유는 위 전처리 과정에서 기존 이미지를 4차원인 (48000, 28, 28, 1)로 변경했기 때문입니다.\n",
        "\n",
        "풀링 층을 추가하겠습니다."
      ],
      "metadata": {
        "id": "8URpbPLfEO-A"
      }
    },
    {
      "cell_type": "code",
      "source": [
        "# 전형적인 풀링 크기인 (2, 2)를 지정합니다.\n",
        "# `Conv2D` 클래스처럼 가로세로 크기가 같으므로 `2`를 지정해도 됩니다.\n",
        "model.add(keras.layers.MaxPooling2D(2))"
      ],
      "metadata": {
        "id": "FWrzutWZEJHf"
      },
      "execution_count": 3,
      "outputs": []
    },
    {
      "cell_type": "markdown",
      "source": [
        "(28, 28) 이미지에 세임 패딩을 적용했으므로 합성곱 층에서 출력된 특성 맵의 가로세로 크기는 입력과 동일합니다. 여기에 (2, 2) 풀링을 적용했으므로 특성 맵 크기는 절반으로 축소됩니다. 아울러 합성곱 층에서 필터 32개를 사용했으므로 특성 맵 깊이는 32입니다. 궁극적으로 특성 맵 크기는 (14, 14, 32)가 됩니다.\n",
        "\n",
        "처음 합성곱-풀링 층 다음에 새로운 합성곱-풀링 층을 추가해 보겠습니다."
      ],
      "metadata": {
        "id": "qU0_YfqGFsl9"
      }
    },
    {
      "cell_type": "code",
      "source": [
        "# 두 번째 층부터는 입력을 지정하지 않습니다. \n",
        "model.add(keras.layers.Conv2D(64, kernel_size=3, activation='relu', padding='same'))\n",
        "model.add(keras.layers.MaxPooling2D(2))"
      ],
      "metadata": {
        "id": "5xvZ_P03Gb_9"
      },
      "execution_count": 4,
      "outputs": []
    },
    {
      "cell_type": "markdown",
      "source": [
        "세임 패딩을 적용했으므로 입력의 가로세로 크기는 그대로입니다. 풀링 층에서 크기를 절반으로 줄이는 것입니다. 필터 64개를 사용했으므로 특성 맵 크기는 (7, 7, 64)가 됩니다.\n",
        "\n",
        "특성 맵을 일렬로 펼치겠습니다. 유닛 10개를 가진 밀집 출력층에서 확률을 계산하기 때문입니다. 여기서는 특성 맵을 일렬로 펼치고 밀집 은닉층 하나를 추가해 보겠습니다. "
      ],
      "metadata": {
        "id": "hY2PofrCG1NJ"
      }
    },
    {
      "cell_type": "code",
      "source": [
        "model.add(keras.layers.Flatten())\n",
        "model.add(keras.layers.Dense(100, activation='relu'))\n",
        "# 드롭아웃 층을 추가하여 은닉층의 과대적합을 방지합니다.\n",
        "model.add(keras.layers.Dropout(0.4))\n",
        "# 다중 분류이므로 소프트맥스 함수를 사용합니다.\n",
        "model.add(keras.layers.Dense(10, activation='softmax'))"
      ],
      "metadata": {
        "id": "4MDsU3RxHZ8a"
      },
      "execution_count": 5,
      "outputs": []
    },
    {
      "cell_type": "markdown",
      "source": [
        "모델 구조를 확인해 보겠습니다."
      ],
      "metadata": {
        "id": "2T4GYh2-IECJ"
      }
    },
    {
      "cell_type": "code",
      "source": [
        "model.summary()"
      ],
      "metadata": {
        "colab": {
          "base_uri": "https://localhost:8080/"
        },
        "id": "lNXvrCQ5IG5V",
        "outputId": "989d4f1f-2835-4fde-e89c-313e843c1794"
      },
      "execution_count": 6,
      "outputs": [
        {
          "output_type": "stream",
          "name": "stdout",
          "text": [
            "Model: \"sequential\"\n",
            "_________________________________________________________________\n",
            " Layer (type)                Output Shape              Param #   \n",
            "=================================================================\n",
            " conv2d (Conv2D)             (None, 28, 28, 32)        320       \n",
            "                                                                 \n",
            " max_pooling2d (MaxPooling2D  (None, 14, 14, 32)       0         \n",
            " )                                                               \n",
            "                                                                 \n",
            " conv2d_1 (Conv2D)           (None, 14, 14, 64)        18496     \n",
            "                                                                 \n",
            " max_pooling2d_1 (MaxPooling  (None, 7, 7, 64)         0         \n",
            " 2D)                                                             \n",
            "                                                                 \n",
            " flatten (Flatten)           (None, 3136)              0         \n",
            "                                                                 \n",
            " dense (Dense)               (None, 100)               313700    \n",
            "                                                                 \n",
            " dropout (Dropout)           (None, 100)               0         \n",
            "                                                                 \n",
            " dense_1 (Dense)             (None, 10)                1010      \n",
            "                                                                 \n",
            "=================================================================\n",
            "Total params: 333,526\n",
            "Trainable params: 333,526\n",
            "Non-trainable params: 0\n",
            "_________________________________________________________________\n"
          ]
        }
      ]
    },
    {
      "cell_type": "markdown",
      "source": [
        "합성곱 층과 풀링 층이 적절하게 배치됐습니다. 처음 합성곱 층에서 32였던 깊이가 두 번째 합성곱 층에서 64로 두 배 증가하고, 28이었던 가로세로 크기는 절반으로 줄고 다시 절반으로 줍니다. 최종 특성 맵 크기는 (7, 7, 64)입니다.\n",
        "\n",
        "모델 파라미터 개수는 처음 합성곱 층의 경우 필터는 32개, 크기는 (3, 3), 깊이는 1, 절편은 32개(필터 개수와 같음)이므로 총 320개(3 x 3 x 1 x 32 + 32)입니다. 두 번째 합성곱 층의 경우 필터는 64개, 크기는 (3, 3), 깊이는 32, 절편은 64개이므로 18,496개(3 x 3 x 32 x 64 + 64)입니다.\n",
        "\n",
        "은닉층의 경우 `Flatten` 클래스로 특성 맵 (7, 7, 64)를 1차원으로 펼치면 (3146,)이 되고, 이를 유닛 100개와 연결하면 파라미터 개수는 313,700개(3,136 x 100 + 100)입니다. 출력층의 경우 유닛 10개와 연결하면 1010개(100 x 10 + 10)입니다.\n",
        "\n",
        "층의 구성을 다른 방식으로 확인해 보겠습니다. 케라스의 `utils` 모듈이 가진 `plot_model()` 메서드는 층의 구성을 그림으로 표현합니다. "
      ],
      "metadata": {
        "id": "XvzhfOuqJIZf"
      }
    },
    {
      "cell_type": "code",
      "source": [
        "keras.utils.plot_model(model)"
      ],
      "metadata": {
        "colab": {
          "base_uri": "https://localhost:8080/",
          "height": 856
        },
        "id": "Ou82hC9AMZVh",
        "outputId": "2c62c07d-e392-4859-9ac4-07f8df528747"
      },
      "execution_count": 7,
      "outputs": [
        {
          "output_type": "execute_result",
          "data": {
            "image/png": "[encoded data removed]",
            "text/plain": [
              "<IPython.core.display.Image object>"
            ]
          },
          "metadata": {},
          "execution_count": 7
        }
      ]
    },
    {
      "cell_type": "markdown",
      "source": [
        "\n",
        "\n",
        "---\n",
        "\n",
        "작업 중\n",
        "\n",
        "---\n",
        "\n"
      ],
      "metadata": {
        "id": "1fkK_wUyMqea"
      }
    },
    {
      "cell_type": "markdown",
      "source": [
        "## **모델 컴파일과 훈련**"
      ],
      "metadata": {
        "id": "2LlxUQJKvS5x"
      }
    }
  ]
}